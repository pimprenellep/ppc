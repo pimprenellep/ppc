{
 "cells": [
  {
   "cell_type": "markdown",
   "metadata": {},
   "source": [
    "<h1> Réalisation d’un mini solveur de CSP binaires</h1>\n",
    "Master MPRO parmentier-zribi"
   ]
  },
  {
   "cell_type": "code",
   "execution_count": 11,
   "metadata": {},
   "outputs": [],
   "source": [
    "# -*- coding: utf-8 -*-\n",
    "import time\n",
    "import timeit\n",
    "import random"
   ]
  },
  {
   "cell_type": "code",
   "execution_count": 12,
   "metadata": {},
   "outputs": [],
   "source": [
    "variables=dict()\n",
    "variables={}\n",
    "variables[\"x1\"]=[1,2]\n",
    "variables[\"x2\"]=[1,2]\n",
    "contraintes=[[(\"x1\",\"x2\"),[(1,2),(2,2)]]]\n",
    "instance=dict()\n",
    "instance={}\n",
    "#instance[\"x1\"]=2\n",
    "#instance[\"x2\"]=1\n",
    "#0: faux, 1: vérifié 2: incomplet\n"
   ]
  },
  {
   "cell_type": "code",
   "execution_count": 13,
   "metadata": {},
   "outputs": [
    {
     "name": "stdout",
     "output_type": "stream",
     "text": [
      "1\n"
     ]
    }
   ],
   "source": [
    "\"\"\"Checkconstraint sur une instance partielle\"\"\"\n",
    "#Instance partielle: couple de valeurs pour x1, x2.\n",
    "#{'x1':1,'x2':2}\n",
    "#Pour tout checker, for loop sur les instances partielles, contraintes.\n",
    "# ici constraint est de la forme [('x1', 'x2'), [(1, 2), (2, 2)]\n",
    "# par ex contraintes[0]\n",
    "def checkConstraint(constraint,instance):\n",
    "    var1=constraint[0][0]\n",
    "    var2=constraint[0][1]\n",
    "    #print('var1 check: ',var1)\n",
    "    #print('var2 check: ',var2)\n",
    "    #print('instance keys ', instance.keys())\n",
    "    if var1 in instance.keys() and var2 in instance.keys():\n",
    "        for j in constraint[1]:\n",
    "            if j[0]==instance[var1] and j[1]==instance[var2]:\n",
    "                return(1)\n",
    "        return(0)\n",
    "    else:\n",
    "        return(2)\n",
    "        \n",
    "\n",
    "print(checkConstraint(contraintes[0],{'x1':1,'x2':2}))"
   ]
  },
  {
   "cell_type": "code",
   "execution_count": 24,
   "metadata": {},
   "outputs": [],
   "source": [
    "\"Heuristics for variable selection in backtracking algorithm\"\n",
    "def strategy_selection_1(variables,instance):\n",
    "    #The minimum index\n",
    "     for x in variables.keys():\n",
    "        if not(x in instance.keys()):\n",
    "            return x\n",
    "def strategy_selection_2(variables,instance):\n",
    "    #The maximum index\n",
    "     for x in sorted(list(variables.keys()),reverse=True):\n",
    "        if not(x in instance.keys()):\n",
    "            return x        \n",
    "def strategy_selection_3(variables,instance):\n",
    "    #Most constrained variable, min domain\n",
    "    #Minimum remaining values variable first    \n",
    "    keys_var_dict=list(variables.keys())\n",
    "    values_list=list(variables.values())\n",
    "    values_list_card=[len(i) for i in values_list]\n",
    "    keys_var_dict_in_order=[keys_list for _,keys_list in sorted(zip(values_list_card,keys_list))]\n",
    "    for x in keys_var_dict_in_order:\n",
    "        if not(x in instance.keys()):\n",
    "            return x\n",
    "        \n",
    "#pre-processing à faire avant de lancer le backtrack\n",
    "def build_dict_var_number_constraints(variables,constraints):\n",
    "    dict_var_number_constraints=dict()\n",
    "    for var in variables.keys():\n",
    "        dict_var_number_constraints[var]=0\n",
    "    for var in variables.keys():\n",
    "        for c in constraints:\n",
    "            if var in c[0]:\n",
    "                dict_var_number_constraints[var]+=1\n",
    "    return dict_var_number_constraints\n",
    "\n",
    "def strategy_selection_4(variables,instance,dict_var_number_constraints=False):\n",
    "    #Most constraining variable\n",
    "    #variable with most constraints on remaining variables\n",
    "    #most edges in graph \n",
    "    #remaining_keys_variables=list(set(variables.keys())-set(instance.keys()))\n",
    "    #build_dict_var_number_constraintsn pre-processing..\n",
    "    if not dict_var_number_constraints:\n",
    "        dict_var_number_constraints=build_dict_var_number_constraints(variables,constraints)\n",
    "    elif isinstance(dict_var_number_constraints, dict):\n",
    "        list_var_in_order=sorted(dict_var_number_constraints.items(),key=lambda t:t[1],reverse=True)\n",
    "        list_var_in_order=[i[0] for i in list_var_in_order ]\n",
    "        for x in list_var_in_order:\n",
    "            if not(x in instance.keys()):\n",
    "                return x\n",
    "    else:\n",
    "        return False\n",
    "                \n",
    "def strategy_selection_5(variables,instance,dict_var_number_constraints=False):\n",
    "    #least constraining value heuristic\n",
    "    if not dict_var_number_constraints:\n",
    "        dict_var_number_constraints=build_dict_var_number_constraints(variables,constraints)\n",
    "    elif isinstance(dict_var_number_constraints, dict):\n",
    "        list_var_in_order=sorted(dict_var_number_constraints.items(),key=lambda t:t[1],reverse=False)\n",
    "        list_var_in_order=[i[0] for i in list_var_in_order ]\n",
    "        for x in list_var_in_order:\n",
    "            if not(x in instance.keys()):\n",
    "                return x\n",
    "    else:\n",
    "        return False\n",
    "\n",
    "def strategy_selection_6(variables,instance):\n",
    "    #Choose the variable with the minimum ratio domain size/number of constraints\n",
    "    remaining_keys_variables=list(set(variables.keys())-set(instance.keys()))\n",
    "    return random.choice(remaining_keys_variables)\n",
    "\n",
    "#Pre-processing before backtrack if you use strategy_selection_7\n",
    "def build_dict_var_ratio_domain_constraints(variables,constraints):\n",
    "    #build the dict with the ratios domain size/number of constraints\n",
    "    dict_ratios=dict()\n",
    "    dict_var_number_constraints=build_dict_var_number_constraints(variables,constraints)\n",
    "    #remaining_keys_variables=list(set(variables.keys())-set(instance.keys()))\n",
    "    for var in variables.keys():\n",
    "        if dict_var_number_constraints[var]!=0:\n",
    "            dict_ratios[var]=len(variables[var])/dict_var_number_constraints[var]\n",
    "        else:\n",
    "            #100 is arbitrary. A big number\n",
    "            dict_ratios[var]=len(variables[var])+100\n",
    "    return dict_ratios\n",
    "\n",
    "def strategy_selection_7(variables,instance,dict_ratios=False):\n",
    "    #Choose a random variable among the remaining ones\n",
    "    if not dict_ratios:\n",
    "        dict_ratios=build_dict_var_ratio_domain_constraints(variables,constraints)\n",
    "    elif isinstance(dict_ratios, dict):\n",
    "        list_var_in_order=sorted(dict_ratios.items(),key=lambda t:t[1],reverse=False)\n",
    "        list_var_in_order=[i[0] for i in list_var_in_order ]\n",
    "        for x in list_var_in_order:\n",
    "            if not(x in instance.keys()):\n",
    "                return x\n",
    "    else:\n",
    "        return False\n",
    "\n",
    "#Impact-based Search    \n",
    "\n",
    "def selectVarAj(variables,instance,strategy_number,dict_var_number_constraints=False,dict_ratios=False):\n",
    "    if strategy_number==1:\n",
    "        return strategy_selection_1(variables,instance)\n",
    "    elif strategy_number==2:\n",
    "        return strategy_selection_2(variables,instance)\n",
    "    elif strategy_number==3:\n",
    "        return strategy_selection_3(variables,instance)\n",
    "    elif strategy_number==4:\n",
    "        if not dict_var_number_constraints:\n",
    "            return strategy_selection_1(variables,instance)\n",
    "        else:\n",
    "            return strategy_selection_4(variables,instance,dict_var_number_constraints)\n",
    "    elif strategy_number==5:\n",
    "        if not dict_var_number_constraints:\n",
    "            return strategy_selection_1(variables,instance)\n",
    "        else:\n",
    "            return strategy_selection_5(variables,instance,dict_var_number_constraints)\n",
    "    elif strategy_number==6:\n",
    "        return strategy_selection_6(variables,instance)\n",
    "    elif strategy_number==7:\n",
    "        if not dict_var_number_constraints:\n",
    "            return strategy_selection_1(variables,instance)\n",
    "        else:\n",
    "            return strategy_selection_7(variables,instance,dict_ratios)"
   ]
  },
  {
   "cell_type": "code",
   "execution_count": 25,
   "metadata": {},
   "outputs": [],
   "source": [
    "\"\"\"TEST\"\"\"\n",
    "variables=dict()\n",
    "variables={}\n",
    "variables[\"x1\"]=[1,2,3]\n",
    "variables[\"x2\"]=[1,2]\n",
    "variables[\"x3\"]=[1]\n",
    "variables[\"x4\"]=[1,2]\n",
    "contraintes=[[(\"x1\",\"x2\"),[(1,2),(2,1),(3,1),(3,2)]],[(\"x2\",\"x1\"),[(1,2),(1,3),(2,1),(2,3)]],\n",
    "             [(\"x2\",\"x3\"),[(2,1)]],[(\"x3\",\"x2\"),[(1,2)]],\n",
    "            [(\"x1\",\"x3\"),[(2,1),(3,1)]],[(\"x3\",\"x1\"),[(1,2),(1,3)]],\n",
    "            [(\"x1\",\"x4\"),[(1,2),(2,1),(3,1),(3,2)]],[(\"x4\",\"x1\"),[(1,2),(1,3),(2,1),(2,3)]],\n",
    "            [(\"x3\",\"x4\"),[(1,2)]],[(\"x4\",\"x3\"),[(2,1)]],\n",
    "            ]\n",
    "#t1 = time.time()\n",
    "#ac_3_bis(variables,contraintes)\n",
    "#t2=time.time()\n",
    "#duree=t2-t1"
   ]
  },
  {
   "cell_type": "code",
   "execution_count": 26,
   "metadata": {},
   "outputs": [
    {
     "name": "stdout",
     "output_type": "stream",
     "text": [
      "{'x1': 6, 'x2': 4, 'x3': 6, 'x4': 4}\n",
      "[('x1', 6), ('x3', 6), ('x2', 4), ('x4', 4)]\n",
      "['x1', 'x3', 'x2', 'x4']\n"
     ]
    }
   ],
   "source": [
    "dict_var_const=build_dict_var_number_constraints(variables,contraintes)\n",
    "print(dict_var_const)\n",
    "list_order=sorted(dict_var_const.items(),key=lambda t:t[1],reverse=True)\n",
    "print(list_order)\n",
    "list_order=[i[0] for i in list_order]\n",
    "print(list_order)\n",
    "#print(OrderedDict(sorted(dict_var_const.items(), key=lambda t: t[1])))"
   ]
  },
  {
   "cell_type": "code",
   "execution_count": 28,
   "metadata": {},
   "outputs": [
    {
     "data": {
      "text/plain": [
       "'x2'"
      ]
     },
     "execution_count": 28,
     "metadata": {},
     "output_type": "execute_result"
    }
   ],
   "source": [
    "instance_partielle={\"x1\":3}\n",
    "strategy_selection_1(variables,instance_partielle)"
   ]
  },
  {
   "cell_type": "code",
   "execution_count": null,
   "metadata": {},
   "outputs": [],
   "source": [
    "solutions=[]\n",
    "def backTrack(instance,contraintes,exaustif=True):\n",
    "    complet=True\n",
    "    for c in contraintes:\n",
    "        ch=checkConstraint(c,instance)\n",
    "        if ch==0:\n",
    "            #print(ch,False,\"instance fausse !!!\")\n",
    "            return(False)\n",
    "        if ch==2:\n",
    "            #print(\"instance incomplete\")\n",
    "            complet=False\n",
    "    if complet==True:\n",
    "        print(\"instance complete\")\n",
    "        print(\"resultat:\",instance)\n",
    "        #solutions.append(instance)\n",
    "        return(True)\n",
    "    #On choisit une variable non instancée\n",
    "    varAj=selectVarAj(variables,instance,1)\n",
    "    #reordonner eventuellement varAj avant\n",
    "    #Pour chaque valeur y de varAj dans son domaine\n",
    "    for y in variables[varAj]:\n",
    "        #print(varAj,\"varAj \")\n",
    "        #print(y,\"y\")\n",
    "        #On ajoute les valeurs possibles de varAj\n",
    "        instance2=instance.copy()\n",
    "        #print(varAj)\n",
    "        instance2[varAj]=y\n",
    "        #print(\"instance actuelle\",instance2)\n",
    "        val=backTrack(instance2,contraintes)\n",
    "        if val and exaustif==False:\n",
    "            return(True)\n",
    "    return(False)"
   ]
  },
  {
   "cell_type": "code",
   "execution_count": null,
   "metadata": {},
   "outputs": [],
   "source": [
    "instance=dict()\n",
    "variables={}\n",
    "variables[\"x1\"]=[1,2]\n",
    "variables[\"x2\"]=[1,2]\n",
    "contraintes=[[(\"x1\",\"x2\"),[(1,2),(2,2)]]]\n",
    "print(backTrack(instance,contraintes))\n",
    "\n",
    "print(instance,\"instance1\")\n",
    "\n",
    "print(variables)\n",
    "#print(variables[\"x1\"])"
   ]
  },
  {
   "cell_type": "code",
   "execution_count": null,
   "metadata": {},
   "outputs": [],
   "source": [
    "instance"
   ]
  },
  {
   "cell_type": "code",
   "execution_count": null,
   "metadata": {},
   "outputs": [],
   "source": [
    "contraintes"
   ]
  },
  {
   "cell_type": "code",
   "execution_count": 19,
   "metadata": {},
   "outputs": [],
   "source": [
    "#Fonction séparée pour la selection du couple dans l'algo AC_3.\n",
    "#Peut etre utile si existence d heuristiques interessantes\n",
    "def selectCouple(aTester):\n",
    "    #Different strategies can be chosen for the selection of the couple\n",
    "    return aTester.pop()"
   ]
  },
  {
   "cell_type": "code",
   "execution_count": null,
   "metadata": {},
   "outputs": [],
   "source": [
    "\"\"\"\"Fonction utilisee dans l'algo AC-3\n",
    "Remarque: Ici, constraints n'est pas UNE contrainte mais l'ENSEMBLE des contraintes\"\"\"\n",
    "def checkConstraint_ac3(constraints,instance):\n",
    "    var1=list(instance.keys())[0]\n",
    "    var2=list(instance.keys())[1]\n",
    "    for c in constraints:\n",
    "        if var1 in c[0] and var2 in c[0]:\n",
    "            #si les nombres n'apparaissent meme pas dans les possibilites, on passe\n",
    "            # a l iteration suivante\n",
    "            \"\"\"for i in range(len(c[1])):\n",
    "                #check\n",
    "                print(\"yes\")\n",
    "                print(var1,var2)\n",
    "                print(c[1][i])\n",
    "                print(\"-----\")\n",
    "                if instance[var1]==c[1][i][0] and instance[var2]==c[1][i][1]:\n",
    "                    return True\n",
    "                \"\"\"\n",
    "            if (instance[var1],instance[var2]) in c[1]:\n",
    "                return True\n",
    "    return False"
   ]
  },
  {
   "cell_type": "markdown",
   "metadata": {},
   "source": [
    "Remarque: nouveau code ac_3, semble bien fonctionner. Testé sur l exemple du cours sur la coloration de graphe."
   ]
  },
  {
   "cell_type": "code",
   "execution_count": null,
   "metadata": {},
   "outputs": [],
   "source": [
    "\"\"\"\n",
    "Algorithme AC-3\n",
    "quand on supprime une valeur a la variable x,\n",
    "on ne reexamine que les variables liees a x par une contrainte\"\"\"\n",
    "def ac_3(variables,constraints):\n",
    "    aTester=[]\n",
    "    \"\"\"Initialisation aTester\"\"\"\n",
    "    for i in range(len(constraints)):\n",
    "       # print('constraints[i]:',constraints[i])\n",
    "        #on ajoute le couple (x,y)\n",
    "        aTester.append(constraints[i][0])\n",
    "        #print('Atester:',aTester)\n",
    "    while len(aTester)!=0:\n",
    "        \"\"\"\"Selection du couple \"\"\"\n",
    "        couple=selectCouple(aTester)\n",
    "        list_values_without_support=[]\n",
    "        #print('-*-*-*-*-*-*-')\n",
    "        #print('new couple')\n",
    "        #print('list no support',list_values_without_support)\n",
    "        #pr  chaque valeur pour la variable x\n",
    "        #print('couple:',couple)\n",
    "        \"\"\"\"Parcourts des valeurs de x \"\"\"\n",
    "        for value_x in variables[couple[0]]:\n",
    "            #print('nouvelle valeur de x',couple[0],value_x)\n",
    "            support=False\n",
    "            \"\"\"\"Parcourt des valeurs de y \"\"\"\n",
    "            for value_y in variables[couple[1]]:\n",
    "                \"\"\"\"On verifie qu'il existe une contrainte Cx,y validee\"\"\"\n",
    "                if checkConstraint_ac3(contraintes,{couple[0]:value_x,couple[1]:value_y}):\n",
    "                    support=True\n",
    "                    break;\n",
    "            #print('support',support,couple[0],value_x,couple[1])\n",
    "            \"\"\"\"On cree la liste des valeurs de x sans support\"\"\"\n",
    "            if not support:\n",
    "                #print('x', couple[0])\n",
    "                list_values_without_support.append(value_x)\n",
    "                #print('list no support',list_values_without_support)\n",
    "\n",
    "        if len(list_values_without_support)!=0:\n",
    "            #print('===')\n",
    "            #print('reduce domaine of', couple[0], list_values_without_support)\n",
    "            \"\"\"\"On met a jour le domaine de x \"\"\"\n",
    "            variables[couple[0]]=list(set(variables[couple[0]])-set(list_values_without_support))\n",
    "            #print('variables: ',variables)\n",
    "            \"\"\"\"On met a jour aTester\"\"\"\n",
    "            for i in range(len(constraints)):\n",
    "                if constraints[i][0][0]!=couple[1] and constraints[i][0][1]==couple[0]:\n",
    "                    #print('couple étudié ', couple)\n",
    "                    #print('ajout dans aTester',constraints[i][0])\n",
    "                    aTester.append([constraints[i][0][0],constraints[i][0][1]])\n",
    "                    #print('======')\n",
    "            #print('======')\n",
    "        #print('-*-*-*-*-*-*-')                              \n",
    "    return variables\n",
    "            "
   ]
  },
  {
   "cell_type": "code",
   "execution_count": null,
   "metadata": {},
   "outputs": [],
   "source": [
    "variables=dict()\n",
    "variables={}\n",
    "variables[\"x1\"]=[1,2,3]\n",
    "variables[\"x2\"]=[1,2]\n",
    "variables[\"x3\"]=[1]\n",
    "contraintes=[[(\"x1\",\"x2\"),[(1,2),(2,1),(3,1),(3,2)]],[(\"x2\",\"x1\"),[(1,2),(1,3),(2,1),(2,3)]],\n",
    "             [(\"x2\",\"x3\"),[(2,1)]],[(\"x3\",\"x2\"),[(1,2)]],\n",
    "            [(\"x1\",\"x3\"),[(2,1),(3,1)]],[(\"x3\",\"x1\"),[(1,2),(1,3)]]\n",
    "            ]\n",
    "t1 = time.time()\n",
    "ac_3(variables,contraintes)\n",
    "t2=time.time()\n",
    "duree=t2-t1"
   ]
  },
  {
   "cell_type": "code",
   "execution_count": null,
   "metadata": {},
   "outputs": [],
   "source": [
    "variables"
   ]
  },
  {
   "cell_type": "code",
   "execution_count": null,
   "metadata": {},
   "outputs": [],
   "source": [
    "duree"
   ]
  },
  {
   "cell_type": "code",
   "execution_count": 18,
   "metadata": {},
   "outputs": [],
   "source": [
    "\"\"\"\"Fonction utilisee dans l'algo AC_3_Bis\n",
    "Remarque: Ici, constraints n'est pas UNE contrainte mais l'ENSEMBLE des contraintes\"\"\"\n",
    "def checkConstraint_ac3_bis(variables, constraints,var1,value_var1,var2):\n",
    "    for c in constraints:\n",
    "        if var1 in c[0] and var2 in c[0]:\n",
    "            for value_var2 in variables[var2]:\n",
    "                if (value_var1,value_var2) in c[1]:\n",
    "                    return True\n",
    "    return False"
   ]
  },
  {
   "cell_type": "code",
   "execution_count": 16,
   "metadata": {},
   "outputs": [],
   "source": [
    "\"\"\"\n",
    "Algorithme AC-3\n",
    "quand on supprime une valeur a la variable x,\n",
    "on ne reexamine que les variables liees a x par une contrainte\"\"\"\n",
    "\"\"\"\" Difference avec ac_3 ? au niveau de la fonction checkConstraint_ac3, ordre for c in constraints\n",
    "et for value_y in domaines de y\"\"\"\n",
    "\"\"\"\"Performances ac_3_bis peut etre legerement meilleur que ac_3\"\"\"\n",
    "def ac_3_bis(variables,constraints):\n",
    "    aTester=[]\n",
    "    \"\"\"Initialisation aTester\"\"\"\n",
    "    for i in range(len(constraints)):\n",
    "       # print('constraints[i]:',constraints[i])\n",
    "        #on ajoute le couple (x,y)\n",
    "        aTester.append(constraints[i][0])\n",
    "    while len(aTester)!=0:\n",
    "        \"\"\"\"Selection du couple \"\"\"\n",
    "        couple=selectCouple(aTester)\n",
    "        list_values_without_support=[]\n",
    "        #print('-*-*-*-*-*-*-')\n",
    "        #print('new couple')\n",
    "        #print('list no support',list_values_without_support)\n",
    "        #pr  chaque valeur pour la variable x\n",
    "        #print('couple:',couple)\n",
    "        \"\"\"\"Parcourts des valeurs de x \"\"\"\n",
    "        for value_x in variables[couple[0]]:\n",
    "            #print('nouvelle valeur de x',couple[0],value_x)\n",
    "            support=False\n",
    "            \"\"\"\"On verifie qu'il existe une contrainte Cx,y validee\"\"\"\n",
    "            if checkConstraint_ac3_bis(variables,constraints,couple[0],value_x,couple[1]):\n",
    "                support=True\n",
    "                break;\n",
    "            #print('support',support,couple[0],value_x,couple[1])\n",
    "            \"\"\"\"On cree la liste des valeurs de x sans support\"\"\"\n",
    "            if not support:\n",
    "                #print('x', couple[0])\n",
    "                list_values_without_support.append(value_x)\n",
    "                #print('list no support',list_values_without_support)\n",
    "\n",
    "        if len(list_values_without_support)!=0:\n",
    "            #print('===')\n",
    "            #print('reduce domaine of', couple[0], list_values_without_support)\n",
    "            \"\"\"\"On met a jour le domaine de x \"\"\"\n",
    "            variables[couple[0]]=list(set(variables[couple[0]])-set(list_values_without_support))\n",
    "            #print('variables: ',variables)\n",
    "            \"\"\"\"On met a jour aTester\"\"\"\n",
    "            for i in range(len(constraints)):\n",
    "                if constraints[i][0][0]!=couple[1] and constraints[i][0][1]==couple[0]:\n",
    "                    #print('couple étudié ', couple)\n",
    "                    #print('ajout dans aTester',constraints[i][0])\n",
    "                    aTester.append([constraints[i][0][0],constraints[i][0][1]])\n",
    "                    #print('======')\n",
    "            #print('======')\n",
    "        #print('-*-*-*-*-*-*-')\n",
    "       \n",
    "                    \n",
    "                                \n",
    "    return variables\n",
    "            "
   ]
  },
  {
   "cell_type": "code",
   "execution_count": 17,
   "metadata": {},
   "outputs": [
    {
     "ename": "NameError",
     "evalue": "name 'selectCouple' is not defined",
     "output_type": "error",
     "traceback": [
      "\u001b[0;31m---------------------------------------------------------------------------\u001b[0m",
      "\u001b[0;31mNameError\u001b[0m                                 Traceback (most recent call last)",
      "\u001b[0;32m<ipython-input-17-2ebfe561f20d>\u001b[0m in \u001b[0;36m<module>\u001b[0;34m\u001b[0m\n\u001b[1;32m     10\u001b[0m             ]\n\u001b[1;32m     11\u001b[0m \u001b[0mt1\u001b[0m \u001b[0;34m=\u001b[0m \u001b[0mtime\u001b[0m\u001b[0;34m.\u001b[0m\u001b[0mtime\u001b[0m\u001b[0;34m(\u001b[0m\u001b[0;34m)\u001b[0m\u001b[0;34m\u001b[0m\u001b[0;34m\u001b[0m\u001b[0m\n\u001b[0;32m---> 12\u001b[0;31m \u001b[0mac_3_bis\u001b[0m\u001b[0;34m(\u001b[0m\u001b[0mvariables\u001b[0m\u001b[0;34m,\u001b[0m\u001b[0mcontraintes\u001b[0m\u001b[0;34m)\u001b[0m\u001b[0;34m\u001b[0m\u001b[0;34m\u001b[0m\u001b[0m\n\u001b[0m\u001b[1;32m     13\u001b[0m \u001b[0mt2\u001b[0m\u001b[0;34m=\u001b[0m\u001b[0mtime\u001b[0m\u001b[0;34m.\u001b[0m\u001b[0mtime\u001b[0m\u001b[0;34m(\u001b[0m\u001b[0;34m)\u001b[0m\u001b[0;34m\u001b[0m\u001b[0;34m\u001b[0m\u001b[0m\n\u001b[1;32m     14\u001b[0m \u001b[0mduree\u001b[0m\u001b[0;34m=\u001b[0m\u001b[0mt2\u001b[0m\u001b[0;34m-\u001b[0m\u001b[0mt1\u001b[0m\u001b[0;34m\u001b[0m\u001b[0;34m\u001b[0m\u001b[0m\n",
      "\u001b[0;32m<ipython-input-16-198cb6be474e>\u001b[0m in \u001b[0;36mac_3_bis\u001b[0;34m(variables, constraints)\u001b[0m\n\u001b[1;32m     15\u001b[0m     \u001b[0;32mwhile\u001b[0m \u001b[0mlen\u001b[0m\u001b[0;34m(\u001b[0m\u001b[0maTester\u001b[0m\u001b[0;34m)\u001b[0m\u001b[0;34m!=\u001b[0m\u001b[0;36m0\u001b[0m\u001b[0;34m:\u001b[0m\u001b[0;34m\u001b[0m\u001b[0;34m\u001b[0m\u001b[0m\n\u001b[1;32m     16\u001b[0m         \u001b[0;34m\"\"\"\"Selection du couple \"\"\"\u001b[0m\u001b[0;34m\u001b[0m\u001b[0;34m\u001b[0m\u001b[0m\n\u001b[0;32m---> 17\u001b[0;31m         \u001b[0mcouple\u001b[0m\u001b[0;34m=\u001b[0m\u001b[0mselectCouple\u001b[0m\u001b[0;34m(\u001b[0m\u001b[0maTester\u001b[0m\u001b[0;34m)\u001b[0m\u001b[0;34m\u001b[0m\u001b[0;34m\u001b[0m\u001b[0m\n\u001b[0m\u001b[1;32m     18\u001b[0m         \u001b[0mlist_values_without_support\u001b[0m\u001b[0;34m=\u001b[0m\u001b[0;34m[\u001b[0m\u001b[0;34m]\u001b[0m\u001b[0;34m\u001b[0m\u001b[0;34m\u001b[0m\u001b[0m\n\u001b[1;32m     19\u001b[0m         \u001b[0;31m#print('-*-*-*-*-*-*-')\u001b[0m\u001b[0;34m\u001b[0m\u001b[0;34m\u001b[0m\u001b[0;34m\u001b[0m\u001b[0m\n",
      "\u001b[0;31mNameError\u001b[0m: name 'selectCouple' is not defined"
     ]
    }
   ],
   "source": [
    "\"\"\"TEST\"\"\"\n",
    "variables=dict()\n",
    "variables={}\n",
    "variables[\"x1\"]=[1,2,3]\n",
    "variables[\"x2\"]=[1,2]\n",
    "variables[\"x3\"]=[1]\n",
    "contraintes=[[(\"x1\",\"x2\"),[(1,2),(2,1),(3,1),(3,2)]],[(\"x2\",\"x1\"),[(1,2),(1,3),(2,1),(2,3)]],\n",
    "             [(\"x2\",\"x3\"),[(2,1)]],[(\"x3\",\"x2\"),[(1,2)]],\n",
    "            [(\"x1\",\"x3\"),[(2,1),(3,1)]],[(\"x3\",\"x1\"),[(1,2),(1,3)]]\n",
    "            ]\n",
    "t1 = time.time()\n",
    "ac_3_bis(variables,contraintes)\n",
    "t2=time.time()\n",
    "duree=t2-t1\n"
   ]
  },
  {
   "cell_type": "code",
   "execution_count": null,
   "metadata": {},
   "outputs": [],
   "source": [
    "variables"
   ]
  },
  {
   "cell_type": "code",
   "execution_count": null,
   "metadata": {},
   "outputs": [],
   "source": [
    "duree"
   ]
  },
  {
   "cell_type": "code",
   "execution_count": 15,
   "metadata": {},
   "outputs": [
    {
     "ename": "NameError",
     "evalue": "name 'ac_3_bis' is not defined",
     "output_type": "error",
     "traceback": [
      "\u001b[0;31m---------------------------------------------------------------------------\u001b[0m",
      "\u001b[0;31mNameError\u001b[0m                                 Traceback (most recent call last)",
      "\u001b[0;32m<ipython-input-15-0c08b93966aa>\u001b[0m in \u001b[0;36m<module>\u001b[0;34m\u001b[0m\n\u001b[1;32m     13\u001b[0m             ]\n\u001b[1;32m     14\u001b[0m \u001b[0mt1\u001b[0m \u001b[0;34m=\u001b[0m \u001b[0mtime\u001b[0m\u001b[0;34m.\u001b[0m\u001b[0mtime\u001b[0m\u001b[0;34m(\u001b[0m\u001b[0;34m)\u001b[0m\u001b[0;34m\u001b[0m\u001b[0;34m\u001b[0m\u001b[0m\n\u001b[0;32m---> 15\u001b[0;31m \u001b[0mac_3_bis\u001b[0m\u001b[0;34m(\u001b[0m\u001b[0mvariables\u001b[0m\u001b[0;34m,\u001b[0m\u001b[0mcontraintes\u001b[0m\u001b[0;34m)\u001b[0m\u001b[0;34m\u001b[0m\u001b[0;34m\u001b[0m\u001b[0m\n\u001b[0m\u001b[1;32m     16\u001b[0m \u001b[0mt2\u001b[0m\u001b[0;34m=\u001b[0m\u001b[0mtime\u001b[0m\u001b[0;34m.\u001b[0m\u001b[0mtime\u001b[0m\u001b[0;34m(\u001b[0m\u001b[0;34m)\u001b[0m\u001b[0;34m\u001b[0m\u001b[0;34m\u001b[0m\u001b[0m\n\u001b[1;32m     17\u001b[0m \u001b[0mduree\u001b[0m\u001b[0;34m=\u001b[0m\u001b[0mt2\u001b[0m\u001b[0;34m-\u001b[0m\u001b[0mt1\u001b[0m\u001b[0;34m\u001b[0m\u001b[0;34m\u001b[0m\u001b[0m\n",
      "\u001b[0;31mNameError\u001b[0m: name 'ac_3_bis' is not defined"
     ]
    }
   ],
   "source": [
    "\"\"\"TEST\"\"\"\n",
    "variables=dict()\n",
    "variables={}\n",
    "variables[\"x1\"]=[1,2,3]\n",
    "variables[\"x2\"]=[1,2]\n",
    "variables[\"x3\"]=[1]\n",
    "variables[\"x4\"]=[1,2]\n",
    "contraintes=[[(\"x1\",\"x2\"),[(1,2),(2,1),(3,1),(3,2)]],[(\"x2\",\"x1\"),[(1,2),(1,3),(2,1),(2,3)]],\n",
    "             [(\"x2\",\"x3\"),[(2,1)]],[(\"x3\",\"x2\"),[(1,2)]],\n",
    "            [(\"x1\",\"x3\"),[(2,1),(3,1)]],[(\"x3\",\"x1\"),[(1,2),(1,3)]],\n",
    "            [(\"x1\",\"x4\"),[(1,2),(2,1),(3,1),(3,2)]],[(\"x4\",\"x1\"),[(1,2),(1,3),(2,1),(2,3)]],\n",
    "            [(\"x3\",\"x4\"),[(1,2)]],[(\"x4\",\"x3\"),[(2,1)]],\n",
    "            ]\n",
    "t1 = time.time()\n",
    "ac_3_bis(variables,contraintes)\n",
    "t2=time.time()\n",
    "duree=t2-t1"
   ]
  },
  {
   "cell_type": "code",
   "execution_count": null,
   "metadata": {},
   "outputs": [],
   "source": [
    "variables"
   ]
  },
  {
   "cell_type": "code",
   "execution_count": null,
   "metadata": {},
   "outputs": [],
   "source": [
    "duree"
   ]
  },
  {
   "cell_type": "code",
   "execution_count": null,
   "metadata": {},
   "outputs": [],
   "source": [
    "\"\"\"Forward Checking\n",
    "idéé: anticiper certaines prises de decisions dans le backtrack.\n",
    "Dès qu’une variable x est instanciee à la valeur a, \n",
    "on filtre toutes les valeurs incompatibles avec〈x,a〉mais on ne propage pas plus.\n",
    "Remarque: Ici, constraints n'est pas UNE contrainte mais l'ENSEMBLE des contraintes\n",
    "var1 est la variable que l'on analyse.\n",
    "\"\"\"\n",
    "def forwardChecking(instance_partielle,variables,constraints,var1):\n",
    "    for var2 in variables.keys():\n",
    "        list_no_support=[]\n",
    "        if var2 not in instance_partielle.keys():\n",
    "            exist_constraint=False\n",
    "            for c in constraints:\n",
    "                if (var1,var2)==c[0]:\n",
    "                    exist_constraint=True\n",
    "                    break\n",
    "            if exist_constraint:\n",
    "                for value_var2 in variables[var2]:\n",
    "                    #for loop supplementaire dans le cas où les contraintes sur x1,x2 ne sont \n",
    "                    #pas regroupees dans un seul bloc de constraints. A modifier si c est le cas\n",
    "                    #finalement\n",
    "                    for c in constraints:\n",
    "                        if (var1,var2)==c[0] and not (instance_partielle[var1],value_var2) in c[1]:\n",
    "                            list_no_support.append(value_var2)\n",
    "        if len(list_no_support)!=0:\n",
    "            variables[var2]=list(set(variables[var2])-set(list_no_support))\n",
    "    return variables\n"
   ]
  },
  {
   "cell_type": "code",
   "execution_count": null,
   "metadata": {},
   "outputs": [],
   "source": [
    "\"\"\"TEST\"\"\"\n",
    "variables=dict()\n",
    "variables={}\n",
    "variables[\"x1\"]=[1,2]\n",
    "variables[\"x2\"]=[1,2]\n",
    "variables[\"x3\"]=[1,3]\n",
    "variables[\"x4\"]=[1,2]\n",
    "contraintes=[[(\"x1\",\"x2\"),[(1,2),(2,1),(3,1),(3,2)]],[(\"x2\",\"x1\"),[(1,2),(1,3),(2,1),(2,3)]],\n",
    "             [(\"x2\",\"x3\"),[(2,1)]],[(\"x3\",\"x2\"),[(1,2)]],\n",
    "            [(\"x1\",\"x3\"),[(2,1),(3,1)]],[(\"x3\",\"x1\"),[(1,2),(1,3)]],\n",
    "            [(\"x1\",\"x4\"),[(1,2),(2,1),(3,1),(3,2)]],[(\"x4\",\"x1\"),[(1,2),(1,3),(2,1),(2,3)]],\n",
    "            [(\"x3\",\"x4\"),[(1,2)]],[(\"x4\",\"x3\"),[(2,1)]],\n",
    "            ]\n",
    "\n"
   ]
  },
  {
   "cell_type": "code",
   "execution_count": null,
   "metadata": {},
   "outputs": [],
   "source": [
    "instance_partielle={\"x1\":3}"
   ]
  },
  {
   "cell_type": "code",
   "execution_count": null,
   "metadata": {},
   "outputs": [],
   "source": [
    "forwardChecking(instance_partielle,variables,contraintes,\"x1\")"
   ]
  },
  {
   "cell_type": "code",
   "execution_count": null,
   "metadata": {},
   "outputs": [],
   "source": [
    "variables"
   ]
  },
  {
   "cell_type": "code",
   "execution_count": null,
   "metadata": {},
   "outputs": [],
   "source": [
    "def initAC4(variables,contraintes):\n",
    "    Q=set()\n",
    "    S=dict()\n",
    "    S={}\n",
    "    Count=dict()\n",
    "    Count={}\n",
    "    for c in contraintes:\n",
    "        x=c[0][0]\n",
    "        y=c[0][1]\n",
    "        for a in variables[x]:\n",
    "            total=0\n",
    "            Count[(x,y,a)]=0\n",
    "            for b in variables[y]:\n",
    "                if (a,b) in c[1]:\n",
    "                    total=total+1\n",
    "                    if (y,b) in S.keys():\n",
    "                        S[(y,b)].append((x,a))\n",
    "                    else:\n",
    "                        S[(y,b)]=[(x,a)]\n",
    "                Count[(x,y,a)]=total\n",
    "            if Count[(x,y,a)]==0:\n",
    "                variables[x].remove(a)\n",
    "                A=set([(x,a)])\n",
    "                Q=Q|A\n",
    "    return(Q,S,Count)\n",
    "        "
   ]
  },
  {
   "cell_type": "code",
   "execution_count": null,
   "metadata": {},
   "outputs": [],
   "source": [
    "def AC4(variables,contraintes):\n",
    "    Q,S,Count=initAC4(variables,contraintes)\n",
    "    #print(\"Q:\",Q)\n",
    "    #print(\"S:\",S)\n",
    "    #print(\"count:\", Count)\n",
    "    while len(Q)>0:\n",
    "        yb=Q.pop()\n",
    "        y,b=yb[0],yb[1]\n",
    "        for xa in S[yb]:\n",
    "            x,a=xa[0],xa[1]\n",
    "            Count[(x,y,a)]=Count[(x,y,a)]-1\n",
    "            if Count[(x,y,a)]==0 and a in variables[x]:\n",
    "                varibales[x].remove(a)\n",
    "                Q.remove((x,a))\n",
    "    return(variables)"
   ]
  },
  {
   "cell_type": "code",
   "execution_count": null,
   "metadata": {},
   "outputs": [],
   "source": [
    "\"\"\"TEST\"\"\"\n",
    "variables=dict()\n",
    "variables={}\n",
    "variables[\"x1\"]=[1,2]\n",
    "variables[\"x2\"]=[1,2]\n",
    "variables[\"x3\"]=[1,3]\n",
    "variables[\"x4\"]=[1,2]\n",
    "contraintes=[[(\"x1\",\"x2\"),[(1,2),(2,1),(3,1),(3,2)]],[(\"x2\",\"x1\"),[(1,2),(1,3),(2,1),(2,3)]],\n",
    "             [(\"x2\",\"x3\"),[(2,1)]],[(\"x3\",\"x2\"),[(1,2)]],\n",
    "            [(\"x1\",\"x3\"),[(2,1),(3,1)]],[(\"x3\",\"x1\"),[(1,2),(1,3)]],\n",
    "            [(\"x1\",\"x4\"),[(1,2),(2,1),(3,1),(3,2)]],[(\"x4\",\"x1\"),[(1,2),(1,3),(2,1),(2,3)]],\n",
    "            [(\"x3\",\"x4\"),[(1,2)]],[(\"x4\",\"x3\"),[(2,1)]],\n",
    "            ]\n",
    "backTrack(instance,contraintes)\n"
   ]
  },
  {
   "cell_type": "code",
   "execution_count": null,
   "metadata": {},
   "outputs": [],
   "source": [
    "print(variables)\n",
    "\n",
    "AC4(variables,contraintes)"
   ]
  },
  {
   "cell_type": "code",
   "execution_count": null,
   "metadata": {},
   "outputs": [],
   "source": [
    "def reines(n):\n",
    "    variables=dict()\n",
    "    variables={}\n",
    "    contraintes=[]\n",
    "    variables[1]=[j for j in range(1,(n+1)//2+1)]\n",
    "    for i in range(2,n+1):\n",
    "        variables[i]=[j for j in range(1,n+1)]\n",
    "    for i in range(1,n+1):\n",
    "        for j in range(i+1,n+1):\n",
    "            c=[]\n",
    "            for a in range(1,n+1):\n",
    "                for b in range(1,n+1):\n",
    "                    if a!=b and b-a!=j-i and a-b!=j-i:\n",
    "                        c.append((a,b))\n",
    "            contraintes.append([(i,j),c])\n",
    "    return(variables,contraintes)\n",
    "\n",
    "print(reines(5))\n",
    "            "
   ]
  },
  {
   "cell_type": "code",
   "execution_count": null,
   "metadata": {},
   "outputs": [],
   "source": [
    "variables,contraintes=reines(9)\n",
    "instance=dict()\n",
    "instance={}\n",
    "print(backTrack(instance,contraintes))"
   ]
  },
  {
   "cell_type": "code",
   "execution_count": null,
   "metadata": {},
   "outputs": [],
   "source": [
    "variables,contraintes=reines(5)\n",
    "instance=dict()\n",
    "instance={}"
   ]
  },
  {
   "cell_type": "code",
   "execution_count": null,
   "metadata": {},
   "outputs": [],
   "source": [
    "AC4(variables,contraintes)"
   ]
  },
  {
   "cell_type": "code",
   "execution_count": null,
   "metadata": {},
   "outputs": [],
   "source": [
    "variables,contraintes=reines(10,exhaustif=False)\n",
    "instance=dict()\n",
    "instance={}\n",
    "\n",
    "variables=AC4(variables,contraintes)\n",
    "print(variables)\n",
    "print(backTrack(instance,contraintes))"
   ]
  },
  {
   "cell_type": "code",
   "execution_count": null,
   "metadata": {},
   "outputs": [],
   "source": [
    "def colorGraph(nSommets,aretes,nCouleurs):\n",
    "    variables=dict()\n",
    "    variables={}\n",
    "    contraintes=[]\n",
    "    combinaisons=[]\n",
    "    combinaisonsDiff=[]\n",
    "    for c1 in range(nCouleurs):\n",
    "        for c2 in range(nCouleurs):\n",
    "            combinaisons.append((c1,c2))\n",
    "            if c1!=c2:\n",
    "                combinaisonsDiff.append((c1,c2))\n",
    "    for s in range(nSommets):\n",
    "        variables[s]=[k for k in range(nCouleurs)]\n",
    "    for i in range(nSommets):\n",
    "        for j in range(nSommets):\n",
    "            if i!=j and ((i,j) in aretes or (j,i) in aretes):\n",
    "                contraintes.append([(i,j),combinaisons.copy()])\n",
    "            elif i!=j:\n",
    "                contraintes.append([(i,j),combinaisonsDiff.copy()])\n",
    "    return(variables,contraintes)"
   ]
  },
  {
   "cell_type": "code",
   "execution_count": null,
   "metadata": {},
   "outputs": [],
   "source": [
    "print(colorGraph(6,[(1,2),(2,3),(1,3),(4,2),(4,5)],5))"
   ]
  },
  {
   "cell_type": "code",
   "execution_count": null,
   "metadata": {},
   "outputs": [],
   "source": [
    "variables,contraintes=colorGraph(6,[(1,2),(2,3),(1,3),(4,2),(4,5)],3)\n",
    "instance=dict()\n",
    "instance={}\n",
    "\n",
    "variables=AC4(variables,contraintes)\n",
    "print(variables)\n",
    "print(backTrack(instance,contraintes))"
   ]
  },
  {
   "cell_type": "code",
   "execution_count": null,
   "metadata": {},
   "outputs": [],
   "source": [
    "import os\n",
    "\n",
    "def readGraph(nomFichier):\n",
    "    fichier=open(nomFichier,\"r\")\n",
    "    l=fichier.readline()\n",
    "    tab=l.split()\n",
    "    nSommets=int(tab[2])\n",
    "    aretes=[]\n",
    "    for l in fichier.readlines():\n",
    "        tab=l.split(' ')\n",
    "        d=(int(tab[1]),int(tab[2][0]))\n",
    "        if not(d in aretes):\n",
    "            aretes.append(d)\n",
    "    return(nSommets,aretes)\n",
    "\n",
    "nSommetsG,aretesG=readGraph(\"out.col\")"
   ]
  },
  {
   "cell_type": "code",
   "execution_count": null,
   "metadata": {},
   "outputs": [],
   "source": [
    "nSommets,aretes=nSommetsG,aretesG\n",
    "print(nSommets//2)\n",
    "\n",
    "variables,contraintes=colorGraph(nSommets,aretes,nSommets//2)\n",
    "\n",
    "#print(backTrack(instance,contraintes))"
   ]
  },
  {
   "cell_type": "code",
   "execution_count": null,
   "metadata": {},
   "outputs": [],
   "source": [
    "aretesG"
   ]
  }
 ],
 "metadata": {
  "kernelspec": {
   "display_name": "Python 3",
   "language": "python",
   "name": "python3"
  },
  "language_info": {
   "codemirror_mode": {
    "name": "ipython",
    "version": 3
   },
   "file_extension": ".py",
   "mimetype": "text/x-python",
   "name": "python",
   "nbconvert_exporter": "python",
   "pygments_lexer": "ipython3",
   "version": "3.7.4"
  }
 },
 "nbformat": 4,
 "nbformat_minor": 2
}
