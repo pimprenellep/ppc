{
 "cells": [
  {
   "cell_type": "code",
   "execution_count": 70,
   "metadata": {},
   "outputs": [],
   "source": [
    "# -*- coding: utf-8 -*-\n",
    "\"\"\"\n",
    "Éditeur de Spyder\n",
    "\n",
    "Ceci est un script temporaire.\n",
    "\"\"\"\n",
    "\n",
    "variables=dict()\n",
    "variables={}\n",
    "#dont write variables[\"x1\"]=[2]\n",
    "variables[\"x1\"]=1\n",
    "variables[\"x2\"]=2\n",
    "contraintes=[[(\"x1\",\"x2\"),[(1,2),(2,2)]]]\n",
    "instance=dict()\n",
    "instance={}\n",
    "# Instance: dico variables, domaines\n",
    "#instance[\"x2\"]=2\n",
    "#0: faux, 1: vérifié 2: incomplet\n"
   ]
  },
  {
   "cell_type": "code",
   "execution_count": 71,
   "metadata": {},
   "outputs": [
    {
     "name": "stdout",
     "output_type": "stream",
     "text": [
      "False\n",
      "dict_keys(['x1', 'x2'])\n"
     ]
    }
   ],
   "source": [
    "print(2==variables['x1'])\n",
    "print(variables.keys())"
   ]
  },
  {
   "cell_type": "code",
   "execution_count": 72,
   "metadata": {},
   "outputs": [
    {
     "name": "stdout",
     "output_type": "stream",
     "text": [
      "True\n"
     ]
    }
   ],
   "source": [
    "print('x1' in variables.keys())"
   ]
  },
  {
   "cell_type": "code",
   "execution_count": 73,
   "metadata": {},
   "outputs": [
    {
     "name": "stdout",
     "output_type": "stream",
     "text": [
      "[[('x1', 'x2'), [(1, 2), (2, 2)]]]\n",
      "(1, 2)\n"
     ]
    }
   ],
   "source": [
    "print(contraintes)\n",
    "print(contraintes[0][1][0])"
   ]
  },
  {
   "cell_type": "code",
   "execution_count": 74,
   "metadata": {},
   "outputs": [
    {
     "name": "stdout",
     "output_type": "stream",
     "text": [
      "[('x1', 'x2'), [(1, 2), (2, 2)]]\n"
     ]
    }
   ],
   "source": [
    "print(contraintes[0])"
   ]
  },
  {
   "cell_type": "code",
   "execution_count": 75,
   "metadata": {},
   "outputs": [
    {
     "name": "stdout",
     "output_type": "stream",
     "text": [
      "1\n"
     ]
    }
   ],
   "source": [
    "\"\"\"\"\n",
    "variables[\"x1\"]=1\n",
    "variables[\"x2\"]=2\n",
    "contraintes=[[(\"x1\",\"x2\"),[(1,2),(2,2)]]]\n",
    "\"\"\"\"\n",
    "def checkConstraint_error(constraint,instance):\n",
    "    var1=constraint[0][0]\n",
    "    var2=constraint[0][1]\n",
    "    if var1 in instance.keys() and var2 in instance.keys():\n",
    "        for j in constraint[1]:\n",
    "            if j[0]==instance[var1] and j[1]==instance[var2]:\n",
    "                return(1)\n",
    "        return(0)\n",
    "    else:\n",
    "        return(2)\n",
    "        \n",
    "\n",
    "print(checkConstraint(contraintes[0],variables))"
   ]
  },
  {
   "cell_type": "code",
   "execution_count": 76,
   "metadata": {},
   "outputs": [
    {
     "name": "stdout",
     "output_type": "stream",
     "text": [
      "0\n"
     ]
    }
   ],
   "source": [
    "#function checkConstraint\n",
    "def checkConstraint(constraint,instance):\n",
    "    var1=constraint[0][0]\n",
    "    var2=constraint[0][1]\n",
    "    checker_value=0\n",
    "    if var1 in instance.keys() and var2 in instance.keys():\n",
    "        for j in constraint[1]:\n",
    "            if j[0]==instance[var1] and j[1]==instance[var2]:\n",
    "                checker_value=1\n",
    "            else:\n",
    "                checker_value=0\n",
    "    else:\n",
    "        checker_value=2\n",
    "    return checker_value\n",
    "        \n",
    "\n",
    "print(checkConstraint(contraintes[0],variables))"
   ]
  },
  {
   "cell_type": "code",
   "execution_count": null,
   "metadata": {},
   "outputs": [],
   "source": [
    "def backTrack(instance,contraintes,n):\n",
    "    complet=True\n",
    "    for c in contraintes:\n",
    "        ch=checkConstraint(c,instance)\n",
    "        if ch==0:\n",
    "            return(False)\n",
    "        if ch==2:\n",
    "            complet=False\n",
    "    if complet==True:\n",
    "        print(instance)\n",
    "        return(True)\n",
    "    varAj=\"\"\n",
    "    for x in variables.keys():\n",
    "        if not(x in instance.keys()):\n",
    "            varAj=x\n",
    "            instance[varAj]=[]\n",
    "            break\n",
    "    for y in variables[varAj]:\n",
    "        print(varAj,\"varAj\")\n",
    "        print(y,\"y\")\n",
    "        instance[varAj].append(y)\n",
    "        if backTrack(instance,contraintes,n):\n",
    "            return(True)\n",
    "    return(False)"
   ]
  },
  {
   "cell_type": "code",
   "execution_count": null,
   "metadata": {},
   "outputs": [],
   "source": [
    "print(backTrack(instance,contraintes,0))\n",
    "\n",
    "print(instance,\"instance1\")\n",
    "\n",
    "print(backTrack(instance,contraintes,0))\n",
    "print(instance,\"instance2\")"
   ]
  }
 ],
 "metadata": {
  "kernelspec": {
   "display_name": "Python 3",
   "language": "python",
   "name": "python3"
  },
  "language_info": {
   "codemirror_mode": {
    "name": "ipython",
    "version": 3
   },
   "file_extension": ".py",
   "mimetype": "text/x-python",
   "name": "python",
   "nbconvert_exporter": "python",
   "pygments_lexer": "ipython3",
   "version": "3.7.4"
  }
 },
 "nbformat": 4,
 "nbformat_minor": 2
}
