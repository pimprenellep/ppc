{
 "cells": [
  {
   "cell_type": "code",
   "execution_count": 2,
   "metadata": {},
   "outputs": [],
   "source": [
    "# -*- coding: utf-8 -*-\n",
    "\n",
    "variables=dict()\n",
    "variables={}\n",
    "variables[\"x1\"]=[1,2]\n",
    "variables[\"x2\"]=[1,2]\n",
    "contraintes=[[(\"x1\",\"x2\"),[(1,2),(2,2)]]]\n",
    "instance=dict()\n",
    "instance={}\n",
    "#instance[\"x1\"]=2\n",
    "#instance[\"x2\"]=1\n",
    "#0: faux, 1: vérifié 2: incomplet\n"
   ]
  },
  {
   "cell_type": "code",
   "execution_count": 3,
   "metadata": {},
   "outputs": [
    {
     "name": "stdout",
     "output_type": "stream",
     "text": [
      "False\n",
      "dict_keys(['x1', 'x2'])\n"
     ]
    }
   ],
   "source": [
    "print(2==variables['x1'])\n",
    "print(variables.keys())"
   ]
  },
  {
   "cell_type": "code",
   "execution_count": 4,
   "metadata": {},
   "outputs": [
    {
     "name": "stdout",
     "output_type": "stream",
     "text": [
      "True\n"
     ]
    }
   ],
   "source": [
    "print('x1' in variables.keys())"
   ]
  },
  {
   "cell_type": "code",
   "execution_count": 5,
   "metadata": {},
   "outputs": [
    {
     "name": "stdout",
     "output_type": "stream",
     "text": [
      "[[('x1', 'x2'), [(1, 2), (2, 2)]]]\n",
      "(1, 2)\n"
     ]
    }
   ],
   "source": [
    "print(contraintes)\n",
    "print(contraintes[0][1][0])"
   ]
  },
  {
   "cell_type": "code",
   "execution_count": 6,
   "metadata": {},
   "outputs": [
    {
     "name": "stdout",
     "output_type": "stream",
     "text": [
      "[('x1', 'x2'), [(1, 2), (2, 2)]]\n"
     ]
    }
   ],
   "source": [
    "print(contraintes[0])"
   ]
  },
  {
   "cell_type": "code",
   "execution_count": 7,
   "metadata": {},
   "outputs": [
    {
     "name": "stdout",
     "output_type": "stream",
     "text": [
      "1\n"
     ]
    }
   ],
   "source": [
    "\"\"\"\n",
    "variables[\"x1\"]=1\n",
    "variables[\"x2\"]=2\n",
    "contraintes=[[(\"x1\",\"x2\"),[(1,2),(2,2)]]]\n",
    "\"\"\"\n",
    "#checkconstraint sur une instance partielle\n",
    "#Instance partielle: couple de valeurs pour x1, x2.\n",
    "#Pour tout checker, for loop sur les instances partielles, contraintes.\n",
    "def checkConstraint(constraint,instance):\n",
    "    var1=constraint[0][0]\n",
    "    var2=constraint[0][1]\n",
    "    if var1 in instance.keys() and var2 in instance.keys():\n",
    "        for j in constraint[1]:\n",
    "            if j[0]==instance[var1] and j[1]==instance[var2]:\n",
    "                return(1)\n",
    "        return(0)\n",
    "    else:\n",
    "        return(2)\n",
    "        \n",
    "\n",
    "print(checkConstraint(contraintes[0],{'x1':1,'x2':2}))"
   ]
  },
  {
   "cell_type": "code",
   "execution_count": 8,
   "metadata": {},
   "outputs": [
    {
     "name": "stdout",
     "output_type": "stream",
     "text": [
      "0\n"
     ]
    }
   ],
   "source": [
    "#function checkConstraint\n",
    "def checkConstraint_error(constraint,instance):\n",
    "    var1=constraint[0][0]\n",
    "    var2=constraint[0][1]\n",
    "    checker_value=0\n",
    "    if var1 in instance.keys() and var2 in instance.keys():\n",
    "        for j in constraint[1]:\n",
    "            if j[0]==instance[var1] and j[1]==instance[var2]:\n",
    "                checker_value=1\n",
    "            else:\n",
    "                checker_value=0\n",
    "    else:\n",
    "        checker_value=2\n",
    "    return checker_value\n",
    "        \n",
    "\n",
    "print(checkConstraint(contraintes[0],variables))"
   ]
  },
  {
   "cell_type": "code",
   "execution_count": 9,
   "metadata": {},
   "outputs": [],
   "source": [
    "def strategy_selection_1(variables,instance):\n",
    "     for x in variables.keys():\n",
    "        if not(x in instance.keys()):\n",
    "            return x\n",
    "        \n",
    "def selectVarAj(variables,instance):\n",
    "    return strategy_selection_1(variables,instance)"
   ]
  },
  {
   "cell_type": "code",
   "execution_count": 10,
   "metadata": {},
   "outputs": [
    {
     "name": "stdout",
     "output_type": "stream",
     "text": [
      "=====================\n"
     ]
    }
   ],
   "source": [
    "print(\"=====================\")\n",
    "solutions=[]\n",
    "def backTrack(instance,contraintes,n):\n",
    "    complet=True\n",
    "    for c in contraintes:\n",
    "        ch=checkConstraint(c,instance)\n",
    "        if ch==0:\n",
    "            print(ch,False,\"instance fausse !!!\")\n",
    "            return(False)\n",
    "        if ch==2:\n",
    "            print(\"instance incomplete\")\n",
    "            complet=False\n",
    "    if complet==True:\n",
    "        print(\"instance complete\")\n",
    "        print(\"resultat:\",instance)\n",
    "        solutions.append(instance)\n",
    "        return(True)\n",
    "    #On choisit une variable non instancée\n",
    "    varAj=selectVarAj(variables,instance)\n",
    "    #reordonner eventuellement varAj avant\n",
    "    #Pour chaque valeur y de varAj dans son domaine\n",
    "    for y in variables[varAj]:\n",
    "        print(varAj,\"varAj \")\n",
    "        print(y,\"y\")\n",
    "        #On ajoute les valeurs possibles de varAj\n",
    "        instance[varAj]=y\n",
    "        print(\"instance actuelle\",instance)\n",
    "        if backTrack(instance,contraintes,n):\n",
    "            #quand ca retourne faux, ca tente une autre valeur de varj\n",
    "            print(\"************\")\n",
    "            #return True\n",
    "    return(False)"
   ]
  },
  {
   "cell_type": "code",
   "execution_count": 20,
   "metadata": {},
   "outputs": [
    {
     "data": {
      "text/plain": [
       "[[('x1', 'x2'), [(1, 2), (2, 2)]]]"
      ]
     },
     "execution_count": 20,
     "metadata": {},
     "output_type": "execute_result"
    }
   ],
   "source": [
    "contraintes"
   ]
  },
  {
   "cell_type": "code",
   "execution_count": 21,
   "metadata": {},
   "outputs": [
    {
     "name": "stdout",
     "output_type": "stream",
     "text": [
      "instance incomplete\n",
      "x1 varAj \n",
      "1 y\n",
      "instance actuelle {'x1': 1}\n",
      "instance incomplete\n",
      "x2 varAj \n",
      "1 y\n",
      "instance actuelle {'x1': 1, 'x2': 1}\n",
      "0 False instance fausse !!!\n",
      "x2 varAj \n",
      "2 y\n",
      "instance actuelle {'x1': 1, 'x2': 2}\n",
      "instance complete\n",
      "resultat: {'x1': 1, 'x2': 2}\n",
      "************\n",
      "x1 varAj \n",
      "2 y\n",
      "instance actuelle {'x1': 2, 'x2': 2}\n",
      "instance complete\n",
      "resultat: {'x1': 2, 'x2': 2}\n",
      "************\n",
      "False\n"
     ]
    }
   ],
   "source": [
    "instance=dict()\n",
    "variables[\"x1\"]=[1,2]\n",
    "variables[\"x2\"]=[1,2]\n",
    "print(backTrack(instance,contraintes,0))\n",
    "\n",
    "#print(instance,\"instance1\")\n",
    "\n",
    "#print(variables[\"x1\"])"
   ]
  },
  {
   "cell_type": "code",
   "execution_count": 22,
   "metadata": {},
   "outputs": [
    {
     "data": {
      "text/plain": [
       "{'x1': 2, 'x2': 2}"
      ]
     },
     "execution_count": 22,
     "metadata": {},
     "output_type": "execute_result"
    }
   ],
   "source": [
    "instance"
   ]
  },
  {
   "cell_type": "code",
   "execution_count": 13,
   "metadata": {},
   "outputs": [
    {
     "data": {
      "text/plain": [
       "[[('x1', 'x2'), [(1, 2), (2, 2)]]]"
      ]
     },
     "execution_count": 13,
     "metadata": {},
     "output_type": "execute_result"
    }
   ],
   "source": [
    "contraintes"
   ]
  },
  {
   "cell_type": "code",
   "execution_count": null,
   "metadata": {},
   "outputs": [],
   "source": []
  }
 ],
 "metadata": {
  "kernelspec": {
   "display_name": "Python 3",
   "language": "python",
   "name": "python3"
  },
  "language_info": {
   "codemirror_mode": {
    "name": "ipython",
    "version": 3
   },
   "file_extension": ".py",
   "mimetype": "text/x-python",
   "name": "python",
   "nbconvert_exporter": "python",
   "pygments_lexer": "ipython3",
   "version": "3.7.4"
  }
 },
 "nbformat": 4,
 "nbformat_minor": 2
}
