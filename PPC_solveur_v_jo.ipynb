{
 "cells": [
  {
   "cell_type": "markdown",
   "metadata": {},
   "source": [
    "<h4>Réalisation d’un mini solveur de CSP binaires\n",
    "Master MPRO zribi-parmentier</h4>"
   ]
  },
  {
   "cell_type": "code",
   "execution_count": 447,
   "metadata": {},
   "outputs": [],
   "source": [
    "# -*- coding: utf-8 -*-\n",
    "import time\n",
    "import timeit\n",
    "\n",
    "variables=dict()\n",
    "variables={}\n",
    "variables[\"x1\"]=[1,2]\n",
    "variables[\"x2\"]=[1,2]\n",
    "contraintes=[[(\"x1\",\"x2\"),[(1,2),(2,2)]]]\n",
    "instance=dict()\n",
    "instance={}\n",
    "#instance[\"x1\"]=2\n",
    "#instance[\"x2\"]=1\n",
    "#0: faux, 1: vérifié 2: incomplet\n"
   ]
  },
  {
   "cell_type": "code",
   "execution_count": 448,
   "metadata": {},
   "outputs": [
    {
     "name": "stdout",
     "output_type": "stream",
     "text": [
      "False\n",
      "dict_keys(['x1', 'x2'])\n"
     ]
    }
   ],
   "source": [
    "print(2==variables['x1'])\n",
    "print(variables.keys())"
   ]
  },
  {
   "cell_type": "code",
   "execution_count": 449,
   "metadata": {},
   "outputs": [
    {
     "name": "stdout",
     "output_type": "stream",
     "text": [
      "True\n"
     ]
    }
   ],
   "source": [
    "print('x1' in variables.keys())"
   ]
  },
  {
   "cell_type": "code",
   "execution_count": 450,
   "metadata": {},
   "outputs": [
    {
     "name": "stdout",
     "output_type": "stream",
     "text": [
      "[[('x1', 'x2'), [(1, 2), (2, 2)]]]\n",
      "(1, 2)\n"
     ]
    }
   ],
   "source": [
    "print(contraintes)\n",
    "print(contraintes[0][1][0])"
   ]
  },
  {
   "cell_type": "code",
   "execution_count": 451,
   "metadata": {},
   "outputs": [
    {
     "name": "stdout",
     "output_type": "stream",
     "text": [
      "[('x1', 'x2'), [(1, 2), (2, 2)]]\n"
     ]
    }
   ],
   "source": [
    "print(contraintes[0])"
   ]
  },
  {
   "cell_type": "code",
   "execution_count": 452,
   "metadata": {},
   "outputs": [
    {
     "name": "stdout",
     "output_type": "stream",
     "text": [
      "1\n"
     ]
    }
   ],
   "source": [
    "\"\"\"\n",
    "variables[\"x1\"]=1\n",
    "variables[\"x2\"]=2\n",
    "contraintes=[[(\"x1\",\"x2\"),[(1,2),(2,2)]]]\n",
    "\"\"\"\n",
    "#checkconstraint sur une instance partielle\n",
    "#Instance partielle: couple de valeurs pour x1, x2.\n",
    "#{'x1':1,'x2':2}\n",
    "#Pour tout checker, for loop sur les instances partielles, contraintes.\n",
    "# ici constraint est de la forme [('x1', 'x2'), [(1, 2), (2, 2)]\n",
    "# par ex contraintes[0]\n",
    "def checkConstraint(constraint,instance):\n",
    "    var1=constraint[0][0]\n",
    "    var2=constraint[0][1]\n",
    "    #print('var1 check: ',var1)\n",
    "    #print('var2 check: ',var2)\n",
    "    #print('instance keys ', instance.keys())\n",
    "    if var1 in instance.keys() and var2 in instance.keys():\n",
    "        for j in constraint[1]:\n",
    "            if j[0]==instance[var1] and j[1]==instance[var2]:\n",
    "                return(1)\n",
    "        return(0)\n",
    "    else:\n",
    "        return(2)\n",
    "        \n",
    "\n",
    "print(checkConstraint(contraintes[0],{'x1':1,'x2':2}))"
   ]
  },
  {
   "cell_type": "code",
   "execution_count": 453,
   "metadata": {},
   "outputs": [],
   "source": [
    "def strategy_selection_1(variables,instance):\n",
    "     for x in variables.keys():\n",
    "        if not(x in instance.keys()):\n",
    "            return x\n",
    "        \n",
    "def selectVarAj(variables,instance):\n",
    "    return strategy_selection_1(variables,instance)"
   ]
  },
  {
   "cell_type": "code",
   "execution_count": 454,
   "metadata": {},
   "outputs": [
    {
     "name": "stdout",
     "output_type": "stream",
     "text": [
      "=====================\n"
     ]
    }
   ],
   "source": [
    "print(\"=====================\")\n",
    "solutions=[]\n",
    "def backTrack(instance,contraintes,n):\n",
    "    complet=True\n",
    "    for c in contraintes:\n",
    "        ch=checkConstraint(c,instance)\n",
    "        if ch==0:\n",
    "            print(ch,False,\"instance fausse !!!\")\n",
    "            return(False)\n",
    "        if ch==2:\n",
    "            print(\"instance incomplete\")\n",
    "            complet=False\n",
    "    if complet==True:\n",
    "        print(\"instance complete\")\n",
    "        print(\"resultat:\",instance)\n",
    "        solutions.append(instance)\n",
    "        return(True)\n",
    "    #On choisit une variable non instancée\n",
    "    varAj=selectVarAj(variables,instance)\n",
    "    #reordonner eventuellement varAj avant\n",
    "    #Pour chaque valeur y de varAj dans son domaine\n",
    "    for y in variables[varAj]:\n",
    "        print(varAj,\"varAj \")\n",
    "        print(y,\"y\")\n",
    "        #On ajoute les valeurs possibles de varAj\n",
    "        instance[varAj]=y\n",
    "        print(\"instance actuelle\",instance)\n",
    "        if backTrack(instance,contraintes,n):\n",
    "            #quand ca retourne faux, ca tente une autre valeur de varj\n",
    "            print(\"************\")\n",
    "            #return True\n",
    "    return(False)"
   ]
  },
  {
   "cell_type": "code",
   "execution_count": 455,
   "metadata": {},
   "outputs": [
    {
     "name": "stdout",
     "output_type": "stream",
     "text": [
      "instance incomplete\n",
      "x1 varAj \n",
      "1 y\n",
      "instance actuelle {'x1': 1}\n",
      "instance incomplete\n",
      "x2 varAj \n",
      "1 y\n",
      "instance actuelle {'x1': 1, 'x2': 1}\n",
      "0 False instance fausse !!!\n",
      "x2 varAj \n",
      "2 y\n",
      "instance actuelle {'x1': 1, 'x2': 2}\n",
      "instance complete\n",
      "resultat: {'x1': 1, 'x2': 2}\n",
      "************\n",
      "x1 varAj \n",
      "2 y\n",
      "instance actuelle {'x1': 2, 'x2': 2}\n",
      "instance complete\n",
      "resultat: {'x1': 2, 'x2': 2}\n",
      "************\n",
      "False\n"
     ]
    }
   ],
   "source": [
    "instance=dict()\n",
    "variables[\"x1\"]=[1,2]\n",
    "variables[\"x2\"]=[1,2]\n",
    "print(backTrack(instance,contraintes,0))\n",
    "\n",
    "#print(instance,\"instance1\")\n",
    "\n",
    "#print(variables[\"x1\"])"
   ]
  },
  {
   "cell_type": "code",
   "execution_count": 456,
   "metadata": {},
   "outputs": [
    {
     "data": {
      "text/plain": [
       "{'x1': 2, 'x2': 2}"
      ]
     },
     "execution_count": 456,
     "metadata": {},
     "output_type": "execute_result"
    }
   ],
   "source": [
    "instance"
   ]
  },
  {
   "cell_type": "code",
   "execution_count": 457,
   "metadata": {},
   "outputs": [
    {
     "data": {
      "text/plain": [
       "[[('x1', 'x2'), [(1, 2), (2, 2)]]]"
      ]
     },
     "execution_count": 457,
     "metadata": {},
     "output_type": "execute_result"
    }
   ],
   "source": [
    "contraintes"
   ]
  },
  {
   "cell_type": "code",
   "execution_count": 458,
   "metadata": {},
   "outputs": [],
   "source": [
    "#Fonction séparée pour la selection du couple dans l'algo AC_3.\n",
    "#Peut etre utile si existence d heuristiques interessantes\n",
    "def selectCouple(aTester):\n",
    "    #Different strategies can be chosen for the selection of the couple\n",
    "    return aTester.pop()"
   ]
  },
  {
   "cell_type": "code",
   "execution_count": 459,
   "metadata": {},
   "outputs": [
    {
     "name": "stdout",
     "output_type": "stream",
     "text": [
      "[3, 4]\n"
     ]
    }
   ],
   "source": [
    "a=[3,4,5]\n",
    "selectCouple(a)\n",
    "print(a)"
   ]
  },
  {
   "cell_type": "code",
   "execution_count": 460,
   "metadata": {},
   "outputs": [],
   "source": [
    "\"\"\"\"Fonction utilisee dans l'algo AC-3\n",
    "Remarque: Ici, constraints n'est pas UNE contrainte mais l'ENSEMBLE des contraintes\"\"\"\n",
    "def checkConstraint_ac3(constraints,instance):\n",
    "    var1=list(instance.keys())[0]\n",
    "    var2=list(instance.keys())[1]\n",
    "    for c in constraints:\n",
    "        if var1 in c[0] and var2 in c[0]:\n",
    "            #si les nombres n'apparaissent meme pas dans les possibilites, on passe\n",
    "            # a l iteration suivante\n",
    "            \"\"\"for i in range(len(c[1])):\n",
    "                #check\n",
    "                print(\"yes\")\n",
    "                print(var1,var2)\n",
    "                print(c[1][i])\n",
    "                print(\"-----\")\n",
    "                if instance[var1]==c[1][i][0] and instance[var2]==c[1][i][1]:\n",
    "                    return True\n",
    "                \"\"\"\n",
    "            if (instance[var1],instance[var2]) in c[1]:\n",
    "                return True\n",
    "    return False"
   ]
  },
  {
   "cell_type": "markdown",
   "metadata": {},
   "source": [
    "Remarque: nouveau code ac_3, semble bien fonctionner. Testé sur l exemple du cours sur la coloration de graphe."
   ]
  },
  {
   "cell_type": "code",
   "execution_count": 461,
   "metadata": {},
   "outputs": [],
   "source": [
    "\"\"\"\n",
    "Algorithme AC-3\n",
    "quand on supprime une valeur a la variable x,\n",
    "on ne reexamine que les variables liees a x par une contrainte\"\"\"\n",
    "def ac_3(variables,constraints):\n",
    "    aTester=[]\n",
    "    \"\"\"Initialisation aTester\"\"\"\n",
    "    for i in range(len(constraints)):\n",
    "       # print('constraints[i]:',constraints[i])\n",
    "        #on ajoute le couple (x,y)\n",
    "        aTester.append(constraints[i][0])\n",
    "        #print('Atester:',aTester)\n",
    "    while len(aTester)!=0:\n",
    "        \"\"\"\"Selection du couple \"\"\"\n",
    "        couple=selectCouple(aTester)\n",
    "        list_values_without_support=[]\n",
    "        #print('-*-*-*-*-*-*-')\n",
    "        #print('new couple')\n",
    "        #print('list no support',list_values_without_support)\n",
    "        #pr  chaque valeur pour la variable x\n",
    "        #print('couple:',couple)\n",
    "        \"\"\"\"Parcourts des valeurs de x \"\"\"\n",
    "        for value_x in variables[couple[0]]:\n",
    "            #print('nouvelle valeur de x',couple[0],value_x)\n",
    "            support=False\n",
    "            \"\"\"\"Parcourt des valeurs de y \"\"\"\n",
    "            for value_y in variables[couple[1]]:\n",
    "                \"\"\"\"On verifie qu'il existe une contrainte Cx,y validee\"\"\"\n",
    "                if checkConstraint_ac3(contraintes,{couple[0]:value_x,couple[1]:value_y}):\n",
    "                    support=True\n",
    "                    break;\n",
    "            #print('support',support,couple[0],value_x,couple[1])\n",
    "            \"\"\"\"On cree la liste des valeurs de x sans support\"\"\"\n",
    "            if not support:\n",
    "                #print('x', couple[0])\n",
    "                list_values_without_support.append(value_x)\n",
    "                #print('list no support',list_values_without_support)\n",
    "\n",
    "        if len(list_values_without_support)!=0:\n",
    "            #print('===')\n",
    "            #print('reduce domaine of', couple[0], list_values_without_support)\n",
    "            \"\"\"\"On met a jour le domaine de x \"\"\"\n",
    "            variables[couple[0]]=list(set(variables[couple[0]])-set(list_values_without_support))\n",
    "            #print('variables: ',variables)\n",
    "            \"\"\"\"On met a jour aTester\"\"\"\n",
    "            for i in range(len(constraints)):\n",
    "                if constraints[i][0][0]!=couple[1] and constraints[i][0][1]==couple[0]:\n",
    "                    #print('couple étudié ', couple)\n",
    "                    #print('ajout dans aTester',constraints[i][0])\n",
    "                    aTester.append([constraints[i][0][0],constraints[i][0][1]])\n",
    "                    #print('======')\n",
    "            #print('======')\n",
    "        #print('-*-*-*-*-*-*-')\n",
    "       \n",
    "                    \n",
    "                                \n",
    "    return True\n",
    "            "
   ]
  },
  {
   "cell_type": "code",
   "execution_count": 462,
   "metadata": {},
   "outputs": [],
   "source": [
    "variables=dict()\n",
    "variables={}\n",
    "variables[\"x1\"]=[1,2,3]\n",
    "variables[\"x2\"]=[1,2]\n",
    "variables[\"x3\"]=[1]\n",
    "contraintes=[[(\"x1\",\"x2\"),[(1,2),(2,1),(3,1),(3,2)]],[(\"x2\",\"x1\"),[(1,2),(1,3),(2,1),(2,3)]],\n",
    "             [(\"x2\",\"x3\"),[(2,1)]],[(\"x3\",\"x2\"),[(1,2)]],\n",
    "            [(\"x1\",\"x3\"),[(2,1),(3,1)]],[(\"x3\",\"x1\"),[(1,2),(1,3)]]\n",
    "            ]\n",
    "t1 = time.time()\n",
    "ac_3(variables,contraintes)\n",
    "t2=time.time()\n",
    "duree=t2-t1"
   ]
  },
  {
   "cell_type": "code",
   "execution_count": 463,
   "metadata": {},
   "outputs": [
    {
     "data": {
      "text/plain": [
       "{'x1': [3], 'x2': [2], 'x3': [1]}"
      ]
     },
     "execution_count": 463,
     "metadata": {},
     "output_type": "execute_result"
    }
   ],
   "source": [
    "variables"
   ]
  },
  {
   "cell_type": "code",
   "execution_count": 464,
   "metadata": {},
   "outputs": [
    {
     "data": {
      "text/plain": [
       "0.00011301040649414062"
      ]
     },
     "execution_count": 464,
     "metadata": {},
     "output_type": "execute_result"
    }
   ],
   "source": [
    "duree"
   ]
  },
  {
   "cell_type": "code",
   "execution_count": 465,
   "metadata": {},
   "outputs": [],
   "source": [
    "\"\"\"\"Fonction utilisee dans l'algo AC_3_Bis\n",
    "Remarque: Ici, constraints n'est pas UNE contrainte mais l'ENSEMBLE des contraintes\"\"\"\n",
    "def checkConstraint_ac3_bis(variables, constraints,var1,value_var1,var2):\n",
    "    for c in constraints:\n",
    "        if var1 in c[0] and var2 in c[0]:\n",
    "            for value_var2 in variables[var2]:\n",
    "                if (value_var1,value_var2) in c[1]:\n",
    "                    return True\n",
    "    return False"
   ]
  },
  {
   "cell_type": "code",
   "execution_count": 466,
   "metadata": {},
   "outputs": [],
   "source": [
    "\"\"\"\n",
    "Algorithme AC-3\n",
    "quand on supprime une valeur a la variable x,\n",
    "on ne reexamine que les variables liees a x par une contrainte\"\"\"\n",
    "\"\"\"\" Difference avec ac_3 ? au niveau de la fonction checkConstraint_ac3, ordre for c in constraints\n",
    "et for value_y in domaines de y\"\"\"\n",
    "\"\"\"\"Performances ac_3_bis peut etre legerement meilleur que ac_3\"\"\"\n",
    "def ac_3_bis(variables,constraints):\n",
    "    aTester=[]\n",
    "    \"\"\"Initialisation aTester\"\"\"\n",
    "    for i in range(len(constraints)):\n",
    "       # print('constraints[i]:',constraints[i])\n",
    "        #on ajoute le couple (x,y)\n",
    "        aTester.append(constraints[i][0])\n",
    "    while len(aTester)!=0:\n",
    "        \"\"\"\"Selection du couple \"\"\"\n",
    "        couple=selectCouple(aTester)\n",
    "        list_values_without_support=[]\n",
    "        #print('-*-*-*-*-*-*-')\n",
    "        #print('new couple')\n",
    "        #print('list no support',list_values_without_support)\n",
    "        #pr  chaque valeur pour la variable x\n",
    "        #print('couple:',couple)\n",
    "        \"\"\"\"Parcourts des valeurs de x \"\"\"\n",
    "        for value_x in variables[couple[0]]:\n",
    "            #print('nouvelle valeur de x',couple[0],value_x)\n",
    "            support=False\n",
    "            \"\"\"\"On verifie qu'il existe une contrainte Cx,y validee\"\"\"\n",
    "            if checkConstraint_ac3_bis(variables,constraints,couple[0],value_x,couple[1]):\n",
    "                support=True\n",
    "                break;\n",
    "            #print('support',support,couple[0],value_x,couple[1])\n",
    "            \"\"\"\"On cree la liste des valeurs de x sans support\"\"\"\n",
    "            if not support:\n",
    "                #print('x', couple[0])\n",
    "                list_values_without_support.append(value_x)\n",
    "                #print('list no support',list_values_without_support)\n",
    "\n",
    "        if len(list_values_without_support)!=0:\n",
    "            #print('===')\n",
    "            #print('reduce domaine of', couple[0], list_values_without_support)\n",
    "            \"\"\"\"On met a jour le domaine de x \"\"\"\n",
    "            variables[couple[0]]=list(set(variables[couple[0]])-set(list_values_without_support))\n",
    "            #print('variables: ',variables)\n",
    "            \"\"\"\"On met a jour aTester\"\"\"\n",
    "            for i in range(len(constraints)):\n",
    "                if constraints[i][0][0]!=couple[1] and constraints[i][0][1]==couple[0]:\n",
    "                    #print('couple étudié ', couple)\n",
    "                    #print('ajout dans aTester',constraints[i][0])\n",
    "                    aTester.append([constraints[i][0][0],constraints[i][0][1]])\n",
    "                    #print('======')\n",
    "            #print('======')\n",
    "        #print('-*-*-*-*-*-*-')\n",
    "       \n",
    "                    \n",
    "                                \n",
    "    return True\n",
    "            "
   ]
  },
  {
   "cell_type": "code",
   "execution_count": 467,
   "metadata": {},
   "outputs": [],
   "source": [
    "\"\"\"TEST\"\"\"\n",
    "variables=dict()\n",
    "variables={}\n",
    "variables[\"x1\"]=[1,2,3]\n",
    "variables[\"x2\"]=[1,2]\n",
    "variables[\"x3\"]=[1]\n",
    "contraintes=[[(\"x1\",\"x2\"),[(1,2),(2,1),(3,1),(3,2)]],[(\"x2\",\"x1\"),[(1,2),(1,3),(2,1),(2,3)]],\n",
    "             [(\"x2\",\"x3\"),[(2,1)]],[(\"x3\",\"x2\"),[(1,2)]],\n",
    "            [(\"x1\",\"x3\"),[(2,1),(3,1)]],[(\"x3\",\"x1\"),[(1,2),(1,3)]]\n",
    "            ]\n",
    "t1 = time.time()\n",
    "ac_3_bis(variables,contraintes)\n",
    "t2=time.time()\n",
    "duree=t2-t1\n"
   ]
  },
  {
   "cell_type": "code",
   "execution_count": 468,
   "metadata": {},
   "outputs": [
    {
     "data": {
      "text/plain": [
       "{'x1': [3], 'x2': [2], 'x3': [1]}"
      ]
     },
     "execution_count": 468,
     "metadata": {},
     "output_type": "execute_result"
    }
   ],
   "source": [
    "variables"
   ]
  },
  {
   "cell_type": "code",
   "execution_count": 469,
   "metadata": {},
   "outputs": [
    {
     "data": {
      "text/plain": [
       "0.00011992454528808594"
      ]
     },
     "execution_count": 469,
     "metadata": {},
     "output_type": "execute_result"
    }
   ],
   "source": [
    "duree"
   ]
  },
  {
   "cell_type": "code",
   "execution_count": 474,
   "metadata": {},
   "outputs": [],
   "source": [
    "\"\"\"TEST\"\"\"\n",
    "variables=dict()\n",
    "variables={}\n",
    "variables[\"x1\"]=[1,2,3]\n",
    "variables[\"x2\"]=[1,2]\n",
    "variables[\"x3\"]=[1]\n",
    "variables[\"x4\"]=[1,2]\n",
    "contraintes=[[(\"x1\",\"x2\"),[(1,2),(2,1),(3,1),(3,2)]],[(\"x2\",\"x1\"),[(1,2),(1,3),(2,1),(2,3)]],\n",
    "             [(\"x2\",\"x3\"),[(2,1)]],[(\"x3\",\"x2\"),[(1,2)]],\n",
    "            [(\"x1\",\"x3\"),[(2,1),(3,1)]],[(\"x3\",\"x1\"),[(1,2),(1,3)]],\n",
    "            [(\"x1\",\"x4\"),[(1,2),(2,1),(3,1),(3,2)]],[(\"x4\",\"x1\"),[(1,2),(1,3),(2,1),(2,3)]],\n",
    "            [(\"x3\",\"x4\"),[(1,2)]],[(\"x4\",\"x3\"),[(2,1)]],\n",
    "            ]\n",
    "t1 = time.time()\n",
    "ac_3_bis(variables,contraintes)\n",
    "t2=time.time()\n",
    "duree=t2-t1"
   ]
  },
  {
   "cell_type": "code",
   "execution_count": 475,
   "metadata": {},
   "outputs": [
    {
     "data": {
      "text/plain": [
       "{'x1': [3], 'x2': [2], 'x3': [1], 'x4': [2]}"
      ]
     },
     "execution_count": 475,
     "metadata": {},
     "output_type": "execute_result"
    }
   ],
   "source": [
    "variables"
   ]
  },
  {
   "cell_type": "code",
   "execution_count": 476,
   "metadata": {},
   "outputs": [
    {
     "data": {
      "text/plain": [
       "0.0002727508544921875"
      ]
     },
     "execution_count": 476,
     "metadata": {},
     "output_type": "execute_result"
    }
   ],
   "source": [
    "duree"
   ]
  },
  {
   "cell_type": "code",
   "execution_count": 477,
   "metadata": {},
   "outputs": [],
   "source": [
    "\"\"\"Forward Checking\n",
    "idéé: anticiper certaines prises de decisions dans le backtrack.\n",
    "Dès qu’une variable x est instanciee à la valeur a, \n",
    "on filtre toutes les valeurs incompatibles avec〈x,a〉mais on ne propage pas plus.\n",
    "Remarque: Ici, constraints n'est pas UNE contrainte mais l'ENSEMBLE des contraintes\n",
    "var1 est la variable que l'on analyse.\n",
    "\"\"\"\n",
    "def forwardChecking(instance_partielle,variables,constraints,var1):\n",
    "    for var2 in variables.keys():\n",
    "        list_no_support=[]\n",
    "        if var2 not in instance_partielle.keys():\n",
    "            exist_constraint=False\n",
    "            for c in constraints:\n",
    "                if (var1,var2)==c[0]:\n",
    "                    exist_constraint=True\n",
    "                    break\n",
    "            if exist_constraint:\n",
    "                for value_var2 in variables[var2]:\n",
    "                    #for loop supplementaire dans le cas où les contraintes sur x1,x2 ne sont \n",
    "                    #pas regroupees dans un seul bloc de constraints. A modifier si c est le cas\n",
    "                    #finalement\n",
    "                    for c in constraints:\n",
    "                        if (var1,var2)==c[0] and not (instance_partielle[var1],value_var2) in c[1]:\n",
    "                            list_no_support.append(value_var2)\n",
    "        if len(list_no_support)!=0:\n",
    "            variables[var2]=list(set(variables[var2])-set(list_no_support))\n",
    "    return True\n"
   ]
  },
  {
   "cell_type": "code",
   "execution_count": 478,
   "metadata": {},
   "outputs": [],
   "source": [
    "\"\"\"TEST\"\"\"\n",
    "variables=dict()\n",
    "variables={}\n",
    "variables[\"x1\"]=[1,2]\n",
    "variables[\"x2\"]=[1,2]\n",
    "variables[\"x3\"]=[1,3]\n",
    "variables[\"x4\"]=[1,2]\n",
    "contraintes=[[(\"x1\",\"x2\"),[(1,2),(2,1),(3,1),(3,2)]],[(\"x2\",\"x1\"),[(1,2),(1,3),(2,1),(2,3)]],\n",
    "             [(\"x2\",\"x3\"),[(2,1)]],[(\"x3\",\"x2\"),[(1,2)]],\n",
    "            [(\"x1\",\"x3\"),[(2,1),(3,1)]],[(\"x3\",\"x1\"),[(1,2),(1,3)]],\n",
    "            [(\"x1\",\"x4\"),[(1,2),(2,1),(3,1),(3,2)]],[(\"x4\",\"x1\"),[(1,2),(1,3),(2,1),(2,3)]],\n",
    "            [(\"x3\",\"x4\"),[(1,2)]],[(\"x4\",\"x3\"),[(2,1)]],\n",
    "            ]"
   ]
  },
  {
   "cell_type": "code",
   "execution_count": 479,
   "metadata": {},
   "outputs": [],
   "source": [
    "instance_partielle={\"x1\":3}"
   ]
  },
  {
   "cell_type": "code",
   "execution_count": 480,
   "metadata": {},
   "outputs": [
    {
     "data": {
      "text/plain": [
       "True"
      ]
     },
     "execution_count": 480,
     "metadata": {},
     "output_type": "execute_result"
    }
   ],
   "source": [
    "forwardChecking(instance_partielle,variables,contraintes,\"x1\")"
   ]
  },
  {
   "cell_type": "code",
   "execution_count": 481,
   "metadata": {},
   "outputs": [
    {
     "data": {
      "text/plain": [
       "{'x1': [1, 2], 'x2': [1, 2], 'x3': [1], 'x4': [1, 2]}"
      ]
     },
     "execution_count": 481,
     "metadata": {},
     "output_type": "execute_result"
    }
   ],
   "source": [
    "variables"
   ]
  },
  {
   "cell_type": "code",
   "execution_count": null,
   "metadata": {},
   "outputs": [],
   "source": []
  }
 ],
 "metadata": {
  "kernelspec": {
   "display_name": "Python 3",
   "language": "python",
   "name": "python3"
  },
  "language_info": {
   "codemirror_mode": {
    "name": "ipython",
    "version": 3
   },
   "file_extension": ".py",
   "mimetype": "text/x-python",
   "name": "python",
   "nbconvert_exporter": "python",
   "pygments_lexer": "ipython3",
   "version": "3.7.4"
  }
 },
 "nbformat": 4,
 "nbformat_minor": 2
}
