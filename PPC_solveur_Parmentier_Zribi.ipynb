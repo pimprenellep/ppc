{
 "cells": [
  {
   "cell_type": "markdown",
   "metadata": {},
   "source": [
    "<h1> Réalisation d’un mini solveur de CSP binaires</h1>\n",
    "Master MPRO Pimprenelle Parmentier - Jonathan Zribi\n",
    "Janvier 2020"
   ]
  },
  {
   "cell_type": "markdown",
   "metadata": {},
   "source": [
    "## Données"
   ]
  },
  {
   "cell_type": "code",
   "execution_count": 34,
   "metadata": {},
   "outputs": [],
   "source": [
    "# -*- coding: utf-8 -*-\n",
    "import time\n",
    "import timeit\n",
    "import random\n",
    "\n",
    "#exemple\n",
    "variables=dict()\n",
    "variables={}\n",
    "variables[\"x1\"]=[1,2]\n",
    "variables[\"x2\"]=[1,2]\n",
    "contraintes=[[(\"x1\",\"x2\"),[(1,2),(2,2)]]]\n",
    "instance=dict()\n",
    "instance={}\n",
    "#instance[\"x1\"]=2\n",
    "#instance[\"x2\"]=1\n",
    "#0: faux, 1: vérifié 2: incomplet"
   ]
  },
  {
   "cell_type": "markdown",
   "metadata": {},
   "source": [
    "## Backtrack"
   ]
  },
  {
   "cell_type": "code",
   "execution_count": 91,
   "metadata": {},
   "outputs": [],
   "source": [
    "\"\"\"\n",
    "variables[\"x1\"]=1\n",
    "variables[\"x2\"]=2\n",
    "contraintes=[[(\"x1\",\"x2\"),[(1,2),(2,2)]]]\n",
    "\"\"\"\n",
    "#checkconstraint sur une instance partielle\n",
    "#Instance partielle: couple de valeurs pour x1, x2.\n",
    "#{'x1':1,'x2':2}\n",
    "#Pour tout checker, for loop sur les instances partielles, contraintes.\n",
    "# ici constraint est de la forme [('x1', 'x2'), [(1, 2), (2, 2)]\n",
    "# par ex contraintes[0]\n",
    "def checkConstraint(constraint,instance):\n",
    "    var1=constraint[0][0]\n",
    "    var2=constraint[0][1]\n",
    "    #print('var1 check: ',var1)\n",
    "    #print('var2 check: ',var2)\n",
    "    #print('instance keys ', instance.keys())\n",
    "    if var1 in instance.keys() and var2 in instance.keys():\n",
    "        for j in constraint[1]:\n",
    "            if j[0]==instance[var1] and j[1]==instance[var2]:\n",
    "                return(1)\n",
    "        return(0)\n",
    "    else:\n",
    "        return(2)\n",
    "        \n",
    "\n",
    "#print(checkConstraint(contraintes[0],{'x1':1,'x2':2}))"
   ]
  },
  {
   "cell_type": "markdown",
   "metadata": {},
   "source": [
    "<h5>Heuristiques de sélection de variables pour backtrack </h5>"
   ]
  },
  {
   "cell_type": "code",
   "execution_count": 39,
   "metadata": {},
   "outputs": [],
   "source": [
    "\"Heuristics for variable selection in backtracking algorithm\"\n",
    "def strategy_selection_1(variables,instance):\n",
    "    #The minimum index\n",
    "     for x in variables.keys():\n",
    "        if not(x in instance.keys()):\n",
    "            return x\n",
    "def strategy_selection_2(variables,instance):\n",
    "    #The maximum index\n",
    "     for x in sorted(list(variables.keys()),reverse=True):\n",
    "        if not(x in instance.keys()):\n",
    "            return x        \n",
    "def strategy_selection_3(variables,instance):\n",
    "    #Most constrained variable, min domain\n",
    "    #Minimum remaining values variable first    \n",
    "    keys_dict=list(variables.keys())\n",
    "    values_list=list(variables.values())\n",
    "    values_list_card=[len(i) for i in values_list]\n",
    "    keys_var_dict_in_order=[keys_dict for _,keys_dict in sorted(zip(values_list_card,keys_dict))]\n",
    "    #print(keys_var_dict_in_order)\n",
    "    for x in keys_var_dict_in_order:\n",
    "        if not(x in instance.keys()):\n",
    "            return x\n",
    "        \n",
    "#pre-processing à faire avant de lancer le backtrack\n",
    "def build_dict_var_number_constraints(variables,constraints):\n",
    "    dict_var_number_constraints=dict()\n",
    "    for var in variables.keys():\n",
    "        dict_var_number_constraints[var]=0\n",
    "    for var in variables.keys():\n",
    "        for c in constraints:\n",
    "            if var in c[0]:\n",
    "                dict_var_number_constraints[var]+=1\n",
    "    return dict_var_number_constraints\n",
    "\n",
    "def strategy_selection_4(variables,instance,dict_var_number_constraints=False):\n",
    "    #Most constraining variable\n",
    "    #variable with most constraints on remaining variables\n",
    "    #most edges in graph \n",
    "    #remaining_keys_variables=list(set(variables.keys())-set(instance.keys()))\n",
    "    #build_dict_var_number_constraintsn pre-processing..\n",
    "    if not dict_var_number_constraints:\n",
    "        dict_var_number_constraints=build_dict_var_number_constraints(variables,constraints)\n",
    "    elif isinstance(dict_var_number_constraints, dict):\n",
    "        list_var_in_order=sorted(dict_var_number_constraints.items(),key=lambda t:t[1],reverse=True)\n",
    "        list_var_in_order=[i[0] for i in list_var_in_order ]\n",
    "        for x in list_var_in_order:\n",
    "            if not(x in instance.keys()):\n",
    "                return x\n",
    "    else:\n",
    "        return False\n",
    "                \n",
    "def strategy_selection_5(variables,instance,dict_var_number_constraints=False):\n",
    "    #least constraining value heuristic\n",
    "    if not dict_var_number_constraints:\n",
    "        dict_var_number_constraints=build_dict_var_number_constraints(variables,constraints)\n",
    "    elif isinstance(dict_var_number_constraints, dict):\n",
    "        list_var_in_order=sorted(dict_var_number_constraints.items(),key=lambda t:t[1],reverse=False)\n",
    "        list_var_in_order=[i[0] for i in list_var_in_order ]\n",
    "        for x in list_var_in_order:\n",
    "            if not(x in instance.keys()):\n",
    "                return x\n",
    "    else:\n",
    "        return False\n",
    "\n",
    "def strategy_selection_6(variables,instance):\n",
    "    #Choose the variable with the minimum ratio domain size/number of constraints\n",
    "    remaining_keys_variables=list(set(variables.keys())-set(instance.keys()))\n",
    "    return random.choice(remaining_keys_variables)\n",
    "\n",
    "#Pre-processing before backtrack if you use strategy_selection_7\n",
    "def build_dict_var_ratio_domain_constraints(variables,constraints):\n",
    "    #build the dict with the ratios domain size/number of constraints\n",
    "    dict_ratios=dict()\n",
    "    dict_var_number_constraints=build_dict_var_number_constraints(variables,constraints)\n",
    "    #remaining_keys_variables=list(set(variables.keys())-set(instance.keys()))\n",
    "    for var in variables.keys():\n",
    "        if dict_var_number_constraints[var]!=0:\n",
    "            dict_ratios[var]=len(variables[var])/dict_var_number_constraints[var]\n",
    "        else:\n",
    "            #100 is arbitrary. A big number\n",
    "            dict_ratios[var]=len(variables[var])+100\n",
    "    return dict_ratios\n",
    "\n",
    "def strategy_selection_7(variables,instance,dict_ratios=False):\n",
    "    #Choose a random variable with the minimul ratio \n",
    "    #(Nombre de valeurs restantes)/(Nombre de contraintes le concernant)\n",
    "    if not dict_ratios:\n",
    "        dict_ratios=build_dict_var_ratio_domain_constraints(variables,constraints)\n",
    "    elif isinstance(dict_ratios, dict):\n",
    "        list_var_in_order=sorted(dict_ratios.items(),key=lambda t:t[1],reverse=False)\n",
    "        list_var_in_order=[i[0] for i in list_var_in_order ]\n",
    "        for x in list_var_in_order:\n",
    "            if not(x in instance.keys()):\n",
    "                return x\n",
    "    else:\n",
    "        return False\n",
    "\n",
    "#Impact-based Search: no time!    \n",
    "\n",
    "def selectVarAj(variables,instance,strategy_number,dict_var_number_constraints=False,dict_ratios=False):\n",
    "    if strategy_number==1:\n",
    "        return strategy_selection_1(variables,instance)\n",
    "    elif strategy_number==2:\n",
    "        return strategy_selection_2(variables,instance)\n",
    "    elif strategy_number==3:\n",
    "        return strategy_selection_3(variables,instance)\n",
    "    elif strategy_number==4:\n",
    "        #if not dict_var_number_constraints:\n",
    "        #    return strategy_selection_1(variables,instance)\n",
    "        #else:\n",
    "        return strategy_selection_4(variables,instance,dict_var_number_constraints)\n",
    "    elif strategy_number==5:\n",
    "        #if not dict_var_number_constraints:\n",
    "        #    return strategy_selection_1(variables,instance)\n",
    "        #else:\n",
    "        return strategy_selection_5(variables,instance,dict_var_number_constraints)\n",
    "    elif strategy_number==6:\n",
    "        return strategy_selection_6(variables,instance)\n",
    "    elif strategy_number==7:\n",
    "        #if not dict_var_number_constraints:\n",
    "        #    return strategy_selection_1(variables,instance)\n",
    "        #:\n",
    "        return strategy_selection_7(variables,instance,dict_ratios)"
   ]
  },
  {
   "cell_type": "code",
   "execution_count": 83,
   "metadata": {},
   "outputs": [],
   "source": [
    "solutions=[]\n",
    "#counter_calls=0\n",
    "def backTrack(variables,instance,contraintes,\n",
    "              strategy_number,\n",
    "              dict_var_number_constraints=False,\n",
    "              dict_ratios=False,\n",
    "              exhaustif=False,\n",
    "              forward=False):\n",
    "    #global counter_calls\n",
    "    #counter_calls+=1\n",
    "    dict_var_number_constraints_copy=dict_var_number_constraints\n",
    "    dict_ratios_copy=dict_ratios\n",
    "    forward_copy=forward\n",
    "    backTrack.counter_calls+=1\n",
    "    complet=True\n",
    "    for c in contraintes:\n",
    "        ch=checkConstraint(c,instance)\n",
    "        if ch==0:\n",
    "            #print(ch,False,\"instance fausse !!!\")\n",
    "            return(False)\n",
    "        if ch==2:\n",
    "            #print(\"instance incomplete\")\n",
    "            complet=False\n",
    "    if complet==True:\n",
    "        #print(\"instance complete\")\n",
    "        #print(\"resultat:\",instance)\n",
    "        solutions.append(instance)\n",
    "        return(True)\n",
    "    #On choisit une variable non instancée\n",
    "    varAj=selectVarAj(variables,instance,strategy_number,\n",
    "                      dict_var_number_constraints=dict_var_number_constraints_copy,\n",
    "                      dict_ratios=dict_ratios_copy)\n",
    "    #reordonner eventuellement varAj avant\n",
    "    #Pour chaque valeur y de varAj dans son domaine\n",
    "    for y in variables[varAj]:\n",
    "        #print(varAj,\"varAj \")\n",
    "        #print(y,\"y\")\n",
    "        instance2=instance.copy()\n",
    "        variables2=variables.copy()\n",
    "        instance2[varAj]=y\n",
    "        if forward:\n",
    "            variables2=forwardChecking(instance2,variables2,contraintes,varAj)\n",
    "        #print(\"instance actuelle\",instance2)\n",
    "        val=backTrack(variables2,instance2,contraintes,strategy_number,\n",
    "                      dict_var_number_constraints=dict_var_number_constraints_copy,\n",
    "                      dict_ratios=dict_ratios_copy,\n",
    "                      exhaustif=False,\n",
    "                      forward=forward_copy)\n",
    "        if val and exhaustif==False:\n",
    "            return(True)\n",
    "    return (False)"
   ]
  },
  {
   "cell_type": "code",
   "execution_count": 66,
   "metadata": {},
   "outputs": [],
   "source": [
    "\"\"\"\"instance=dict()\n",
    "variables={}\n",
    "variables[\"x1\"]=[1,2]\n",
    "variables[\"x2\"]=[1,2]\n",
    "contraintes=[[(\"x1\",\"x2\"),[(1,2),(2,2)]]]\n",
    "print(backTrack(instance,contraintes,exhaustif=False))\n",
    "\n",
    "print(instance,\"instance1\")\n",
    "\n",
    "print(variables)\n",
    "#print(variables[\"x1\"])\"\"\"\n",
    "#Test\n",
    "#remarque faut avoir executer le code lié à la fct reine avant pr que ca tourne.\n",
    "solutions=[]\n",
    "#counter_calls=0\n",
    "backTrack.counter_calls=0\n",
    "variables,contraintes=reines(15)\n",
    "instance=dict()\n",
    "instance={}\n",
    "#print(backTrack(instance,contraintes,exhaustif=False))\n",
    "#solutions=[]\n",
    "dict_ratios_vars=build_dict_var_ratio_domain_constraints(variables,contraintes)\n",
    "dict_var_number_constraints_copy=build_dict_var_ratio_domain_constraints(variables,contraintes)\n",
    "#strat_number=7\n",
    "#backTrack(instance,contraintes,strategy_number=strat_number,\n",
    "#          dict_var_number_constraints=dict_var_number_constraints_copy,\n",
    "#          dict_ratios=dict_ratios_vars,\n",
    "#          exhaustif=False)\n",
    "#print('number of calls',backTrack.counter_calls)"
   ]
  },
  {
   "cell_type": "code",
   "execution_count": 89,
   "metadata": {},
   "outputs": [
    {
     "name": "stdout",
     "output_type": "stream",
     "text": [
      "*--*-*-*-*-\n",
      "Strategie de branchement numéro 1\n",
      "number of calls 1366\n",
      "duration 0.12408304214477539\n",
      "*--*-*-*-*-\n",
      "Strategie de branchement numéro 2\n",
      "number of calls 1366\n",
      "duration 0.05265927314758301\n",
      "*--*-*-*-*-\n",
      "Strategie de branchement numéro 3\n",
      "number of calls 1366\n",
      "duration 0.08663201332092285\n",
      "*--*-*-*-*-\n",
      "Strategie de branchement numéro 4\n",
      "number of calls 1366\n",
      "duration 0.08688187599182129\n",
      "*--*-*-*-*-\n",
      "Strategie de branchement numéro 5\n",
      "number of calls 1366\n",
      "duration 0.07848286628723145\n",
      "*--*-*-*-*-\n",
      "Strategie de branchement numéro 6\n",
      "number of calls 807\n",
      "duration 0.09100484848022461\n",
      "*--*-*-*-*-\n",
      "Strategie de branchement numéro 7\n",
      "number of calls 1366\n",
      "duration 0.08502388000488281\n"
     ]
    }
   ],
   "source": [
    "solutions=[]\n",
    "variables,contraintes=reines(13)\n",
    "instance=dict()\n",
    "instance={}\n",
    "dict_ratios_vars=build_dict_var_ratio_domain_constraints(variables,contraintes)\n",
    "dict_var_number_constraints_copy=build_dict_var_ratio_domain_constraints(variables,contraintes)\n",
    "for i in range(1,8):\n",
    "    print(\"*--*-*-*-*-\")\n",
    "    print('Strategie de branchement numéro',i)\n",
    "    solutions=[]\n",
    "    backTrack.counter_calls=0\n",
    "    variables,contraintes=reines(13)\n",
    "    ac_3_bis(variables,contraintes)\n",
    "    if i in [4,5,7]:\n",
    "        dict_ratios_vars=build_dict_var_ratio_domain_constraints(variables,contraintes)\n",
    "        dict_var_number_constraints_copy=build_dict_var_ratio_domain_constraints(variables,contraintes)\n",
    "    instance=dict()\n",
    "    instance={}\n",
    "    strat_number=i\n",
    "    t0=time.time()\n",
    "    backTrack(variables,instance,contraintes,strategy_number=strat_number,\n",
    "          dict_var_number_constraints=dict_var_number_constraints_copy,\n",
    "          dict_ratios=dict_ratios_vars,\n",
    "          exhaustif=False,\n",
    "          forward=False)\n",
    "    t1=time.time()\n",
    "    print('number of calls',backTrack.counter_calls)\n",
    "    print('duration',t1-t0)"
   ]
  },
  {
   "cell_type": "markdown",
   "metadata": {},
   "source": [
    "## AC-3"
   ]
  },
  {
   "cell_type": "code",
   "execution_count": 45,
   "metadata": {},
   "outputs": [],
   "source": [
    "#Fonction séparée pour la selection du couple dans l'algo AC_3.\n",
    "#Peut etre utile si existence d heuristiques interessantes\n",
    "def selectCouple(aTester):\n",
    "    #Different strategies can be chosen for the selection of the couple\n",
    "    return aTester.pop()"
   ]
  },
  {
   "cell_type": "code",
   "execution_count": 13,
   "metadata": {},
   "outputs": [
    {
     "name": "stdout",
     "output_type": "stream",
     "text": [
      "[3, 4]\n"
     ]
    }
   ],
   "source": [
    "a=[3,4,5]\n",
    "selectCouple(a)\n",
    "print(a)"
   ]
  },
  {
   "cell_type": "code",
   "execution_count": 14,
   "metadata": {},
   "outputs": [],
   "source": [
    "\"\"\"\"Fonction utilisee dans l'algo AC-3\n",
    "Remarque: Ici, constraints n'est pas UNE contrainte mais l'ENSEMBLE des contraintes\"\"\"\n",
    "def checkConstraint_ac3(constraints,instance):\n",
    "    var1=list(instance.keys())[0]\n",
    "    var2=list(instance.keys())[1]\n",
    "    for c in constraints:\n",
    "        if var1 in c[0] and var2 in c[0]:\n",
    "            #si les nombres n'apparaissent meme pas dans les possibilites, on passe\n",
    "            # a l iteration suivante\n",
    "            \"\"\"for i in range(len(c[1])):\n",
    "                #check\n",
    "                print(\"yes\")\n",
    "                print(var1,var2)\n",
    "                print(c[1][i])\n",
    "                print(\"-----\")\n",
    "                if instance[var1]==c[1][i][0] and instance[var2]==c[1][i][1]:\n",
    "                    return True\n",
    "                \"\"\"\n",
    "            if (instance[var1],instance[var2]) in c[1]:\n",
    "                return True\n",
    "    return False"
   ]
  },
  {
   "cell_type": "markdown",
   "metadata": {},
   "source": [
    "Remarque: nouveau code ac_3, semble bien fonctionner. Testé sur l exemple du cours sur la coloration de graphe."
   ]
  },
  {
   "cell_type": "code",
   "execution_count": 15,
   "metadata": {},
   "outputs": [],
   "source": [
    "\"\"\"\n",
    "Algorithme AC-3\n",
    "quand on supprime une valeur a la variable x,\n",
    "on ne reexamine que les variables liees a x par une contrainte\"\"\"\n",
    "def ac_3(variables,constraints):\n",
    "    aTester=[]\n",
    "    \"\"\"Initialisation aTester\"\"\"\n",
    "    for i in range(len(constraints)):\n",
    "       # print('constraints[i]:',constraints[i])\n",
    "        #on ajoute le couple (x,y)\n",
    "        aTester.append(constraints[i][0])\n",
    "        #print('Atester:',aTester)\n",
    "    while len(aTester)!=0:\n",
    "        \"\"\"\"Selection du couple \"\"\"\n",
    "        couple=selectCouple(aTester)\n",
    "        list_values_without_support=[]\n",
    "        #print('-*-*-*-*-*-*-')\n",
    "        #print('new couple')\n",
    "        #print('list no support',list_values_without_support)\n",
    "        #pr  chaque valeur pour la variable x\n",
    "        #print('couple:',couple)\n",
    "        \"\"\"\"Parcourts des valeurs de x \"\"\"\n",
    "        for value_x in variables[couple[0]]:\n",
    "            #print('nouvelle valeur de x',couple[0],value_x)\n",
    "            support=False\n",
    "            \"\"\"\"Parcourt des valeurs de y \"\"\"\n",
    "            for value_y in variables[couple[1]]:\n",
    "                \"\"\"\"On verifie qu'il existe une contrainte Cx,y validee\"\"\"\n",
    "                if checkConstraint_ac3(contraintes,{couple[0]:value_x,couple[1]:value_y}):\n",
    "                    support=True\n",
    "                    break;\n",
    "            #print('support',support,couple[0],value_x,couple[1])\n",
    "            \"\"\"\"On cree la liste des valeurs de x sans support\"\"\"\n",
    "            if not support:\n",
    "                #print('x', couple[0])\n",
    "                list_values_without_support.append(value_x)\n",
    "                #print('list no support',list_values_without_support)\n",
    "\n",
    "        if len(list_values_without_support)!=0:\n",
    "            #print('===')\n",
    "            #print('reduce domaine of', couple[0], list_values_without_support)\n",
    "            \"\"\"\"On met a jour le domaine de x \"\"\"\n",
    "            variables[couple[0]]=list(set(variables[couple[0]])-set(list_values_without_support))\n",
    "            #print('variables: ',variables)\n",
    "            \"\"\"\"On met a jour aTester\"\"\"\n",
    "            for i in range(len(constraints)):\n",
    "                if constraints[i][0][0]!=couple[1] and constraints[i][0][1]==couple[0]:\n",
    "                    #print('couple étudié ', couple)\n",
    "                    #print('ajout dans aTester',constraints[i][0])\n",
    "                    aTester.append([constraints[i][0][0],constraints[i][0][1]])\n",
    "                    #print('======')\n",
    "            #print('======')\n",
    "        #print('-*-*-*-*-*-*-')\n",
    "       \n",
    "                    \n",
    "                                \n",
    "    return True\n",
    "            "
   ]
  },
  {
   "cell_type": "code",
   "execution_count": 16,
   "metadata": {},
   "outputs": [],
   "source": [
    "variables=dict()\n",
    "variables={}\n",
    "variables[\"x1\"]=[1,2,3]\n",
    "variables[\"x2\"]=[1,2]\n",
    "variables[\"x3\"]=[1]\n",
    "contraintes=[[(\"x1\",\"x2\"),[(1,2),(2,1),(3,1),(3,2)]],[(\"x2\",\"x1\"),[(1,2),(1,3),(2,1),(2,3)]],\n",
    "             [(\"x2\",\"x3\"),[(2,1)]],[(\"x3\",\"x2\"),[(1,2)]],\n",
    "            [(\"x1\",\"x3\"),[(2,1),(3,1)]],[(\"x3\",\"x1\"),[(1,2),(1,3)]]\n",
    "            ]\n",
    "t1 = time.time()\n",
    "ac_3(variables,contraintes)\n",
    "t2=time.time()\n",
    "duree=t2-t1"
   ]
  },
  {
   "cell_type": "code",
   "execution_count": 17,
   "metadata": {},
   "outputs": [
    {
     "data": {
      "text/plain": [
       "{'x1': [3], 'x2': [2], 'x3': [1]}"
      ]
     },
     "execution_count": 17,
     "metadata": {},
     "output_type": "execute_result"
    }
   ],
   "source": [
    "variables"
   ]
  },
  {
   "cell_type": "code",
   "execution_count": 18,
   "metadata": {},
   "outputs": [
    {
     "data": {
      "text/plain": [
       "0.0001342296600341797"
      ]
     },
     "execution_count": 18,
     "metadata": {},
     "output_type": "execute_result"
    }
   ],
   "source": [
    "duree"
   ]
  },
  {
   "cell_type": "code",
   "execution_count": 42,
   "metadata": {},
   "outputs": [],
   "source": [
    "\"\"\"\"Fonction utilisee dans l'algo AC_3_Bis\n",
    "Remarque: Ici, constraints n'est pas UNE contrainte mais l'ENSEMBLE des contraintes\"\"\"\n",
    "def checkConstraint_ac3_bis(variables, constraints,var1,value_var1,var2):\n",
    "    for c in constraints:\n",
    "        if var1 in c[0] and var2 in c[0]:\n",
    "            for value_var2 in variables[var2]:\n",
    "                if (value_var1,value_var2) in c[1]:\n",
    "                    return True\n",
    "    return False"
   ]
  },
  {
   "cell_type": "code",
   "execution_count": 43,
   "metadata": {},
   "outputs": [],
   "source": [
    "\"\"\"\n",
    "Algorithme AC-3\n",
    "quand on supprime une valeur a la variable x,\n",
    "on ne reexamine que les variables liees a x par une contrainte\"\"\"\n",
    "\"\"\"\" Difference avec ac_3 ? au niveau de la fonction checkConstraint_ac3, ordre for c in constraints\n",
    "et for value_y in domaines de y\"\"\"\n",
    "\"\"\"\"Performances ac_3_bis peut etre legerement meilleur que ac_3\"\"\"\n",
    "def ac_3_bis(variables,constraints):\n",
    "    aTester=[]\n",
    "    \"\"\"Initialisation aTester\"\"\"\n",
    "    for i in range(len(constraints)):\n",
    "       # print('constraints[i]:',constraints[i])\n",
    "        #on ajoute le couple (x,y)\n",
    "        aTester.append(constraints[i][0])\n",
    "    while len(aTester)!=0:\n",
    "        \"\"\"\"Selection du couple \"\"\"\n",
    "        couple=selectCouple(aTester)\n",
    "        list_values_without_support=[]\n",
    "        #print('-*-*-*-*-*-*-')\n",
    "        #print('new couple')\n",
    "        #print('list no support',list_values_without_support)\n",
    "        #pr  chaque valeur pour la variable x\n",
    "        #print('couple:',couple)\n",
    "        \"\"\"\"Parcourts des valeurs de x \"\"\"\n",
    "        for value_x in variables[couple[0]]:\n",
    "            #print('nouvelle valeur de x',couple[0],value_x)\n",
    "            support=False\n",
    "            \"\"\"\"On verifie qu'il existe une contrainte Cx,y validee\"\"\"\n",
    "            if checkConstraint_ac3_bis(variables,constraints,couple[0],value_x,couple[1]):\n",
    "                support=True\n",
    "                break;\n",
    "            #print('support',support,couple[0],value_x,couple[1])\n",
    "            \"\"\"\"On cree la liste des valeurs de x sans support\"\"\"\n",
    "            if not support:\n",
    "                #print('x', couple[0])\n",
    "                list_values_without_support.append(value_x)\n",
    "                #print('list no support',list_values_without_support)\n",
    "\n",
    "        if len(list_values_without_support)!=0:\n",
    "            #print('===')\n",
    "            #print('reduce domaine of', couple[0], list_values_without_support)\n",
    "            \"\"\"\"On met a jour le domaine de x \"\"\"\n",
    "            variables[couple[0]]=list(set(variables[couple[0]])-set(list_values_without_support))\n",
    "            #print('variables: ',variables)\n",
    "            \"\"\"\"On met a jour aTester\"\"\"\n",
    "            for i in range(len(constraints)):\n",
    "                if constraints[i][0][0]!=couple[1] and constraints[i][0][1]==couple[0]:\n",
    "                    #print('couple étudié ', couple)\n",
    "                    #print('ajout dans aTester',constraints[i][0])\n",
    "                    aTester.append([constraints[i][0][0],constraints[i][0][1]])\n",
    "                    #print('======')\n",
    "            #print('======')\n",
    "        #print('-*-*-*-*-*-*-')\n",
    "       \n",
    "                    \n",
    "                                \n",
    "    return True\n",
    "            "
   ]
  },
  {
   "cell_type": "markdown",
   "metadata": {},
   "source": [
    "## Forward checking"
   ]
  },
  {
   "cell_type": "code",
   "execution_count": 64,
   "metadata": {},
   "outputs": [],
   "source": [
    "\"\"\"Forward Checking\n",
    "idéé: anticiper certaines prises de decisions dans le backtrack.\n",
    "Dès qu’une variable x est instanciee à la valeur a, \n",
    "on filtre toutes les valeurs incompatibles avec〈x,a〉mais on ne propage pas plus.\n",
    "Remarque: Ici, constraints n'est pas UNE contrainte mais l'ENSEMBLE des contraintes\n",
    "var1 est la variable que l'on analyse.\n",
    "\"\"\"\n",
    "def forwardChecking_old(instance_partielle,variables,constraints,var1):\n",
    "    for var2 in variables.keys():\n",
    "        list_no_support=[]\n",
    "        if var2 not in instance_partielle.keys():\n",
    "            exist_constraint=False\n",
    "            for c in constraints:\n",
    "                if (var1,var2)==c[0]:\n",
    "                    exist_constraint=True\n",
    "                    break\n",
    "            if exist_constraint:\n",
    "                for value_var2 in variables[var2]:\n",
    "                    #for loop supplementaire dans le cas où les contraintes sur x1,x2 ne sont \n",
    "                    #pas regroupees dans un seul bloc de constraints. A modifier si c est le cas\n",
    "                    #finalement\n",
    "                    for c in constraints:\n",
    "                        if (var1,var2)==c[0] and not (instance_partielle[var1],value_var2) in c[1]:\n",
    "                            list_no_support.append(value_var2)\n",
    "        if len(list_no_support)!=0:\n",
    "            variables[var2]=list(set(variables[var2])-set(list_no_support))\n",
    "    return True\n"
   ]
  },
  {
   "cell_type": "code",
   "execution_count": 65,
   "metadata": {},
   "outputs": [],
   "source": [
    "\"\"\"Forward Checking\n",
    "idéé: anticiper certaines prises de decisions dans le backtrack.\n",
    "Dès qu’une variable x est instanciee à la valeur a, \n",
    "on filtre toutes les valeurs incompatibles avec〈x,a〉mais on ne propage pas plus.\n",
    "Remarque: Ici, constraints n'est pas UNE contrainte mais l'ENSEMBLE des contraintes\n",
    "var1 est la variable que l'on analyse.\n",
    "\"\"\"\n",
    "def forwardChecking(instance_partielle,variables,constraints,var1):\n",
    "    variablesC=variables.copy()\n",
    "    print(constraints)\n",
    "    for var2 in variablesC.keys():\n",
    "        list_no_support=[]\n",
    "        if var2 not in instance_partielle.keys():\n",
    "            exist_constraint=False\n",
    "            for c in constraints:\n",
    "                if (var1,var2)==c[0]:\n",
    "                    exist_constraint=True\n",
    "                    break\n",
    "            if exist_constraint:\n",
    "                for value_var2 in variablesC[var2]:\n",
    "                    #for loop supplementaire dans le cas où les contraintes sur x1,x2 ne sont \n",
    "                    #pas regroupees dans un seul bloc de constraints. A modifier si c est le cas\n",
    "                    #finalement\n",
    "                    for c in constraints:\n",
    "                        if (var1,var2)==c[0] and not (instance_partielle[var1],value_var2) in c[1]:\n",
    "                            list_no_support.append(value_var2)\n",
    "        if len(list_no_support)!=0:\n",
    "            variablesC[var2]=list(set(variablesC[var2])-set(list_no_support))\n",
    "    return variablesC"
   ]
  },
  {
   "cell_type": "code",
   "execution_count": 28,
   "metadata": {},
   "outputs": [],
   "source": [
    "\"\"\"TEST\"\"\"\n",
    "variables=dict()\n",
    "variables={}\n",
    "variables[\"x1\"]=[1,2]\n",
    "variables[\"x2\"]=[1,2]\n",
    "variables[\"x3\"]=[1,3]\n",
    "variables[\"x4\"]=[1,2]\n",
    "contraintes=[[(\"x1\",\"x2\"),[(1,2),(2,1),(3,1),(3,2)]],[(\"x2\",\"x1\"),[(1,2),(1,3),(2,1),(2,3)]],\n",
    "             [(\"x2\",\"x3\"),[(2,1)]],[(\"x3\",\"x2\"),[(1,2)]],\n",
    "            [(\"x1\",\"x3\"),[(2,1),(3,1)]],[(\"x3\",\"x1\"),[(1,2),(1,3)]],\n",
    "            [(\"x1\",\"x4\"),[(1,2),(2,1),(3,1),(3,2)]],[(\"x4\",\"x1\"),[(1,2),(1,3),(2,1),(2,3)]],\n",
    "            [(\"x3\",\"x4\"),[(1,2)]],[(\"x4\",\"x3\"),[(2,1)]],\n",
    "            ]\n",
    "\n"
   ]
  },
  {
   "cell_type": "code",
   "execution_count": 29,
   "metadata": {},
   "outputs": [],
   "source": [
    "instance_partielle={\"x1\":3}"
   ]
  },
  {
   "cell_type": "code",
   "execution_count": 30,
   "metadata": {},
   "outputs": [
    {
     "data": {
      "text/plain": [
       "True"
      ]
     },
     "execution_count": 30,
     "metadata": {},
     "output_type": "execute_result"
    }
   ],
   "source": [
    "forwardChecking_old(instance_partielle,variables,contraintes,\"x1\")"
   ]
  },
  {
   "cell_type": "code",
   "execution_count": 31,
   "metadata": {},
   "outputs": [
    {
     "data": {
      "text/plain": [
       "{'x1': [1, 2], 'x2': [1, 2], 'x3': [1], 'x4': [1, 2]}"
      ]
     },
     "execution_count": 31,
     "metadata": {},
     "output_type": "execute_result"
    }
   ],
   "source": [
    "variables"
   ]
  },
  {
   "cell_type": "markdown",
   "metadata": {},
   "source": [
    "## AC-4"
   ]
  },
  {
   "cell_type": "code",
   "execution_count": 93,
   "metadata": {},
   "outputs": [],
   "source": [
    "def initAC4(variables,contraintes):\n",
    "    Q=set()\n",
    "    S=dict()\n",
    "    S={}\n",
    "    Count=dict()\n",
    "    Count={}\n",
    "    for c in contraintes:\n",
    "        x=c[0][0]\n",
    "        y=c[0][1]\n",
    "        for a in variables[x]:\n",
    "            total=0\n",
    "            Count[(x,y,a)]=0\n",
    "            for b in variables[y]:\n",
    "                if (a,b) in c[1]:\n",
    "                    total=total+1\n",
    "                    if (y,b) in S.keys():\n",
    "                        S[(y,b)].append((x,a))\n",
    "                    else:\n",
    "                        S[(y,b)]=[(x,a)]\n",
    "                Count[(x,y,a)]=total\n",
    "            if Count[(x,y,a)]==0:\n",
    "                variables[x].remove(a)\n",
    "                A=set([(x,a)])\n",
    "                Q=Q|A\n",
    "    return(Q,S,Count)\n",
    "        "
   ]
  },
  {
   "cell_type": "code",
   "execution_count": 97,
   "metadata": {},
   "outputs": [],
   "source": [
    "def AC4(variables,contraintes):\n",
    "    Q,S,Count=initAC4(variables,contraintes)\n",
    "    #print(\"Q:\",Q)\n",
    "    #print(\"S:\",S)\n",
    "    #print(\"count:\", Count)\n",
    "    while len(Q)>0:\n",
    "        yb=Q.pop()\n",
    "        y,b=yb[0],yb[1]\n",
    "        if yb in S.keys():\n",
    "            for xa in S[yb]:\n",
    "                x,a=xa[0],xa[1]\n",
    "                print(x,y,a)\n",
    "                Count[(x,y,a)]=Count[(x,y,a)]-1\n",
    "                if Count[(x,y,a)]==0 and a in variables[x]:\n",
    "                    variables[x].remove(a)\n",
    "                    A=set([(x,a)])\n",
    "                    Q=Q|A\n",
    "    return(variables)"
   ]
  },
  {
   "cell_type": "code",
   "execution_count": 95,
   "metadata": {},
   "outputs": [],
   "source": [
    "\"\"\"TEST\"\"\"\n",
    "variables=dict()\n",
    "variables={}\n",
    "variables[\"x1\"]=[1,2]\n",
    "variables[\"x2\"]=[1,2]\n",
    "variables[\"x3\"]=[1,3]\n",
    "variables[\"x4\"]=[1,2]\n",
    "contraintes=[[(\"x1\",\"x2\"),[(1,2),(2,1),(3,1),(3,2)]],[(\"x2\",\"x1\"),[(1,2),(1,3),(2,1),(2,3)]],\n",
    "             [(\"x2\",\"x3\"),[(2,1),(2,3)]],[(\"x3\",\"x2\"),[(1,2),(3,2)]],\n",
    "            [(\"x1\",\"x3\"),[(2,1),(3,1),(1,3)]],[(\"x3\",\"x1\"),[(1,2),(1,3),(3,1)]],\n",
    "            [(\"x1\",\"x4\"),[(1,2),(2,1),(3,1),(3,2)]],[(\"x4\",\"x1\"),[(1,2),(1,3),(2,1),(2,3)]],\n",
    "            [(\"x3\",\"x4\"),[(1,2),(3,2)]],[(\"x4\",\"x3\"),[(2,1),(2,3)]],\n",
    "            ]\n",
    "#backTrack(instance,contraintes)\n"
   ]
  },
  {
   "cell_type": "code",
   "execution_count": 4,
   "metadata": {},
   "outputs": [
    {
     "name": "stdout",
     "output_type": "stream",
     "text": [
      "{'x1': [1, 2], 'x2': [1, 2], 'x3': [1, 3], 'x4': [1, 2]}\n",
      "Q: {('x4', 1), ('x2', 1)}\n",
      "S: {('x2', 2): [('x1', 1), ('x3', 1), ('x3', 3)], ('x2', 1): [('x1', 2)], ('x1', 2): [('x2', 1), ('x3', 1), ('x4', 1)], ('x1', 1): [('x2', 2), ('x3', 3), ('x4', 2)], ('x3', 3): [('x1', 1)], ('x3', 1): [('x1', 2)], ('x4', 2): [('x1', 1), ('x3', 1), ('x3', 3)], ('x4', 1): [('x1', 2)]}\n",
      "count: {('x1', 'x2', 1): 1, ('x1', 'x2', 2): 1, ('x2', 'x1', 1): 1, ('x2', 'x1', 2): 1, ('x2', 'x3', 1): 0, ('x3', 'x2', 1): 1, ('x3', 'x2', 3): 1, ('x1', 'x3', 1): 1, ('x1', 'x3', 2): 1, ('x3', 'x1', 1): 1, ('x3', 'x1', 3): 1, ('x1', 'x4', 1): 1, ('x1', 'x4', 2): 1, ('x4', 'x1', 1): 1, ('x4', 'x1', 2): 1, ('x3', 'x4', 1): 1, ('x3', 'x4', 3): 1, ('x4', 'x3', 1): 0}\n",
      "x1 x4 2\n",
      "x2 x1 1\n",
      "x3 x1 1\n",
      "x4 x1 1\n",
      "x1 x3 2\n",
      "x1 x2 2\n"
     ]
    },
    {
     "data": {
      "text/plain": [
       "{'x1': [1], 'x2': [2], 'x3': [3], 'x4': [2]}"
      ]
     },
     "execution_count": 4,
     "metadata": {},
     "output_type": "execute_result"
    }
   ],
   "source": [
    "print(variables)\n",
    "\n",
    "AC4(variables,contraintes)"
   ]
  },
  {
   "cell_type": "markdown",
   "metadata": {},
   "source": [
    "## Reines"
   ]
  },
  {
   "cell_type": "code",
   "execution_count": 49,
   "metadata": {},
   "outputs": [
    {
     "name": "stdout",
     "output_type": "stream",
     "text": [
      "({1: [1, 2, 3], 2: [1, 2, 3, 4, 5], 3: [1, 2, 3, 4, 5], 4: [1, 2, 3, 4, 5], 5: [1, 2, 3, 4, 5]}, [[(1, 2), [(1, 3), (1, 4), (1, 5), (2, 4), (2, 5), (3, 1), (3, 5), (4, 1), (4, 2), (5, 1), (5, 2), (5, 3)]], [(1, 3), [(1, 2), (1, 4), (1, 5), (2, 1), (2, 3), (2, 5), (3, 2), (3, 4), (4, 1), (4, 3), (4, 5), (5, 1), (5, 2), (5, 4)]], [(1, 4), [(1, 2), (1, 3), (1, 5), (2, 1), (2, 3), (2, 4), (3, 1), (3, 2), (3, 4), (3, 5), (4, 2), (4, 3), (4, 5), (5, 1), (5, 3), (5, 4)]], [(1, 5), [(1, 2), (1, 3), (1, 4), (2, 1), (2, 3), (2, 4), (2, 5), (3, 1), (3, 2), (3, 4), (3, 5), (4, 1), (4, 2), (4, 3), (4, 5), (5, 2), (5, 3), (5, 4)]], [(2, 3), [(1, 3), (1, 4), (1, 5), (2, 4), (2, 5), (3, 1), (3, 5), (4, 1), (4, 2), (5, 1), (5, 2), (5, 3)]], [(2, 4), [(1, 2), (1, 4), (1, 5), (2, 1), (2, 3), (2, 5), (3, 2), (3, 4), (4, 1), (4, 3), (4, 5), (5, 1), (5, 2), (5, 4)]], [(2, 5), [(1, 2), (1, 3), (1, 5), (2, 1), (2, 3), (2, 4), (3, 1), (3, 2), (3, 4), (3, 5), (4, 2), (4, 3), (4, 5), (5, 1), (5, 3), (5, 4)]], [(3, 4), [(1, 3), (1, 4), (1, 5), (2, 4), (2, 5), (3, 1), (3, 5), (4, 1), (4, 2), (5, 1), (5, 2), (5, 3)]], [(3, 5), [(1, 2), (1, 4), (1, 5), (2, 1), (2, 3), (2, 5), (3, 2), (3, 4), (4, 1), (4, 3), (4, 5), (5, 1), (5, 2), (5, 4)]], [(4, 5), [(1, 3), (1, 4), (1, 5), (2, 4), (2, 5), (3, 1), (3, 5), (4, 1), (4, 2), (5, 1), (5, 2), (5, 3)]]])\n"
     ]
    }
   ],
   "source": [
    "def reines(n):\n",
    "    variables=dict()\n",
    "    variables={}\n",
    "    contraintes=[]\n",
    "    variables[1]=[j for j in range(1,(n+1)//2+1)]\n",
    "    for i in range(2,n+1):\n",
    "        variables[i]=[j for j in range(1,n+1)]\n",
    "    for i in range(1,n+1):\n",
    "        for j in range(i+1,n+1):\n",
    "            c=[]\n",
    "            for a in range(1,n+1):\n",
    "                for b in range(1,n+1):\n",
    "                    if a!=b and b-a!=j-i and a-b!=j-i:\n",
    "                        c.append((a,b))\n",
    "            contraintes.append([(i,j),c])\n",
    "    return(variables,contraintes)\n",
    "\n",
    "print(reines(5))\n",
    "            "
   ]
  },
  {
   "cell_type": "code",
   "execution_count": 52,
   "metadata": {},
   "outputs": [
    {
     "name": "stdout",
     "output_type": "stream",
     "text": [
      "instance complete\n",
      "resultat: {1: 1, 2: 3, 3: 5, 4: 2, 5: 4}\n",
      "True\n"
     ]
    }
   ],
   "source": [
    "variables,contraintes=reines(5)\n",
    "instance=dict()\n",
    "instance={}\n",
    "print(backTrack(instance,contraintes,strategy_number=1))"
   ]
  },
  {
   "cell_type": "code",
   "execution_count": 53,
   "metadata": {},
   "outputs": [],
   "source": [
    "variables,contraintes=reines(5)\n",
    "instance=dict()\n",
    "instance={}"
   ]
  },
  {
   "cell_type": "code",
   "execution_count": 54,
   "metadata": {},
   "outputs": [
    {
     "name": "stdout",
     "output_type": "stream",
     "text": [
      "Q: set()\n",
      "S: {(2, 3): [(1, 1)], (2, 4): [(1, 1), (1, 2)], (2, 5): [(1, 1), (1, 2), (1, 3)], (2, 1): [(1, 3)], (3, 2): [(1, 1), (1, 3), (2, 4), (2, 5)], (3, 4): [(1, 1), (1, 3), (2, 1), (2, 2)], (3, 5): [(1, 1), (1, 2), (2, 1), (2, 2), (2, 3)], (3, 1): [(1, 2), (2, 3), (2, 4), (2, 5)], (3, 3): [(1, 2), (2, 1), (2, 5)], (4, 2): [(1, 1), (1, 3), (2, 1), (2, 3), (2, 5), (3, 4), (3, 5)], (4, 3): [(1, 1), (1, 2), (2, 2), (2, 4), (3, 1), (3, 5)], (4, 5): [(1, 1), (1, 3), (2, 1), (2, 2), (2, 4), (3, 1), (3, 2), (3, 3)], (4, 1): [(1, 2), (1, 3), (2, 2), (2, 4), (2, 5), (3, 3), (3, 4), (3, 5)], (4, 4): [(1, 2), (1, 3), (2, 1), (2, 3), (2, 5), (3, 1), (3, 2)], (5, 2): [(1, 1), (1, 3), (2, 1), (2, 3), (2, 4), (3, 1), (3, 3), (3, 5), (4, 4), (4, 5)], (5, 3): [(1, 1), (1, 2), (2, 1), (2, 2), (2, 4), (2, 5), (3, 2), (3, 4), (4, 1), (4, 5)], (5, 4): [(1, 1), (1, 2), (1, 3), (2, 2), (2, 3), (2, 5), (3, 1), (3, 3), (3, 5), (4, 1), (4, 2)], (5, 1): [(1, 2), (1, 3), (2, 2), (2, 3), (2, 5), (3, 2), (3, 4), (3, 5), (4, 3), (4, 4), (4, 5)], (5, 5): [(1, 2), (1, 3), (2, 1), (2, 3), (2, 4), (3, 1), (3, 2), (3, 4), (4, 1), (4, 2), (4, 3)]}\n",
      "count: {(1, 2, 1): 3, (1, 2, 2): 2, (1, 2, 3): 2, (1, 3, 1): 3, (1, 3, 2): 3, (1, 3, 3): 2, (1, 4, 1): 3, (1, 4, 2): 3, (1, 4, 3): 4, (1, 5, 1): 3, (1, 5, 2): 4, (1, 5, 3): 4, (2, 3, 1): 3, (2, 3, 2): 2, (2, 3, 3): 2, (2, 3, 4): 2, (2, 3, 5): 3, (2, 4, 1): 3, (2, 4, 2): 3, (2, 4, 3): 2, (2, 4, 4): 3, (2, 4, 5): 3, (2, 5, 1): 3, (2, 5, 2): 3, (2, 5, 3): 4, (2, 5, 4): 3, (2, 5, 5): 3, (3, 4, 1): 3, (3, 4, 2): 2, (3, 4, 3): 2, (3, 4, 4): 2, (3, 4, 5): 3, (3, 5, 1): 3, (3, 5, 2): 3, (3, 5, 3): 2, (3, 5, 4): 3, (3, 5, 5): 3, (4, 5, 1): 3, (4, 5, 2): 2, (4, 5, 3): 2, (4, 5, 4): 2, (4, 5, 5): 3}\n"
     ]
    },
    {
     "data": {
      "text/plain": [
       "{1: [1, 2, 3],\n",
       " 2: [1, 2, 3, 4, 5],\n",
       " 3: [1, 2, 3, 4, 5],\n",
       " 4: [1, 2, 3, 4, 5],\n",
       " 5: [1, 2, 3, 4, 5]}"
      ]
     },
     "execution_count": 54,
     "metadata": {},
     "output_type": "execute_result"
    }
   ],
   "source": [
    "AC4(variables,contraintes)"
   ]
  },
  {
   "cell_type": "code",
   "execution_count": 56,
   "metadata": {},
   "outputs": [
    {
     "name": "stdout",
     "output_type": "stream",
     "text": [
      "Q: set()\n",
      "S: {(2, 3): [(1, 1), (1, 5)], (2, 4): [(1, 1), (1, 2)], (2, 5): [(1, 1), (1, 2), (1, 3)], (2, 6): [(1, 1), (1, 2), (1, 3), (1, 4)], (2, 7): [(1, 1), (1, 2), (1, 3), (1, 4), (1, 5)], (2, 8): [(1, 1), (1, 2), (1, 3), (1, 4), (1, 5)], (2, 9): [(1, 1), (1, 2), (1, 3), (1, 4), (1, 5)], (2, 10): [(1, 1), (1, 2), (1, 3), (1, 4), (1, 5)], (2, 1): [(1, 3), (1, 4), (1, 5)], (2, 2): [(1, 4), (1, 5)], (3, 2): [(1, 1), (1, 3), (1, 5), (2, 4), (2, 5), (2, 6), (2, 7), (2, 8), (2, 9), (2, 10)], (3, 4): [(1, 1), (1, 3), (1, 5), (2, 1), (2, 2), (2, 6), (2, 7), (2, 8), (2, 9), (2, 10)], (3, 5): [(1, 1), (1, 2), (1, 4), (2, 1), (2, 2), (2, 3), (2, 7), (2, 8), (2, 9), (2, 10)], (3, 6): [(1, 1), (1, 2), (1, 3), (1, 5), (2, 1), (2, 2), (2, 3), (2, 4), (2, 8), (2, 9), (2, 10)], (3, 7): [(1, 1), (1, 2), (1, 3), (1, 4), (2, 1), (2, 2), (2, 3), (2, 4), (2, 5), (2, 9), (2, 10)], (3, 8): [(1, 1), (1, 2), (1, 3), (1, 4), (1, 5), (2, 1), (2, 2), (2, 3), (2, 4), (2, 5), (2, 6), (2, 10)], (3, 9): [(1, 1), (1, 2), (1, 3), (1, 4), (1, 5), (2, 1), (2, 2), (2, 3), (2, 4), (2, 5), (2, 6), (2, 7)], (3, 10): [(1, 1), (1, 2), (1, 3), (1, 4), (1, 5), (2, 1), (2, 2), (2, 3), (2, 4), (2, 5), (2, 6), (2, 7), (2, 8)], (3, 1): [(1, 2), (1, 4), (1, 5), (2, 3), (2, 4), (2, 5), (2, 6), (2, 7), (2, 8), (2, 9), (2, 10)], (3, 3): [(1, 2), (1, 4), (2, 1), (2, 5), (2, 6), (2, 7), (2, 8), (2, 9), (2, 10)], (4, 2): [(1, 1), (1, 3), (1, 4), (2, 1), (2, 3), (2, 5), (2, 6), (2, 7), (2, 8), (2, 9), (2, 10), (3, 4), (3, 5), (3, 6), (3, 7), (3, 8), (3, 9), (3, 10)], (4, 3): [(1, 1), (1, 2), (1, 4), (1, 5), (2, 2), (2, 4), (2, 6), (2, 7), (2, 8), (2, 9), (2, 10), (3, 1), (3, 5), (3, 6), (3, 7), (3, 8), (3, 9), (3, 10)], (4, 5): [(1, 1), (1, 3), (1, 4), (2, 1), (2, 2), (2, 4), (2, 6), (2, 8), (2, 9), (2, 10), (3, 1), (3, 2), (3, 3), (3, 7), (3, 8), (3, 9), (3, 10)], (4, 6): [(1, 1), (1, 2), (1, 4), (1, 5), (2, 1), (2, 2), (2, 3), (2, 5), (2, 7), (2, 9), (2, 10), (3, 1), (3, 2), (3, 3), (3, 4), (3, 8), (3, 9), (3, 10)], (4, 7): [(1, 1), (1, 2), (1, 3), (1, 5), (2, 1), (2, 2), (2, 3), (2, 4), (2, 6), (2, 8), (2, 10), (3, 1), (3, 2), (3, 3), (3, 4), (3, 5), (3, 9), (3, 10)], (4, 8): [(1, 1), (1, 2), (1, 3), (1, 4), (2, 1), (2, 2), (2, 3), (2, 4), (2, 5), (2, 7), (2, 9), (3, 1), (3, 2), (3, 3), (3, 4), (3, 5), (3, 6), (3, 10)], (4, 9): [(1, 1), (1, 2), (1, 3), (1, 4), (1, 5), (2, 1), (2, 2), (2, 3), (2, 4), (2, 5), (2, 6), (2, 8), (2, 10), (3, 1), (3, 2), (3, 3), (3, 4), (3, 5), (3, 6), (3, 7)], (4, 10): [(1, 1), (1, 2), (1, 3), (1, 4), (1, 5), (2, 1), (2, 2), (2, 3), (2, 4), (2, 5), (2, 6), (2, 7), (2, 9), (3, 1), (3, 2), (3, 3), (3, 4), (3, 5), (3, 6), (3, 7), (3, 8)], (4, 1): [(1, 2), (1, 3), (1, 5), (2, 2), (2, 4), (2, 5), (2, 6), (2, 7), (2, 8), (2, 9), (2, 10), (3, 3), (3, 4), (3, 5), (3, 6), (3, 7), (3, 8), (3, 9), (3, 10)], (4, 4): [(1, 2), (1, 3), (1, 5), (2, 1), (2, 3), (2, 5), (2, 7), (2, 8), (2, 9), (2, 10), (3, 1), (3, 2), (3, 6), (3, 7), (3, 8), (3, 9), (3, 10)], (5, 2): [(1, 1), (1, 3), (1, 4), (1, 5), (2, 1), (2, 3), (2, 4), (2, 6), (2, 7), (2, 8), (2, 9), (2, 10), (3, 1), (3, 3), (3, 5), (3, 6), (3, 7), (3, 8), (3, 9), (3, 10), (4, 4), (4, 5), (4, 6), (4, 7), (4, 8), (4, 9), (4, 10)], (5, 3): [(1, 1), (1, 2), (1, 4), (1, 5), (2, 1), (2, 2), (2, 4), (2, 5), (2, 7), (2, 8), (2, 9), (2, 10), (3, 2), (3, 4), (3, 6), (3, 7), (3, 8), (3, 9), (3, 10), (4, 1), (4, 5), (4, 6), (4, 7), (4, 8), (4, 9), (4, 10)], (5, 4): [(1, 1), (1, 2), (1, 3), (1, 5), (2, 2), (2, 3), (2, 5), (2, 6), (2, 8), (2, 9), (2, 10), (3, 1), (3, 3), (3, 5), (3, 7), (3, 8), (3, 9), (3, 10), (4, 1), (4, 2), (4, 6), (4, 7), (4, 8), (4, 9), (4, 10)], (5, 6): [(1, 1), (1, 3), (1, 4), (1, 5), (2, 1), (2, 2), (2, 4), (2, 5), (2, 7), (2, 8), (2, 10), (3, 1), (3, 2), (3, 3), (3, 5), (3, 7), (3, 9), (3, 10), (4, 1), (4, 2), (4, 3), (4, 4), (4, 8), (4, 9), (4, 10)], (5, 7): [(1, 1), (1, 2), (1, 4), (1, 5), (2, 1), (2, 2), (2, 3), (2, 5), (2, 6), (2, 8), (2, 9), (3, 1), (3, 2), (3, 3), (3, 4), (3, 6), (3, 8), (3, 10), (4, 1), (4, 2), (4, 3), (4, 4), (4, 5), (4, 9), (4, 10)], (5, 8): [(1, 1), (1, 2), (1, 3), (1, 5), (2, 1), (2, 2), (2, 3), (2, 4), (2, 6), (2, 7), (2, 9), (2, 10), (3, 1), (3, 2), (3, 3), (3, 4), (3, 5), (3, 7), (3, 9), (4, 1), (4, 2), (4, 3), (4, 4), (4, 5), (4, 6), (4, 10)], (5, 9): [(1, 1), (1, 2), (1, 3), (1, 4), (2, 1), (2, 2), (2, 3), (2, 4), (2, 5), (2, 7), (2, 8), (2, 10), (3, 1), (3, 2), (3, 3), (3, 4), (3, 5), (3, 6), (3, 8), (3, 10), (4, 1), (4, 2), (4, 3), (4, 4), (4, 5), (4, 6), (4, 7)], (5, 10): [(1, 1), (1, 2), (1, 3), (1, 4), (1, 5), (2, 1), (2, 2), (2, 3), (2, 4), (2, 5), (2, 6), (2, 8), (2, 9), (3, 1), (3, 2), (3, 3), (3, 4), (3, 5), (3, 6), (3, 7), (3, 9), (4, 1), (4, 2), (4, 3), (4, 4), (4, 5), (4, 6), (4, 7), (4, 8)], (5, 1): [(1, 2), (1, 3), (1, 4), (2, 2), (2, 3), (2, 5), (2, 6), (2, 7), (2, 8), (2, 9), (2, 10), (3, 2), (3, 4), (3, 5), (3, 6), (3, 7), (3, 8), (3, 9), (3, 10), (4, 3), (4, 4), (4, 5), (4, 6), (4, 7), (4, 8), (4, 9), (4, 10)], (5, 5): [(1, 2), (1, 3), (1, 4), (2, 1), (2, 3), (2, 4), (2, 6), (2, 7), (2, 9), (2, 10), (3, 1), (3, 2), (3, 4), (3, 6), (3, 8), (3, 9), (3, 10), (4, 1), (4, 2), (4, 3), (4, 7), (4, 8), (4, 9), (4, 10)], (6, 2): [(1, 1), (1, 3), (1, 4), (1, 5), (2, 1), (2, 3), (2, 4), (2, 5), (2, 7), (2, 8), (2, 9), (2, 10), (3, 1), (3, 3), (3, 4), (3, 6), (3, 7), (3, 8), (3, 9), (3, 10), (4, 1), (4, 3), (4, 5), (4, 6), (4, 7), (4, 8), (4, 9), (4, 10), (5, 4), (5, 5), (5, 6), (5, 7), (5, 8), (5, 9), (5, 10)], (6, 3): [(1, 1), (1, 2), (1, 4), (1, 5), (2, 1), (2, 2), (2, 4), (2, 5), (2, 6), (2, 8), (2, 9), (2, 10), (3, 1), (3, 2), (3, 4), (3, 5), (3, 7), (3, 8), (3, 9), (3, 10), (4, 2), (4, 4), (4, 6), (4, 7), (4, 8), (4, 9), (4, 10), (5, 1), (5, 5), (5, 6), (5, 7), (5, 8), (5, 9), (5, 10)], (6, 4): [(1, 1), (1, 2), (1, 3), (1, 5), (2, 1), (2, 2), (2, 3), (2, 5), (2, 6), (2, 7), (2, 9), (2, 10), (3, 2), (3, 3), (3, 5), (3, 6), (3, 8), (3, 9), (3, 10), (4, 1), (4, 3), (4, 5), (4, 7), (4, 8), (4, 9), (4, 10), (5, 1), (5, 2), (5, 6), (5, 7), (5, 8), (5, 9), (5, 10)], (6, 5): [(1, 1), (1, 2), (1, 3), (1, 4), (2, 2), (2, 3), (2, 4), (2, 6), (2, 7), (2, 8), (2, 10), (3, 1), (3, 3), (3, 4), (3, 6), (3, 7), (3, 9), (3, 10), (4, 1), (4, 2), (4, 4), (4, 6), (4, 8), (4, 9), (4, 10), (5, 1), (5, 2), (5, 3), (5, 7), (5, 8), (5, 9), (5, 10)], (6, 7): [(1, 1), (1, 3), (1, 4), (1, 5), (2, 1), (2, 2), (2, 4), (2, 5), (2, 6), (2, 8), (2, 9), (2, 10), (3, 1), (3, 2), (3, 3), (3, 5), (3, 6), (3, 8), (3, 9), (4, 1), (4, 2), (4, 3), (4, 4), (4, 6), (4, 8), (4, 10), (5, 1), (5, 2), (5, 3), (5, 4), (5, 5), (5, 9), (5, 10)], (6, 8): [(1, 1), (1, 2), (1, 4), (1, 5), (2, 1), (2, 2), (2, 3), (2, 5), (2, 6), (2, 7), (2, 9), (2, 10), (3, 1), (3, 2), (3, 3), (3, 4), (3, 6), (3, 7), (3, 9), (3, 10), (4, 1), (4, 2), (4, 3), (4, 4), (4, 5), (4, 7), (4, 9), (5, 1), (5, 2), (5, 3), (5, 4), (5, 5), (5, 6), (5, 10)], (6, 9): [(1, 1), (1, 2), (1, 3), (1, 5), (2, 1), (2, 2), (2, 3), (2, 4), (2, 6), (2, 7), (2, 8), (2, 10), (3, 1), (3, 2), (3, 3), (3, 4), (3, 5), (3, 7), (3, 8), (3, 10), (4, 1), (4, 2), (4, 3), (4, 4), (4, 5), (4, 6), (4, 8), (4, 10), (5, 1), (5, 2), (5, 3), (5, 4), (5, 5), (5, 6), (5, 7)], (6, 10): [(1, 1), (1, 2), (1, 3), (1, 4), (2, 1), (2, 2), (2, 3), (2, 4), (2, 5), (2, 7), (2, 8), (2, 9), (3, 1), (3, 2), (3, 3), (3, 4), (3, 5), (3, 6), (3, 8), (3, 9), (4, 1), (4, 2), (4, 3), (4, 4), (4, 5), (4, 6), (4, 7), (4, 9), (5, 1), (5, 2), (5, 3), (5, 4), (5, 5), (5, 6), (5, 7), (5, 8)], (6, 1): [(1, 2), (1, 3), (1, 4), (1, 5), (2, 2), (2, 3), (2, 4), (2, 6), (2, 7), (2, 8), (2, 9), (2, 10), (3, 2), (3, 3), (3, 5), (3, 6), (3, 7), (3, 8), (3, 9), (3, 10), (4, 2), (4, 4), (4, 5), (4, 6), (4, 7), (4, 8), (4, 9), (4, 10), (5, 3), (5, 4), (5, 5), (5, 6), (5, 7), (5, 8), (5, 9), (5, 10)], (6, 6): [(1, 2), (1, 3), (1, 4), (1, 5), (2, 1), (2, 3), (2, 4), (2, 5), (2, 7), (2, 8), (2, 9), (3, 1), (3, 2), (3, 4), (3, 5), (3, 7), (3, 8), (3, 10), (4, 1), (4, 2), (4, 3), (4, 5), (4, 7), (4, 9), (4, 10), (5, 1), (5, 2), (5, 3), (5, 4), (5, 8), (5, 9), (5, 10)], (7, 2): [(1, 1), (1, 3), (1, 4), (1, 5), (2, 1), (2, 3), (2, 4), (2, 5), (2, 6), (2, 8), (2, 9), (2, 10), (3, 1), (3, 3), (3, 4), (3, 5), (3, 7), (3, 8), (3, 9), (3, 10), (4, 1), (4, 3), (4, 4), (4, 6), (4, 7), (4, 8), (4, 9), (4, 10), (5, 1), (5, 3), (5, 5), (5, 6), (5, 7), (5, 8), (5, 9), (5, 10), (6, 4), (6, 5), (6, 6), (6, 7), (6, 8), (6, 9), (6, 10)], (7, 3): [(1, 1), (1, 2), (1, 4), (1, 5), (2, 1), (2, 2), (2, 4), (2, 5), (2, 6), (2, 7), (2, 9), (2, 10), (3, 1), (3, 2), (3, 4), (3, 5), (3, 6), (3, 8), (3, 9), (3, 10), (4, 1), (4, 2), (4, 4), (4, 5), (4, 7), (4, 8), (4, 9), (4, 10), (5, 2), (5, 4), (5, 6), (5, 7), (5, 8), (5, 9), (5, 10), (6, 1), (6, 5), (6, 6), (6, 7), (6, 8), (6, 9), (6, 10)], (7, 4): [(1, 1), (1, 2), (1, 3), (1, 5), (2, 1), (2, 2), (2, 3), (2, 5), (2, 6), (2, 7), (2, 8), (2, 10), (3, 1), (3, 2), (3, 3), (3, 5), (3, 6), (3, 7), (3, 9), (3, 10), (4, 2), (4, 3), (4, 5), (4, 6), (4, 8), (4, 9), (4, 10), (5, 1), (5, 3), (5, 5), (5, 7), (5, 8), (5, 9), (5, 10), (6, 1), (6, 2), (6, 6), (6, 7), (6, 8), (6, 9), (6, 10)], (7, 5): [(1, 1), (1, 2), (1, 3), (1, 4), (2, 1), (2, 2), (2, 3), (2, 4), (2, 6), (2, 7), (2, 8), (2, 9), (3, 2), (3, 3), (3, 4), (3, 6), (3, 7), (3, 8), (3, 10), (4, 1), (4, 3), (4, 4), (4, 6), (4, 7), (4, 9), (4, 10), (5, 1), (5, 2), (5, 4), (5, 6), (5, 8), (5, 9), (5, 10), (6, 1), (6, 2), (6, 3), (6, 7), (6, 8), (6, 9), (6, 10)], (7, 6): [(1, 1), (1, 2), (1, 3), (1, 4), (1, 5), (2, 2), (2, 3), (2, 4), (2, 5), (2, 7), (2, 8), (2, 9), (2, 10), (3, 1), (3, 3), (3, 4), (3, 5), (3, 7), (3, 8), (3, 9), (4, 1), (4, 2), (4, 4), (4, 5), (4, 7), (4, 8), (4, 10), (5, 1), (5, 2), (5, 3), (5, 5), (5, 7), (5, 9), (5, 10), (6, 1), (6, 2), (6, 3), (6, 4), (6, 8), (6, 9), (6, 10)], (7, 8): [(1, 1), (1, 3), (1, 4), (1, 5), (2, 1), (2, 2), (2, 4), (2, 5), (2, 6), (2, 7), (2, 9), (2, 10), (3, 1), (3, 2), (3, 3), (3, 5), (3, 6), (3, 7), (3, 9), (3, 10), (4, 1), (4, 2), (4, 3), (4, 4), (4, 6), (4, 7), (4, 9), (4, 10), (5, 1), (5, 2), (5, 3), (5, 4), (5, 5), (5, 7), (5, 9), (6, 1), (6, 2), (6, 3), (6, 4), (6, 5), (6, 6), (6, 10)], (7, 9): [(1, 1), (1, 2), (1, 4), (1, 5), (2, 1), (2, 2), (2, 3), (2, 5), (2, 6), (2, 7), (2, 8), (2, 10), (3, 1), (3, 2), (3, 3), (3, 4), (3, 6), (3, 7), (3, 8), (3, 10), (4, 1), (4, 2), (4, 3), (4, 4), (4, 5), (4, 7), (4, 8), (4, 10), (5, 1), (5, 2), (5, 3), (5, 4), (5, 5), (5, 6), (5, 8), (5, 10), (6, 1), (6, 2), (6, 3), (6, 4), (6, 5), (6, 6), (6, 7)], (7, 10): [(1, 1), (1, 2), (1, 3), (1, 5), (2, 1), (2, 2), (2, 3), (2, 4), (2, 6), (2, 7), (2, 8), (2, 9), (3, 1), (3, 2), (3, 3), (3, 4), (3, 5), (3, 7), (3, 8), (3, 9), (4, 1), (4, 2), (4, 3), (4, 4), (4, 5), (4, 6), (4, 8), (4, 9), (5, 1), (5, 2), (5, 3), (5, 4), (5, 5), (5, 6), (5, 7), (5, 9), (6, 1), (6, 2), (6, 3), (6, 4), (6, 5), (6, 6), (6, 7), (6, 8)], (7, 1): [(1, 2), (1, 3), (1, 4), (1, 5), (2, 2), (2, 3), (2, 4), (2, 5), (2, 7), (2, 8), (2, 9), (2, 10), (3, 2), (3, 3), (3, 4), (3, 6), (3, 7), (3, 8), (3, 9), (3, 10), (4, 2), (4, 3), (4, 5), (4, 6), (4, 7), (4, 8), (4, 9), (4, 10), (5, 2), (5, 4), (5, 5), (5, 6), (5, 7), (5, 8), (5, 9), (5, 10), (6, 3), (6, 4), (6, 5), (6, 6), (6, 7), (6, 8), (6, 9), (6, 10)], (7, 7): [(1, 2), (1, 3), (1, 4), (1, 5), (2, 1), (2, 3), (2, 4), (2, 5), (2, 6), (2, 8), (2, 9), (2, 10), (3, 1), (3, 2), (3, 4), (3, 5), (3, 6), (3, 8), (3, 9), (3, 10), (4, 1), (4, 2), (4, 3), (4, 5), (4, 6), (4, 8), (4, 9), (5, 1), (5, 2), (5, 3), (5, 4), (5, 6), (5, 8), (5, 10), (6, 1), (6, 2), (6, 3), (6, 4), (6, 5), (6, 9), (6, 10)], (8, 2): [(1, 1), (1, 3), (1, 4), (1, 5), (2, 1), (2, 3), (2, 4), (2, 5), (2, 6), (2, 7), (2, 9), (2, 10), (3, 1), (3, 3), (3, 4), (3, 5), (3, 6), (3, 8), (3, 9), (3, 10), (4, 1), (4, 3), (4, 4), (4, 5), (4, 7), (4, 8), (4, 9), (4, 10), (5, 1), (5, 3), (5, 4), (5, 6), (5, 7), (5, 8), (5, 9), (5, 10), (6, 1), (6, 3), (6, 5), (6, 6), (6, 7), (6, 8), (6, 9), (6, 10), (7, 4), (7, 5), (7, 6), (7, 7), (7, 8), (7, 9), (7, 10)], (8, 3): [(1, 1), (1, 2), (1, 4), (1, 5), (2, 1), (2, 2), (2, 4), (2, 5), (2, 6), (2, 7), (2, 8), (2, 10), (3, 1), (3, 2), (3, 4), (3, 5), (3, 6), (3, 7), (3, 9), (3, 10), (4, 1), (4, 2), (4, 4), (4, 5), (4, 6), (4, 8), (4, 9), (4, 10), (5, 1), (5, 2), (5, 4), (5, 5), (5, 7), (5, 8), (5, 9), (5, 10), (6, 2), (6, 4), (6, 6), (6, 7), (6, 8), (6, 9), (6, 10), (7, 1), (7, 5), (7, 6), (7, 7), (7, 8), (7, 9), (7, 10)], (8, 4): [(1, 1), (1, 2), (1, 3), (1, 5), (2, 1), (2, 2), (2, 3), (2, 5), (2, 6), (2, 7), (2, 8), (2, 9), (3, 1), (3, 2), (3, 3), (3, 5), (3, 6), (3, 7), (3, 8), (3, 10), (4, 1), (4, 2), (4, 3), (4, 5), (4, 6), (4, 7), (4, 9), (4, 10), (5, 2), (5, 3), (5, 5), (5, 6), (5, 8), (5, 9), (5, 10), (6, 1), (6, 3), (6, 5), (6, 7), (6, 8), (6, 9), (6, 10), (7, 1), (7, 2), (7, 6), (7, 7), (7, 8), (7, 9), (7, 10)], (8, 5): [(1, 1), (1, 2), (1, 3), (1, 4), (2, 1), (2, 2), (2, 3), (2, 4), (2, 6), (2, 7), (2, 8), (2, 9), (2, 10), (3, 1), (3, 2), (3, 3), (3, 4), (3, 6), (3, 7), (3, 8), (3, 9), (4, 2), (4, 3), (4, 4), (4, 6), (4, 7), (4, 8), (4, 10), (5, 1), (5, 3), (5, 4), (5, 6), (5, 7), (5, 9), (5, 10), (6, 1), (6, 2), (6, 4), (6, 6), (6, 8), (6, 9), (6, 10), (7, 1), (7, 2), (7, 3), (7, 7), (7, 8), (7, 9), (7, 10)], (8, 6): [(1, 1), (1, 2), (1, 3), (1, 4), (1, 5), (2, 1), (2, 2), (2, 3), (2, 4), (2, 5), (2, 7), (2, 8), (2, 9), (2, 10), (3, 2), (3, 3), (3, 4), (3, 5), (3, 7), (3, 8), (3, 9), (3, 10), (4, 1), (4, 3), (4, 4), (4, 5), (4, 7), (4, 8), (4, 9), (5, 1), (5, 2), (5, 4), (5, 5), (5, 7), (5, 8), (5, 10), (6, 1), (6, 2), (6, 3), (6, 5), (6, 7), (6, 9), (6, 10), (7, 1), (7, 2), (7, 3), (7, 4), (7, 8), (7, 9), (7, 10)], (8, 7): [(1, 1), (1, 2), (1, 3), (1, 4), (1, 5), (2, 2), (2, 3), (2, 4), (2, 5), (2, 6), (2, 8), (2, 9), (2, 10), (3, 1), (3, 3), (3, 4), (3, 5), (3, 6), (3, 8), (3, 9), (3, 10), (4, 1), (4, 2), (4, 4), (4, 5), (4, 6), (4, 8), (4, 9), (4, 10), (5, 1), (5, 2), (5, 3), (5, 5), (5, 6), (5, 8), (5, 9), (6, 1), (6, 2), (6, 3), (6, 4), (6, 6), (6, 8), (6, 10), (7, 1), (7, 2), (7, 3), (7, 4), (7, 5), (7, 9), (7, 10)], (8, 9): [(1, 1), (1, 3), (1, 4), (1, 5), (2, 1), (2, 2), (2, 4), (2, 5), (2, 6), (2, 7), (2, 8), (2, 10), (3, 1), (3, 2), (3, 3), (3, 5), (3, 6), (3, 7), (3, 8), (3, 10), (4, 1), (4, 2), (4, 3), (4, 4), (4, 6), (4, 7), (4, 8), (4, 10), (5, 1), (5, 2), (5, 3), (5, 4), (5, 5), (5, 7), (5, 8), (5, 10), (6, 1), (6, 2), (6, 3), (6, 4), (6, 5), (6, 6), (6, 8), (6, 10), (7, 1), (7, 2), (7, 3), (7, 4), (7, 5), (7, 6), (7, 7)], (8, 10): [(1, 1), (1, 2), (1, 4), (1, 5), (2, 1), (2, 2), (2, 3), (2, 5), (2, 6), (2, 7), (2, 8), (2, 9), (3, 1), (3, 2), (3, 3), (3, 4), (3, 6), (3, 7), (3, 8), (3, 9), (4, 1), (4, 2), (4, 3), (4, 4), (4, 5), (4, 7), (4, 8), (4, 9), (5, 1), (5, 2), (5, 3), (5, 4), (5, 5), (5, 6), (5, 8), (5, 9), (6, 1), (6, 2), (6, 3), (6, 4), (6, 5), (6, 6), (6, 7), (6, 9), (7, 1), (7, 2), (7, 3), (7, 4), (7, 5), (7, 6), (7, 7), (7, 8)], (8, 1): [(1, 2), (1, 3), (1, 4), (1, 5), (2, 2), (2, 3), (2, 4), (2, 5), (2, 6), (2, 8), (2, 9), (2, 10), (3, 2), (3, 3), (3, 4), (3, 5), (3, 7), (3, 8), (3, 9), (3, 10), (4, 2), (4, 3), (4, 4), (4, 6), (4, 7), (4, 8), (4, 9), (4, 10), (5, 2), (5, 3), (5, 5), (5, 6), (5, 7), (5, 8), (5, 9), (5, 10), (6, 2), (6, 4), (6, 5), (6, 6), (6, 7), (6, 8), (6, 9), (6, 10), (7, 3), (7, 4), (7, 5), (7, 6), (7, 7), (7, 8), (7, 9), (7, 10)], (8, 8): [(1, 2), (1, 3), (1, 4), (1, 5), (2, 1), (2, 3), (2, 4), (2, 5), (2, 6), (2, 7), (2, 9), (2, 10), (3, 1), (3, 2), (3, 4), (3, 5), (3, 6), (3, 7), (3, 9), (3, 10), (4, 1), (4, 2), (4, 3), (4, 5), (4, 6), (4, 7), (4, 9), (4, 10), (5, 1), (5, 2), (5, 3), (5, 4), (5, 6), (5, 7), (5, 9), (5, 10), (6, 1), (6, 2), (6, 3), (6, 4), (6, 5), (6, 7), (6, 9), (7, 1), (7, 2), (7, 3), (7, 4), (7, 5), (7, 6), (7, 10)], (9, 2): [(1, 1), (1, 3), (1, 4), (1, 5), (2, 1), (2, 3), (2, 4), (2, 5), (2, 6), (2, 7), (2, 8), (2, 10), (3, 1), (3, 3), (3, 4), (3, 5), (3, 6), (3, 7), (3, 9), (3, 10), (4, 1), (4, 3), (4, 4), (4, 5), (4, 6), (4, 8), (4, 9), (4, 10), (5, 1), (5, 3), (5, 4), (5, 5), (5, 7), (5, 8), (5, 9), (5, 10), (6, 1), (6, 3), (6, 4), (6, 6), (6, 7), (6, 8), (6, 9), (6, 10), (7, 1), (7, 3), (7, 5), (7, 6), (7, 7), (7, 8), (7, 9), (7, 10), (8, 4), (8, 5), (8, 6), (8, 7), (8, 8), (8, 9), (8, 10)], (9, 3): [(1, 1), (1, 2), (1, 4), (1, 5), (2, 1), (2, 2), (2, 4), (2, 5), (2, 6), (2, 7), (2, 8), (2, 9), (3, 1), (3, 2), (3, 4), (3, 5), (3, 6), (3, 7), (3, 8), (3, 10), (4, 1), (4, 2), (4, 4), (4, 5), (4, 6), (4, 7), (4, 9), (4, 10), (5, 1), (5, 2), (5, 4), (5, 5), (5, 6), (5, 8), (5, 9), (5, 10), (6, 1), (6, 2), (6, 4), (6, 5), (6, 7), (6, 8), (6, 9), (6, 10), (7, 2), (7, 4), (7, 6), (7, 7), (7, 8), (7, 9), (7, 10), (8, 1), (8, 5), (8, 6), (8, 7), (8, 8), (8, 9), (8, 10)], (9, 4): [(1, 1), (1, 2), (1, 3), (1, 5), (2, 1), (2, 2), (2, 3), (2, 5), (2, 6), (2, 7), (2, 8), (2, 9), (2, 10), (3, 1), (3, 2), (3, 3), (3, 5), (3, 6), (3, 7), (3, 8), (3, 9), (4, 1), (4, 2), (4, 3), (4, 5), (4, 6), (4, 7), (4, 8), (4, 10), (5, 1), (5, 2), (5, 3), (5, 5), (5, 6), (5, 7), (5, 9), (5, 10), (6, 2), (6, 3), (6, 5), (6, 6), (6, 8), (6, 9), (6, 10), (7, 1), (7, 3), (7, 5), (7, 7), (7, 8), (7, 9), (7, 10), (8, 1), (8, 2), (8, 6), (8, 7), (8, 8), (8, 9), (8, 10)], (9, 5): [(1, 1), (1, 2), (1, 3), (1, 4), (2, 1), (2, 2), (2, 3), (2, 4), (2, 6), (2, 7), (2, 8), (2, 9), (2, 10), (3, 1), (3, 2), (3, 3), (3, 4), (3, 6), (3, 7), (3, 8), (3, 9), (3, 10), (4, 1), (4, 2), (4, 3), (4, 4), (4, 6), (4, 7), (4, 8), (4, 9), (5, 2), (5, 3), (5, 4), (5, 6), (5, 7), (5, 8), (5, 10), (6, 1), (6, 3), (6, 4), (6, 6), (6, 7), (6, 9), (6, 10), (7, 1), (7, 2), (7, 4), (7, 6), (7, 8), (7, 9), (7, 10), (8, 1), (8, 2), (8, 3), (8, 7), (8, 8), (8, 9), (8, 10)], (9, 6): [(1, 1), (1, 2), (1, 3), (1, 4), (1, 5), (2, 1), (2, 2), (2, 3), (2, 4), (2, 5), (2, 7), (2, 8), (2, 9), (2, 10), (3, 1), (3, 2), (3, 3), (3, 4), (3, 5), (3, 7), (3, 8), (3, 9), (3, 10), (4, 2), (4, 3), (4, 4), (4, 5), (4, 7), (4, 8), (4, 9), (4, 10), (5, 1), (5, 3), (5, 4), (5, 5), (5, 7), (5, 8), (5, 9), (6, 1), (6, 2), (6, 4), (6, 5), (6, 7), (6, 8), (6, 10), (7, 1), (7, 2), (7, 3), (7, 5), (7, 7), (7, 9), (7, 10), (8, 1), (8, 2), (8, 3), (8, 4), (8, 8), (8, 9), (8, 10)], (9, 7): [(1, 1), (1, 2), (1, 3), (1, 4), (1, 5), (2, 1), (2, 2), (2, 3), (2, 4), (2, 5), (2, 6), (2, 8), (2, 9), (2, 10), (3, 2), (3, 3), (3, 4), (3, 5), (3, 6), (3, 8), (3, 9), (3, 10), (4, 1), (4, 3), (4, 4), (4, 5), (4, 6), (4, 8), (4, 9), (4, 10), (5, 1), (5, 2), (5, 4), (5, 5), (5, 6), (5, 8), (5, 9), (5, 10), (6, 1), (6, 2), (6, 3), (6, 5), (6, 6), (6, 8), (6, 9), (7, 1), (7, 2), (7, 3), (7, 4), (7, 6), (7, 8), (7, 10), (8, 1), (8, 2), (8, 3), (8, 4), (8, 5), (8, 9), (8, 10)], (9, 8): [(1, 1), (1, 2), (1, 3), (1, 4), (1, 5), (2, 2), (2, 3), (2, 4), (2, 5), (2, 6), (2, 7), (2, 9), (2, 10), (3, 1), (3, 3), (3, 4), (3, 5), (3, 6), (3, 7), (3, 9), (3, 10), (4, 1), (4, 2), (4, 4), (4, 5), (4, 6), (4, 7), (4, 9), (4, 10), (5, 1), (5, 2), (5, 3), (5, 5), (5, 6), (5, 7), (5, 9), (5, 10), (6, 1), (6, 2), (6, 3), (6, 4), (6, 6), (6, 7), (6, 9), (6, 10), (7, 1), (7, 2), (7, 3), (7, 4), (7, 5), (7, 7), (7, 9), (8, 1), (8, 2), (8, 3), (8, 4), (8, 5), (8, 6), (8, 10)], (9, 10): [(1, 1), (1, 3), (1, 4), (1, 5), (2, 1), (2, 2), (2, 4), (2, 5), (2, 6), (2, 7), (2, 8), (2, 9), (3, 1), (3, 2), (3, 3), (3, 5), (3, 6), (3, 7), (3, 8), (3, 9), (4, 1), (4, 2), (4, 3), (4, 4), (4, 6), (4, 7), (4, 8), (4, 9), (5, 1), (5, 2), (5, 3), (5, 4), (5, 5), (5, 7), (5, 8), (5, 9), (6, 1), (6, 2), (6, 3), (6, 4), (6, 5), (6, 6), (6, 8), (6, 9), (7, 1), (7, 2), (7, 3), (7, 4), (7, 5), (7, 6), (7, 7), (7, 9), (8, 1), (8, 2), (8, 3), (8, 4), (8, 5), (8, 6), (8, 7), (8, 8)], (9, 1): [(1, 2), (1, 3), (1, 4), (1, 5), (2, 2), (2, 3), (2, 4), (2, 5), (2, 6), (2, 7), (2, 9), (2, 10), (3, 2), (3, 3), (3, 4), (3, 5), (3, 6), (3, 8), (3, 9), (3, 10), (4, 2), (4, 3), (4, 4), (4, 5), (4, 7), (4, 8), (4, 9), (4, 10), (5, 2), (5, 3), (5, 4), (5, 6), (5, 7), (5, 8), (5, 9), (5, 10), (6, 2), (6, 3), (6, 5), (6, 6), (6, 7), (6, 8), (6, 9), (6, 10), (7, 2), (7, 4), (7, 5), (7, 6), (7, 7), (7, 8), (7, 9), (7, 10), (8, 3), (8, 4), (8, 5), (8, 6), (8, 7), (8, 8), (8, 9), (8, 10)], (9, 9): [(1, 2), (1, 3), (1, 4), (1, 5), (2, 1), (2, 3), (2, 4), (2, 5), (2, 6), (2, 7), (2, 8), (2, 10), (3, 1), (3, 2), (3, 4), (3, 5), (3, 6), (3, 7), (3, 8), (3, 10), (4, 1), (4, 2), (4, 3), (4, 5), (4, 6), (4, 7), (4, 8), (4, 10), (5, 1), (5, 2), (5, 3), (5, 4), (5, 6), (5, 7), (5, 8), (5, 10), (6, 1), (6, 2), (6, 3), (6, 4), (6, 5), (6, 7), (6, 8), (6, 10), (7, 1), (7, 2), (7, 3), (7, 4), (7, 5), (7, 6), (7, 8), (7, 10), (8, 1), (8, 2), (8, 3), (8, 4), (8, 5), (8, 6), (8, 7)], (10, 2): [(1, 1), (1, 3), (1, 4), (1, 5), (2, 1), (2, 3), (2, 4), (2, 5), (2, 6), (2, 7), (2, 8), (2, 9), (3, 1), (3, 3), (3, 4), (3, 5), (3, 6), (3, 7), (3, 8), (3, 10), (4, 1), (4, 3), (4, 4), (4, 5), (4, 6), (4, 7), (4, 9), (4, 10), (5, 1), (5, 3), (5, 4), (5, 5), (5, 6), (5, 8), (5, 9), (5, 10), (6, 1), (6, 3), (6, 4), (6, 5), (6, 7), (6, 8), (6, 9), (6, 10), (7, 1), (7, 3), (7, 4), (7, 6), (7, 7), (7, 8), (7, 9), (7, 10), (8, 1), (8, 3), (8, 5), (8, 6), (8, 7), (8, 8), (8, 9), (8, 10), (9, 4), (9, 5), (9, 6), (9, 7), (9, 8), (9, 9), (9, 10)], (10, 3): [(1, 1), (1, 2), (1, 4), (1, 5), (2, 1), (2, 2), (2, 4), (2, 5), (2, 6), (2, 7), (2, 8), (2, 9), (2, 10), (3, 1), (3, 2), (3, 4), (3, 5), (3, 6), (3, 7), (3, 8), (3, 9), (4, 1), (4, 2), (4, 4), (4, 5), (4, 6), (4, 7), (4, 8), (4, 10), (5, 1), (5, 2), (5, 4), (5, 5), (5, 6), (5, 7), (5, 9), (5, 10), (6, 1), (6, 2), (6, 4), (6, 5), (6, 6), (6, 8), (6, 9), (6, 10), (7, 1), (7, 2), (7, 4), (7, 5), (7, 7), (7, 8), (7, 9), (7, 10), (8, 2), (8, 4), (8, 6), (8, 7), (8, 8), (8, 9), (8, 10), (9, 1), (9, 5), (9, 6), (9, 7), (9, 8), (9, 9), (9, 10)], (10, 4): [(1, 1), (1, 2), (1, 3), (1, 5), (2, 1), (2, 2), (2, 3), (2, 5), (2, 6), (2, 7), (2, 8), (2, 9), (2, 10), (3, 1), (3, 2), (3, 3), (3, 5), (3, 6), (3, 7), (3, 8), (3, 9), (3, 10), (4, 1), (4, 2), (4, 3), (4, 5), (4, 6), (4, 7), (4, 8), (4, 9), (5, 1), (5, 2), (5, 3), (5, 5), (5, 6), (5, 7), (5, 8), (5, 10), (6, 1), (6, 2), (6, 3), (6, 5), (6, 6), (6, 7), (6, 9), (6, 10), (7, 2), (7, 3), (7, 5), (7, 6), (7, 8), (7, 9), (7, 10), (8, 1), (8, 3), (8, 5), (8, 7), (8, 8), (8, 9), (8, 10), (9, 1), (9, 2), (9, 6), (9, 7), (9, 8), (9, 9), (9, 10)], (10, 5): [(1, 1), (1, 2), (1, 3), (1, 4), (2, 1), (2, 2), (2, 3), (2, 4), (2, 6), (2, 7), (2, 8), (2, 9), (2, 10), (3, 1), (3, 2), (3, 3), (3, 4), (3, 6), (3, 7), (3, 8), (3, 9), (3, 10), (4, 1), (4, 2), (4, 3), (4, 4), (4, 6), (4, 7), (4, 8), (4, 9), (4, 10), (5, 1), (5, 2), (5, 3), (5, 4), (5, 6), (5, 7), (5, 8), (5, 9), (6, 2), (6, 3), (6, 4), (6, 6), (6, 7), (6, 8), (6, 10), (7, 1), (7, 3), (7, 4), (7, 6), (7, 7), (7, 9), (7, 10), (8, 1), (8, 2), (8, 4), (8, 6), (8, 8), (8, 9), (8, 10), (9, 1), (9, 2), (9, 3), (9, 7), (9, 8), (9, 9), (9, 10)], (10, 6): [(1, 1), (1, 2), (1, 3), (1, 4), (1, 5), (2, 1), (2, 2), (2, 3), (2, 4), (2, 5), (2, 7), (2, 8), (2, 9), (2, 10), (3, 1), (3, 2), (3, 3), (3, 4), (3, 5), (3, 7), (3, 8), (3, 9), (3, 10), (4, 1), (4, 2), (4, 3), (4, 4), (4, 5), (4, 7), (4, 8), (4, 9), (4, 10), (5, 2), (5, 3), (5, 4), (5, 5), (5, 7), (5, 8), (5, 9), (5, 10), (6, 1), (6, 3), (6, 4), (6, 5), (6, 7), (6, 8), (6, 9), (7, 1), (7, 2), (7, 4), (7, 5), (7, 7), (7, 8), (7, 10), (8, 1), (8, 2), (8, 3), (8, 5), (8, 7), (8, 9), (8, 10), (9, 1), (9, 2), (9, 3), (9, 4), (9, 8), (9, 9), (9, 10)], (10, 7): [(1, 1), (1, 2), (1, 3), (1, 4), (1, 5), (2, 1), (2, 2), (2, 3), (2, 4), (2, 5), (2, 6), (2, 8), (2, 9), (2, 10), (3, 1), (3, 2), (3, 3), (3, 4), (3, 5), (3, 6), (3, 8), (3, 9), (3, 10), (4, 2), (4, 3), (4, 4), (4, 5), (4, 6), (4, 8), (4, 9), (4, 10), (5, 1), (5, 3), (5, 4), (5, 5), (5, 6), (5, 8), (5, 9), (5, 10), (6, 1), (6, 2), (6, 4), (6, 5), (6, 6), (6, 8), (6, 9), (6, 10), (7, 1), (7, 2), (7, 3), (7, 5), (7, 6), (7, 8), (7, 9), (8, 1), (8, 2), (8, 3), (8, 4), (8, 6), (8, 8), (8, 10), (9, 1), (9, 2), (9, 3), (9, 4), (9, 5), (9, 9), (9, 10)], (10, 8): [(1, 1), (1, 2), (1, 3), (1, 4), (1, 5), (2, 1), (2, 2), (2, 3), (2, 4), (2, 5), (2, 6), (2, 7), (2, 9), (2, 10), (3, 2), (3, 3), (3, 4), (3, 5), (3, 6), (3, 7), (3, 9), (3, 10), (4, 1), (4, 3), (4, 4), (4, 5), (4, 6), (4, 7), (4, 9), (4, 10), (5, 1), (5, 2), (5, 4), (5, 5), (5, 6), (5, 7), (5, 9), (5, 10), (6, 1), (6, 2), (6, 3), (6, 5), (6, 6), (6, 7), (6, 9), (6, 10), (7, 1), (7, 2), (7, 3), (7, 4), (7, 6), (7, 7), (7, 9), (7, 10), (8, 1), (8, 2), (8, 3), (8, 4), (8, 5), (8, 7), (8, 9), (9, 1), (9, 2), (9, 3), (9, 4), (9, 5), (9, 6), (9, 10)], (10, 9): [(1, 1), (1, 2), (1, 3), (1, 4), (1, 5), (2, 2), (2, 3), (2, 4), (2, 5), (2, 6), (2, 7), (2, 8), (2, 10), (3, 1), (3, 3), (3, 4), (3, 5), (3, 6), (3, 7), (3, 8), (3, 10), (4, 1), (4, 2), (4, 4), (4, 5), (4, 6), (4, 7), (4, 8), (4, 10), (5, 1), (5, 2), (5, 3), (5, 5), (5, 6), (5, 7), (5, 8), (5, 10), (6, 1), (6, 2), (6, 3), (6, 4), (6, 6), (6, 7), (6, 8), (6, 10), (7, 1), (7, 2), (7, 3), (7, 4), (7, 5), (7, 7), (7, 8), (7, 10), (8, 1), (8, 2), (8, 3), (8, 4), (8, 5), (8, 6), (8, 8), (8, 10), (9, 1), (9, 2), (9, 3), (9, 4), (9, 5), (9, 6), (9, 7)], (10, 1): [(1, 2), (1, 3), (1, 4), (1, 5), (2, 2), (2, 3), (2, 4), (2, 5), (2, 6), (2, 7), (2, 8), (2, 10), (3, 2), (3, 3), (3, 4), (3, 5), (3, 6), (3, 7), (3, 9), (3, 10), (4, 2), (4, 3), (4, 4), (4, 5), (4, 6), (4, 8), (4, 9), (4, 10), (5, 2), (5, 3), (5, 4), (5, 5), (5, 7), (5, 8), (5, 9), (5, 10), (6, 2), (6, 3), (6, 4), (6, 6), (6, 7), (6, 8), (6, 9), (6, 10), (7, 2), (7, 3), (7, 5), (7, 6), (7, 7), (7, 8), (7, 9), (7, 10), (8, 2), (8, 4), (8, 5), (8, 6), (8, 7), (8, 8), (8, 9), (8, 10), (9, 3), (9, 4), (9, 5), (9, 6), (9, 7), (9, 8), (9, 9), (9, 10)], (10, 10): [(1, 2), (1, 3), (1, 4), (1, 5), (2, 1), (2, 3), (2, 4), (2, 5), (2, 6), (2, 7), (2, 8), (2, 9), (3, 1), (3, 2), (3, 4), (3, 5), (3, 6), (3, 7), (3, 8), (3, 9), (4, 1), (4, 2), (4, 3), (4, 5), (4, 6), (4, 7), (4, 8), (4, 9), (5, 1), (5, 2), (5, 3), (5, 4), (5, 6), (5, 7), (5, 8), (5, 9), (6, 1), (6, 2), (6, 3), (6, 4), (6, 5), (6, 7), (6, 8), (6, 9), (7, 1), (7, 2), (7, 3), (7, 4), (7, 5), (7, 6), (7, 8), (7, 9), (8, 1), (8, 2), (8, 3), (8, 4), (8, 5), (8, 6), (8, 7), (8, 9), (9, 1), (9, 2), (9, 3), (9, 4), (9, 5), (9, 6), (9, 7), (9, 8)]}\n",
      "count: {(1, 2, 1): 8, (1, 2, 2): 7, (1, 2, 3): 7, (1, 2, 4): 7, (1, 2, 5): 7, (1, 3, 1): 8, (1, 3, 2): 8, (1, 3, 3): 7, (1, 3, 4): 7, (1, 3, 5): 7, (1, 4, 1): 8, (1, 4, 2): 8, (1, 4, 3): 8, (1, 4, 4): 7, (1, 4, 5): 7, (1, 5, 1): 8, (1, 5, 2): 8, (1, 5, 3): 8, (1, 5, 4): 8, (1, 5, 5): 7, (1, 6, 1): 8, (1, 6, 2): 8, (1, 6, 3): 8, (1, 6, 4): 8, (1, 6, 5): 8, (1, 7, 1): 8, (1, 7, 2): 8, (1, 7, 3): 8, (1, 7, 4): 8, (1, 7, 5): 9, (1, 8, 1): 8, (1, 8, 2): 8, (1, 8, 3): 8, (1, 8, 4): 9, (1, 8, 5): 9, (1, 9, 1): 8, (1, 9, 2): 8, (1, 9, 3): 9, (1, 9, 4): 9, (1, 9, 5): 9, (1, 10, 1): 8, (1, 10, 2): 9, (1, 10, 3): 9, (1, 10, 4): 9, (1, 10, 5): 9, (2, 3, 1): 8, (2, 3, 2): 7, (2, 3, 3): 7, (2, 3, 4): 7, (2, 3, 5): 7, (2, 3, 6): 7, (2, 3, 7): 7, (2, 3, 8): 7, (2, 3, 9): 7, (2, 3, 10): 8, (2, 4, 1): 8, (2, 4, 2): 8, (2, 4, 3): 7, (2, 4, 4): 7, (2, 4, 5): 7, (2, 4, 6): 7, (2, 4, 7): 7, (2, 4, 8): 7, (2, 4, 9): 8, (2, 4, 10): 8, (2, 5, 1): 8, (2, 5, 2): 8, (2, 5, 3): 8, (2, 5, 4): 7, (2, 5, 5): 7, (2, 5, 6): 7, (2, 5, 7): 7, (2, 5, 8): 8, (2, 5, 9): 8, (2, 5, 10): 8, (2, 6, 1): 8, (2, 6, 2): 8, (2, 6, 3): 8, (2, 6, 4): 8, (2, 6, 5): 7, (2, 6, 6): 7, (2, 6, 7): 8, (2, 6, 8): 8, (2, 6, 9): 8, (2, 6, 10): 8, (2, 7, 1): 8, (2, 7, 2): 8, (2, 7, 3): 8, (2, 7, 4): 8, (2, 7, 5): 8, (2, 7, 6): 8, (2, 7, 7): 8, (2, 7, 8): 8, (2, 7, 9): 8, (2, 7, 10): 8, (2, 8, 1): 8, (2, 8, 2): 8, (2, 8, 3): 8, (2, 8, 4): 8, (2, 8, 5): 9, (2, 8, 6): 9, (2, 8, 7): 8, (2, 8, 8): 8, (2, 8, 9): 8, (2, 8, 10): 8, (2, 9, 1): 8, (2, 9, 2): 8, (2, 9, 3): 8, (2, 9, 4): 9, (2, 9, 5): 9, (2, 9, 6): 9, (2, 9, 7): 9, (2, 9, 8): 8, (2, 9, 9): 8, (2, 9, 10): 8, (2, 10, 1): 8, (2, 10, 2): 8, (2, 10, 3): 9, (2, 10, 4): 9, (2, 10, 5): 9, (2, 10, 6): 9, (2, 10, 7): 9, (2, 10, 8): 9, (2, 10, 9): 8, (2, 10, 10): 8, (3, 4, 1): 8, (3, 4, 2): 7, (3, 4, 3): 7, (3, 4, 4): 7, (3, 4, 5): 7, (3, 4, 6): 7, (3, 4, 7): 7, (3, 4, 8): 7, (3, 4, 9): 7, (3, 4, 10): 8, (3, 5, 1): 8, (3, 5, 2): 8, (3, 5, 3): 7, (3, 5, 4): 7, (3, 5, 5): 7, (3, 5, 6): 7, (3, 5, 7): 7, (3, 5, 8): 7, (3, 5, 9): 8, (3, 5, 10): 8, (3, 6, 1): 8, (3, 6, 2): 8, (3, 6, 3): 8, (3, 6, 4): 7, (3, 6, 5): 7, (3, 6, 6): 7, (3, 6, 7): 7, (3, 6, 8): 8, (3, 6, 9): 8, (3, 6, 10): 8, (3, 7, 1): 8, (3, 7, 2): 8, (3, 7, 3): 8, (3, 7, 4): 8, (3, 7, 5): 7, (3, 7, 6): 7, (3, 7, 7): 8, (3, 7, 8): 8, (3, 7, 9): 8, (3, 7, 10): 8, (3, 8, 1): 8, (3, 8, 2): 8, (3, 8, 3): 8, (3, 8, 4): 8, (3, 8, 5): 8, (3, 8, 6): 8, (3, 8, 7): 8, (3, 8, 8): 8, (3, 8, 9): 8, (3, 8, 10): 8, (3, 9, 1): 8, (3, 9, 2): 8, (3, 9, 3): 8, (3, 9, 4): 8, (3, 9, 5): 9, (3, 9, 6): 9, (3, 9, 7): 8, (3, 9, 8): 8, (3, 9, 9): 8, (3, 9, 10): 8, (3, 10, 1): 8, (3, 10, 2): 8, (3, 10, 3): 8, (3, 10, 4): 9, (3, 10, 5): 9, (3, 10, 6): 9, (3, 10, 7): 9, (3, 10, 8): 8, (3, 10, 9): 8, (3, 10, 10): 8, (4, 5, 1): 8, (4, 5, 2): 7, (4, 5, 3): 7, (4, 5, 4): 7, (4, 5, 5): 7, (4, 5, 6): 7, (4, 5, 7): 7, (4, 5, 8): 7, (4, 5, 9): 7, (4, 5, 10): 8, (4, 6, 1): 8, (4, 6, 2): 8, (4, 6, 3): 7, (4, 6, 4): 7, (4, 6, 5): 7, (4, 6, 6): 7, (4, 6, 7): 7, (4, 6, 8): 7, (4, 6, 9): 8, (4, 6, 10): 8, (4, 7, 1): 8, (4, 7, 2): 8, (4, 7, 3): 8, (4, 7, 4): 7, (4, 7, 5): 7, (4, 7, 6): 7, (4, 7, 7): 7, (4, 7, 8): 8, (4, 7, 9): 8, (4, 7, 10): 8, (4, 8, 1): 8, (4, 8, 2): 8, (4, 8, 3): 8, (4, 8, 4): 8, (4, 8, 5): 7, (4, 8, 6): 7, (4, 8, 7): 8, (4, 8, 8): 8, (4, 8, 9): 8, (4, 8, 10): 8, (4, 9, 1): 8, (4, 9, 2): 8, (4, 9, 3): 8, (4, 9, 4): 8, (4, 9, 5): 8, (4, 9, 6): 8, (4, 9, 7): 8, (4, 9, 8): 8, (4, 9, 9): 8, (4, 9, 10): 8, (4, 10, 1): 8, (4, 10, 2): 8, (4, 10, 3): 8, (4, 10, 4): 8, (4, 10, 5): 9, (4, 10, 6): 9, (4, 10, 7): 8, (4, 10, 8): 8, (4, 10, 9): 8, (4, 10, 10): 8, (5, 6, 1): 8, (5, 6, 2): 7, (5, 6, 3): 7, (5, 6, 4): 7, (5, 6, 5): 7, (5, 6, 6): 7, (5, 6, 7): 7, (5, 6, 8): 7, (5, 6, 9): 7, (5, 6, 10): 8, (5, 7, 1): 8, (5, 7, 2): 8, (5, 7, 3): 7, (5, 7, 4): 7, (5, 7, 5): 7, (5, 7, 6): 7, (5, 7, 7): 7, (5, 7, 8): 7, (5, 7, 9): 8, (5, 7, 10): 8, (5, 8, 1): 8, (5, 8, 2): 8, (5, 8, 3): 8, (5, 8, 4): 7, (5, 8, 5): 7, (5, 8, 6): 7, (5, 8, 7): 7, (5, 8, 8): 8, (5, 8, 9): 8, (5, 8, 10): 8, (5, 9, 1): 8, (5, 9, 2): 8, (5, 9, 3): 8, (5, 9, 4): 8, (5, 9, 5): 7, (5, 9, 6): 7, (5, 9, 7): 8, (5, 9, 8): 8, (5, 9, 9): 8, (5, 9, 10): 8, (5, 10, 1): 8, (5, 10, 2): 8, (5, 10, 3): 8, (5, 10, 4): 8, (5, 10, 5): 8, (5, 10, 6): 8, (5, 10, 7): 8, (5, 10, 8): 8, (5, 10, 9): 8, (5, 10, 10): 8, (6, 7, 1): 8, (6, 7, 2): 7, (6, 7, 3): 7, (6, 7, 4): 7, (6, 7, 5): 7, (6, 7, 6): 7, (6, 7, 7): 7, (6, 7, 8): 7, (6, 7, 9): 7, (6, 7, 10): 8, (6, 8, 1): 8, (6, 8, 2): 8, (6, 8, 3): 7, (6, 8, 4): 7, (6, 8, 5): 7, (6, 8, 6): 7, (6, 8, 7): 7, (6, 8, 8): 7, (6, 8, 9): 8, (6, 8, 10): 8, (6, 9, 1): 8, (6, 9, 2): 8, (6, 9, 3): 8, (6, 9, 4): 7, (6, 9, 5): 7, (6, 9, 6): 7, (6, 9, 7): 7, (6, 9, 8): 8, (6, 9, 9): 8, (6, 9, 10): 8, (6, 10, 1): 8, (6, 10, 2): 8, (6, 10, 3): 8, (6, 10, 4): 8, (6, 10, 5): 7, (6, 10, 6): 7, (6, 10, 7): 8, (6, 10, 8): 8, (6, 10, 9): 8, (6, 10, 10): 8, (7, 8, 1): 8, (7, 8, 2): 7, (7, 8, 3): 7, (7, 8, 4): 7, (7, 8, 5): 7, (7, 8, 6): 7, (7, 8, 7): 7, (7, 8, 8): 7, (7, 8, 9): 7, (7, 8, 10): 8, (7, 9, 1): 8, (7, 9, 2): 8, (7, 9, 3): 7, (7, 9, 4): 7, (7, 9, 5): 7, (7, 9, 6): 7, (7, 9, 7): 7, (7, 9, 8): 7, (7, 9, 9): 8, (7, 9, 10): 8, (7, 10, 1): 8, (7, 10, 2): 8, (7, 10, 3): 8, (7, 10, 4): 7, (7, 10, 5): 7, (7, 10, 6): 7, (7, 10, 7): 7, (7, 10, 8): 8, (7, 10, 9): 8, (7, 10, 10): 8, (8, 9, 1): 8, (8, 9, 2): 7, (8, 9, 3): 7, (8, 9, 4): 7, (8, 9, 5): 7, (8, 9, 6): 7, (8, 9, 7): 7, (8, 9, 8): 7, (8, 9, 9): 7, (8, 9, 10): 8, (8, 10, 1): 8, (8, 10, 2): 8, (8, 10, 3): 7, (8, 10, 4): 7, (8, 10, 5): 7, (8, 10, 6): 7, (8, 10, 7): 7, (8, 10, 8): 7, (8, 10, 9): 8, (8, 10, 10): 8, (9, 10, 1): 8, (9, 10, 2): 7, (9, 10, 3): 7, (9, 10, 4): 7, (9, 10, 5): 7, (9, 10, 6): 7, (9, 10, 7): 7, (9, 10, 8): 7, (9, 10, 9): 7, (9, 10, 10): 8}\n",
      "{1: [1, 2, 3, 4, 5], 2: [1, 2, 3, 4, 5, 6, 7, 8, 9, 10], 3: [1, 2, 3, 4, 5, 6, 7, 8, 9, 10], 4: [1, 2, 3, 4, 5, 6, 7, 8, 9, 10], 5: [1, 2, 3, 4, 5, 6, 7, 8, 9, 10], 6: [1, 2, 3, 4, 5, 6, 7, 8, 9, 10], 7: [1, 2, 3, 4, 5, 6, 7, 8, 9, 10], 8: [1, 2, 3, 4, 5, 6, 7, 8, 9, 10], 9: [1, 2, 3, 4, 5, 6, 7, 8, 9, 10], 10: [1, 2, 3, 4, 5, 6, 7, 8, 9, 10]}\n",
      "instance complete\n",
      "resultat: {1: 1, 2: 3, 3: 6, 4: 8, 5: 10, 6: 5, 7: 9, 8: 2, 9: 4, 10: 7}\n",
      "True\n"
     ]
    }
   ],
   "source": [
    "variables,contraintes=reines(10)\n",
    "instance=dict()\n",
    "instance={}\n",
    "\n",
    "variables=AC4(variables,contraintes)\n",
    "print(variables)\n",
    "print(backTrack(instance,contraintes,strategy_number=1,exhaustif=False))"
   ]
  },
  {
   "cell_type": "markdown",
   "metadata": {},
   "source": [
    "## Coloration de graphes"
   ]
  },
  {
   "cell_type": "code",
   "execution_count": 101,
   "metadata": {},
   "outputs": [],
   "source": [
    "def colorGraph(nSommets,aretes,nCouleurs):\n",
    "    variables=dict()\n",
    "    variables={}\n",
    "    contraintes=[]\n",
    "    combinaisons=[]\n",
    "    combinaisonsDiff=[]\n",
    "    for c1 in range(nCouleurs):\n",
    "        for c2 in range(nCouleurs):\n",
    "            combinaisons.append((c1,c2))\n",
    "            if c1!=c2:\n",
    "                combinaisonsDiff.append((c1,c2))\n",
    "    variables[1]=[0]\n",
    "    for s in range(2,nSommets+1):\n",
    "        variables[s]=[k for k in range(nCouleurs)]\n",
    "    for i in range(1,nSommets+1):\n",
    "        for j in range(1,nSommets+1):\n",
    "            if i!=j and ((i,j) in aretes or (j,i) in aretes):\n",
    "                contraintes.append([(i,j),combinaisonsDiff.copy()])\n",
    "            elif i!=j:\n",
    "                contraintes.append([(i,j),combinaisons.copy()])\n",
    "    return(variables,contraintes)"
   ]
  },
  {
   "cell_type": "code",
   "execution_count": 99,
   "metadata": {},
   "outputs": [],
   "source": [
    "#print(colorGraph(6,[(1,2),(2,3),(1,3),(4,2),(4,5)],3))"
   ]
  },
  {
   "cell_type": "code",
   "execution_count": 103,
   "metadata": {},
   "outputs": [
    {
     "name": "stdout",
     "output_type": "stream",
     "text": [
      "2 3 1\n",
      "2 3 2\n",
      "True\n"
     ]
    }
   ],
   "source": [
    "variables,contraintes=colorGraph(6,[(0,1),(0,3),(1,2),(2,3),(1,3),(4,2),(4,5)],3)\n",
    "instance=dict()\n",
    "instance={}\n",
    "\n",
    "#print(\"contraintes:\", contraintes,\"\\n\")\n",
    "\n",
    "variables=AC4(variables,contraintes)\n",
    "#print(variables)\n",
    "print(backTrack(variables,instance,contraintes,strategy_number=1))"
   ]
  },
  {
   "cell_type": "code",
   "execution_count": 93,
   "metadata": {},
   "outputs": [],
   "source": [
    "import os\n",
    "\n",
    "def readGraph(nomFichier):\n",
    "    fichier=open(nomFichier,\"r\")\n",
    "    l=fichier.readline()\n",
    "    tab=l.split()\n",
    "    nSommets=int(tab[2])\n",
    "    aretes=[]\n",
    "    for l in fichier.readlines():\n",
    "        tab=l.split(' ')\n",
    "        d=(int(tab[1]),int(tab[2][0]))\n",
    "        if not(d in aretes):\n",
    "            aretes.append(d)\n",
    "    return(nSommets,aretes)\n",
    "\n",
    "nSommetsG,aretesG=readGraph(\"myciel3.col\")"
   ]
  },
  {
   "cell_type": "code",
   "execution_count": 100,
   "metadata": {},
   "outputs": [
    {
     "name": "stdout",
     "output_type": "stream",
     "text": [
      "11\n",
      "Q: set()\n",
      "S: {(1, 0): [(0, 0), (2, 1), (2, 2), (3, 1), (3, 2), (4, 1), (4, 2), (5, 0), (5, 1), (5, 2), (6, 1), (6, 2), (7, 1), (7, 2), (8, 1), (8, 2), (9, 1), (9, 2), (10, 1), (10, 2)], (1, 1): [(0, 0), (2, 0), (2, 2), (3, 0), (3, 2), (4, 0), (4, 2), (5, 0), (5, 1), (5, 2), (6, 0), (6, 2), (7, 0), (7, 2), (8, 0), (8, 2), (9, 0), (9, 2), (10, 0), (10, 2)], (1, 2): [(0, 0), (2, 0), (2, 1), (3, 0), (3, 1), (4, 0), (4, 1), (5, 0), (5, 1), (5, 2), (6, 0), (6, 1), (7, 0), (7, 1), (8, 0), (8, 1), (9, 0), (9, 1), (10, 0), (10, 1)], (2, 0): [(0, 0), (1, 1), (1, 2), (3, 1), (3, 2), (4, 0), (4, 1), (4, 2), (5, 0), (5, 1), (5, 2), (6, 1), (6, 2), (7, 0), (7, 1), (7, 2), (8, 1), (8, 2), (9, 0), (9, 1), (9, 2), (10, 0), (10, 1), (10, 2)], (2, 1): [(0, 0), (1, 0), (1, 2), (3, 0), (3, 2), (4, 0), (4, 1), (4, 2), (5, 0), (5, 1), (5, 2), (6, 0), (6, 2), (7, 0), (7, 1), (7, 2), (8, 0), (8, 2), (9, 0), (9, 1), (9, 2), (10, 0), (10, 1), (10, 2)], (2, 2): [(0, 0), (1, 0), (1, 1), (3, 0), (3, 1), (4, 0), (4, 1), (4, 2), (5, 0), (5, 1), (5, 2), (6, 0), (6, 1), (7, 0), (7, 1), (7, 2), (8, 0), (8, 1), (9, 0), (9, 1), (9, 2), (10, 0), (10, 1), (10, 2)], (3, 0): [(0, 0), (1, 1), (1, 2), (2, 1), (2, 2), (4, 0), (4, 1), (4, 2), (5, 1), (5, 2), (6, 0), (6, 1), (6, 2), (7, 1), (7, 2), (8, 0), (8, 1), (8, 2), (9, 0), (9, 1), (9, 2), (10, 0), (10, 1), (10, 2)], (3, 1): [(0, 0), (1, 0), (1, 2), (2, 0), (2, 2), (4, 0), (4, 1), (4, 2), (5, 0), (5, 2), (6, 0), (6, 1), (6, 2), (7, 0), (7, 2), (8, 0), (8, 1), (8, 2), (9, 0), (9, 1), (9, 2), (10, 0), (10, 1), (10, 2)], (3, 2): [(0, 0), (1, 0), (1, 1), (2, 0), (2, 1), (4, 0), (4, 1), (4, 2), (5, 0), (5, 1), (6, 0), (6, 1), (6, 2), (7, 0), (7, 1), (8, 0), (8, 1), (8, 2), (9, 0), (9, 1), (9, 2), (10, 0), (10, 1), (10, 2)], (4, 0): [(0, 0), (1, 1), (1, 2), (2, 0), (2, 1), (2, 2), (3, 0), (3, 1), (3, 2), (5, 1), (5, 2), (6, 1), (6, 2), (7, 0), (7, 1), (7, 2), (8, 0), (8, 1), (8, 2), (9, 0), (9, 1), (9, 2), (10, 0), (10, 1), (10, 2)], (4, 1): [(0, 0), (1, 0), (1, 2), (2, 0), (2, 1), (2, 2), (3, 0), (3, 1), (3, 2), (5, 0), (5, 2), (6, 0), (6, 2), (7, 0), (7, 1), (7, 2), (8, 0), (8, 1), (8, 2), (9, 0), (9, 1), (9, 2), (10, 0), (10, 1), (10, 2)], (4, 2): [(0, 0), (1, 0), (1, 1), (2, 0), (2, 1), (2, 2), (3, 0), (3, 1), (3, 2), (5, 0), (5, 1), (6, 0), (6, 1), (7, 0), (7, 1), (7, 2), (8, 0), (8, 1), (8, 2), (9, 0), (9, 1), (9, 2), (10, 0), (10, 1), (10, 2)], (5, 0): [(0, 0), (1, 0), (1, 1), (1, 2), (2, 0), (2, 1), (2, 2), (3, 1), (3, 2), (4, 1), (4, 2), (6, 0), (6, 1), (6, 2), (7, 0), (7, 1), (7, 2), (8, 1), (8, 2), (9, 1), (9, 2), (10, 0), (10, 1), (10, 2)], (5, 1): [(0, 0), (1, 0), (1, 1), (1, 2), (2, 0), (2, 1), (2, 2), (3, 0), (3, 2), (4, 0), (4, 2), (6, 0), (6, 1), (6, 2), (7, 0), (7, 1), (7, 2), (8, 0), (8, 2), (9, 0), (9, 2), (10, 0), (10, 1), (10, 2)], (5, 2): [(0, 0), (1, 0), (1, 1), (1, 2), (2, 0), (2, 1), (2, 2), (3, 0), (3, 1), (4, 0), (4, 1), (6, 0), (6, 1), (6, 2), (7, 0), (7, 1), (7, 2), (8, 0), (8, 1), (9, 0), (9, 1), (10, 0), (10, 1), (10, 2)], (6, 0): [(0, 0), (1, 1), (1, 2), (2, 1), (2, 2), (3, 0), (3, 1), (3, 2), (4, 1), (4, 2), (5, 0), (5, 1), (5, 2), (7, 0), (7, 1), (7, 2), (8, 0), (8, 1), (8, 2), (9, 0), (9, 1), (9, 2), (10, 0), (10, 1), (10, 2)], (6, 1): [(0, 0), (1, 0), (1, 2), (2, 0), (2, 2), (3, 0), (3, 1), (3, 2), (4, 0), (4, 2), (5, 0), (5, 1), (5, 2), (7, 0), (7, 1), (7, 2), (8, 0), (8, 1), (8, 2), (9, 0), (9, 1), (9, 2), (10, 0), (10, 1), (10, 2)], (6, 2): [(0, 0), (1, 0), (1, 1), (2, 0), (2, 1), (3, 0), (3, 1), (3, 2), (4, 0), (4, 1), (5, 0), (5, 1), (5, 2), (7, 0), (7, 1), (7, 2), (8, 0), (8, 1), (8, 2), (9, 0), (9, 1), (9, 2), (10, 0), (10, 1), (10, 2)], (7, 0): [(0, 0), (1, 1), (1, 2), (2, 0), (2, 1), (2, 2), (3, 1), (3, 2), (4, 0), (4, 1), (4, 2), (5, 0), (5, 1), (5, 2), (6, 0), (6, 1), (6, 2), (8, 0), (8, 1), (8, 2), (9, 0), (9, 1), (9, 2), (10, 0), (10, 1), (10, 2)], (7, 1): [(0, 0), (1, 0), (1, 2), (2, 0), (2, 1), (2, 2), (3, 0), (3, 2), (4, 0), (4, 1), (4, 2), (5, 0), (5, 1), (5, 2), (6, 0), (6, 1), (6, 2), (8, 0), (8, 1), (8, 2), (9, 0), (9, 1), (9, 2), (10, 0), (10, 1), (10, 2)], (7, 2): [(0, 0), (1, 0), (1, 1), (2, 0), (2, 1), (2, 2), (3, 0), (3, 1), (4, 0), (4, 1), (4, 2), (5, 0), (5, 1), (5, 2), (6, 0), (6, 1), (6, 2), (8, 0), (8, 1), (8, 2), (9, 0), (9, 1), (9, 2), (10, 0), (10, 1), (10, 2)], (8, 0): [(0, 0), (1, 1), (1, 2), (2, 1), (2, 2), (3, 0), (3, 1), (3, 2), (4, 0), (4, 1), (4, 2), (5, 1), (5, 2), (6, 0), (6, 1), (6, 2), (7, 0), (7, 1), (7, 2), (9, 0), (9, 1), (9, 2), (10, 0), (10, 1), (10, 2)], (8, 1): [(0, 0), (1, 0), (1, 2), (2, 0), (2, 2), (3, 0), (3, 1), (3, 2), (4, 0), (4, 1), (4, 2), (5, 0), (5, 2), (6, 0), (6, 1), (6, 2), (7, 0), (7, 1), (7, 2), (9, 0), (9, 1), (9, 2), (10, 0), (10, 1), (10, 2)], (8, 2): [(0, 0), (1, 0), (1, 1), (2, 0), (2, 1), (3, 0), (3, 1), (3, 2), (4, 0), (4, 1), (4, 2), (5, 0), (5, 1), (6, 0), (6, 1), (6, 2), (7, 0), (7, 1), (7, 2), (9, 0), (9, 1), (9, 2), (10, 0), (10, 1), (10, 2)], (9, 0): [(0, 0), (1, 1), (1, 2), (2, 0), (2, 1), (2, 2), (3, 0), (3, 1), (3, 2), (4, 0), (4, 1), (4, 2), (5, 1), (5, 2), (6, 0), (6, 1), (6, 2), (7, 0), (7, 1), (7, 2), (8, 0), (8, 1), (8, 2), (10, 0), (10, 1), (10, 2)], (9, 1): [(0, 0), (1, 0), (1, 2), (2, 0), (2, 1), (2, 2), (3, 0), (3, 1), (3, 2), (4, 0), (4, 1), (4, 2), (5, 0), (5, 2), (6, 0), (6, 1), (6, 2), (7, 0), (7, 1), (7, 2), (8, 0), (8, 1), (8, 2), (10, 0), (10, 1), (10, 2)], (9, 2): [(0, 0), (1, 0), (1, 1), (2, 0), (2, 1), (2, 2), (3, 0), (3, 1), (3, 2), (4, 0), (4, 1), (4, 2), (5, 0), (5, 1), (6, 0), (6, 1), (6, 2), (7, 0), (7, 1), (7, 2), (8, 0), (8, 1), (8, 2), (10, 0), (10, 1), (10, 2)], (10, 0): [(0, 0), (1, 1), (1, 2), (2, 0), (2, 1), (2, 2), (3, 0), (3, 1), (3, 2), (4, 0), (4, 1), (4, 2), (5, 0), (5, 1), (5, 2), (6, 0), (6, 1), (6, 2), (7, 0), (7, 1), (7, 2), (8, 0), (8, 1), (8, 2), (9, 0), (9, 1), (9, 2)], (10, 1): [(0, 0), (1, 0), (1, 2), (2, 0), (2, 1), (2, 2), (3, 0), (3, 1), (3, 2), (4, 0), (4, 1), (4, 2), (5, 0), (5, 1), (5, 2), (6, 0), (6, 1), (6, 2), (7, 0), (7, 1), (7, 2), (8, 0), (8, 1), (8, 2), (9, 0), (9, 1), (9, 2)], (10, 2): [(0, 0), (1, 0), (1, 1), (2, 0), (2, 1), (2, 2), (3, 0), (3, 1), (3, 2), (4, 0), (4, 1), (4, 2), (5, 0), (5, 1), (5, 2), (6, 0), (6, 1), (6, 2), (7, 0), (7, 1), (7, 2), (8, 0), (8, 1), (8, 2), (9, 0), (9, 1), (9, 2)], (0, 0): [(1, 0), (1, 1), (1, 2), (2, 0), (2, 1), (2, 2), (3, 0), (3, 1), (3, 2), (4, 0), (4, 1), (4, 2), (5, 0), (5, 1), (5, 2), (6, 0), (6, 1), (6, 2), (7, 0), (7, 1), (7, 2), (8, 0), (8, 1), (8, 2), (9, 0), (9, 1), (9, 2), (10, 0), (10, 1), (10, 2)]}\n",
      "count: {(0, 1, 0): 3, (0, 2, 0): 3, (0, 3, 0): 3, (0, 4, 0): 3, (0, 5, 0): 3, (0, 6, 0): 3, (0, 7, 0): 3, (0, 8, 0): 3, (0, 9, 0): 3, (0, 10, 0): 3, (1, 0, 0): 1, (1, 0, 1): 1, (1, 0, 2): 1, (1, 2, 0): 2, (1, 2, 1): 2, (1, 2, 2): 2, (1, 3, 0): 2, (1, 3, 1): 2, (1, 3, 2): 2, (1, 4, 0): 2, (1, 4, 1): 2, (1, 4, 2): 2, (1, 5, 0): 3, (1, 5, 1): 3, (1, 5, 2): 3, (1, 6, 0): 2, (1, 6, 1): 2, (1, 6, 2): 2, (1, 7, 0): 2, (1, 7, 1): 2, (1, 7, 2): 2, (1, 8, 0): 2, (1, 8, 1): 2, (1, 8, 2): 2, (1, 9, 0): 2, (1, 9, 1): 2, (1, 9, 2): 2, (1, 10, 0): 2, (1, 10, 1): 2, (1, 10, 2): 2, (2, 0, 0): 1, (2, 0, 1): 1, (2, 0, 2): 1, (2, 1, 0): 2, (2, 1, 1): 2, (2, 1, 2): 2, (2, 3, 0): 2, (2, 3, 1): 2, (2, 3, 2): 2, (2, 4, 0): 3, (2, 4, 1): 3, (2, 4, 2): 3, (2, 5, 0): 3, (2, 5, 1): 3, (2, 5, 2): 3, (2, 6, 0): 2, (2, 6, 1): 2, (2, 6, 2): 2, (2, 7, 0): 3, (2, 7, 1): 3, (2, 7, 2): 3, (2, 8, 0): 2, (2, 8, 1): 2, (2, 8, 2): 2, (2, 9, 0): 3, (2, 9, 1): 3, (2, 9, 2): 3, (2, 10, 0): 3, (2, 10, 1): 3, (2, 10, 2): 3, (3, 0, 0): 1, (3, 0, 1): 1, (3, 0, 2): 1, (3, 1, 0): 2, (3, 1, 1): 2, (3, 1, 2): 2, (3, 2, 0): 2, (3, 2, 1): 2, (3, 2, 2): 2, (3, 4, 0): 3, (3, 4, 1): 3, (3, 4, 2): 3, (3, 5, 0): 2, (3, 5, 1): 2, (3, 5, 2): 2, (3, 6, 0): 3, (3, 6, 1): 3, (3, 6, 2): 3, (3, 7, 0): 2, (3, 7, 1): 2, (3, 7, 2): 2, (3, 8, 0): 3, (3, 8, 1): 3, (3, 8, 2): 3, (3, 9, 0): 3, (3, 9, 1): 3, (3, 9, 2): 3, (3, 10, 0): 3, (3, 10, 1): 3, (3, 10, 2): 3, (4, 0, 0): 1, (4, 0, 1): 1, (4, 0, 2): 1, (4, 1, 0): 2, (4, 1, 1): 2, (4, 1, 2): 2, (4, 2, 0): 3, (4, 2, 1): 3, (4, 2, 2): 3, (4, 3, 0): 3, (4, 3, 1): 3, (4, 3, 2): 3, (4, 5, 0): 2, (4, 5, 1): 2, (4, 5, 2): 2, (4, 6, 0): 2, (4, 6, 1): 2, (4, 6, 2): 2, (4, 7, 0): 3, (4, 7, 1): 3, (4, 7, 2): 3, (4, 8, 0): 3, (4, 8, 1): 3, (4, 8, 2): 3, (4, 9, 0): 3, (4, 9, 1): 3, (4, 9, 2): 3, (4, 10, 0): 3, (4, 10, 1): 3, (4, 10, 2): 3, (5, 0, 0): 1, (5, 0, 1): 1, (5, 0, 2): 1, (5, 1, 0): 3, (5, 1, 1): 3, (5, 1, 2): 3, (5, 2, 0): 3, (5, 2, 1): 3, (5, 2, 2): 3, (5, 3, 0): 2, (5, 3, 1): 2, (5, 3, 2): 2, (5, 4, 0): 2, (5, 4, 1): 2, (5, 4, 2): 2, (5, 6, 0): 3, (5, 6, 1): 3, (5, 6, 2): 3, (5, 7, 0): 3, (5, 7, 1): 3, (5, 7, 2): 3, (5, 8, 0): 2, (5, 8, 1): 2, (5, 8, 2): 2, (5, 9, 0): 2, (5, 9, 1): 2, (5, 9, 2): 2, (5, 10, 0): 3, (5, 10, 1): 3, (5, 10, 2): 3, (6, 0, 0): 1, (6, 0, 1): 1, (6, 0, 2): 1, (6, 1, 0): 2, (6, 1, 1): 2, (6, 1, 2): 2, (6, 2, 0): 2, (6, 2, 1): 2, (6, 2, 2): 2, (6, 3, 0): 3, (6, 3, 1): 3, (6, 3, 2): 3, (6, 4, 0): 2, (6, 4, 1): 2, (6, 4, 2): 2, (6, 5, 0): 3, (6, 5, 1): 3, (6, 5, 2): 3, (6, 7, 0): 3, (6, 7, 1): 3, (6, 7, 2): 3, (6, 8, 0): 3, (6, 8, 1): 3, (6, 8, 2): 3, (6, 9, 0): 3, (6, 9, 1): 3, (6, 9, 2): 3, (6, 10, 0): 3, (6, 10, 1): 3, (6, 10, 2): 3, (7, 0, 0): 1, (7, 0, 1): 1, (7, 0, 2): 1, (7, 1, 0): 2, (7, 1, 1): 2, (7, 1, 2): 2, (7, 2, 0): 3, (7, 2, 1): 3, (7, 2, 2): 3, (7, 3, 0): 2, (7, 3, 1): 2, (7, 3, 2): 2, (7, 4, 0): 3, (7, 4, 1): 3, (7, 4, 2): 3, (7, 5, 0): 3, (7, 5, 1): 3, (7, 5, 2): 3, (7, 6, 0): 3, (7, 6, 1): 3, (7, 6, 2): 3, (7, 8, 0): 3, (7, 8, 1): 3, (7, 8, 2): 3, (7, 9, 0): 3, (7, 9, 1): 3, (7, 9, 2): 3, (7, 10, 0): 3, (7, 10, 1): 3, (7, 10, 2): 3, (8, 0, 0): 1, (8, 0, 1): 1, (8, 0, 2): 1, (8, 1, 0): 2, (8, 1, 1): 2, (8, 1, 2): 2, (8, 2, 0): 2, (8, 2, 1): 2, (8, 2, 2): 2, (8, 3, 0): 3, (8, 3, 1): 3, (8, 3, 2): 3, (8, 4, 0): 3, (8, 4, 1): 3, (8, 4, 2): 3, (8, 5, 0): 2, (8, 5, 1): 2, (8, 5, 2): 2, (8, 6, 0): 3, (8, 6, 1): 3, (8, 6, 2): 3, (8, 7, 0): 3, (8, 7, 1): 3, (8, 7, 2): 3, (8, 9, 0): 3, (8, 9, 1): 3, (8, 9, 2): 3, (8, 10, 0): 3, (8, 10, 1): 3, (8, 10, 2): 3, (9, 0, 0): 1, (9, 0, 1): 1, (9, 0, 2): 1, (9, 1, 0): 2, (9, 1, 1): 2, (9, 1, 2): 2, (9, 2, 0): 3, (9, 2, 1): 3, (9, 2, 2): 3, (9, 3, 0): 3, (9, 3, 1): 3, (9, 3, 2): 3, (9, 4, 0): 3, (9, 4, 1): 3, (9, 4, 2): 3, (9, 5, 0): 2, (9, 5, 1): 2, (9, 5, 2): 2, (9, 6, 0): 3, (9, 6, 1): 3, (9, 6, 2): 3, (9, 7, 0): 3, (9, 7, 1): 3, (9, 7, 2): 3, (9, 8, 0): 3, (9, 8, 1): 3, (9, 8, 2): 3, (9, 10, 0): 3, (9, 10, 1): 3, (9, 10, 2): 3, (10, 0, 0): 1, (10, 0, 1): 1, (10, 0, 2): 1, (10, 1, 0): 2, (10, 1, 1): 2, (10, 1, 2): 2, (10, 2, 0): 3, (10, 2, 1): 3, (10, 2, 2): 3, (10, 3, 0): 3, (10, 3, 1): 3, (10, 3, 2): 3, (10, 4, 0): 3, (10, 4, 1): 3, (10, 4, 2): 3, (10, 5, 0): 3, (10, 5, 1): 3, (10, 5, 2): 3, (10, 6, 0): 3, (10, 6, 1): 3, (10, 6, 2): 3, (10, 7, 0): 3, (10, 7, 1): 3, (10, 7, 2): 3, (10, 8, 0): 3, (10, 8, 1): 3, (10, 8, 2): 3, (10, 9, 0): 3, (10, 9, 1): 3, (10, 9, 2): 3}\n",
      "instance complete\n",
      "resultat: {0: 0, 1: 0, 2: 1, 3: 2, 4: 1, 5: 0, 6: 2, 7: 1, 8: 2, 9: 1, 10: 1}\n",
      "True\n"
     ]
    }
   ],
   "source": [
    "nSommets,aretes=nSommetsG,aretesG\n",
    "print(nSommets)\n",
    "\n",
    "variables,contraintes=colorGraph(nSommets,aretes,3)\n",
    "\n",
    "variables=AC4(variables,contraintes)\n",
    "\n",
    "print(backTrack(instance,contraintes,exhaustif=False))"
   ]
  },
  {
   "cell_type": "code",
   "execution_count": null,
   "metadata": {},
   "outputs": [],
   "source": [
    "aretesG"
   ]
  },
  {
   "cell_type": "markdown",
   "metadata": {},
   "source": [
    "<h1>BENCHMARKS</h1>"
   ]
  },
  {
   "cell_type": "markdown",
   "metadata": {},
   "source": [
    "<h3>nReines</h3>"
   ]
  },
  {
   "cell_type": "code",
   "execution_count": 105,
   "metadata": {},
   "outputs": [
    {
     "name": "stdout",
     "output_type": "stream",
     "text": [
      "*--*-*-*-*-\n",
      "Strategie de branchement numéro 1\n",
      "number of calls 1366\n",
      "duration 0.12952637672424316\n",
      "*--*-*-*-*-\n",
      "Strategie de branchement numéro 2\n",
      "number of calls 1366\n",
      "duration 0.05509328842163086\n",
      "*--*-*-*-*-\n",
      "Strategie de branchement numéro 3\n",
      "number of calls 1366\n",
      "duration 0.0989530086517334\n",
      "*--*-*-*-*-\n",
      "Strategie de branchement numéro 4\n",
      "number of calls 1366\n",
      "duration 0.10054492950439453\n",
      "*--*-*-*-*-\n",
      "Strategie de branchement numéro 5\n",
      "number of calls 1366\n",
      "duration 0.08302974700927734\n",
      "*--*-*-*-*-\n",
      "Strategie de branchement numéro 6\n",
      "number of calls 911\n",
      "duration 0.09677505493164062\n",
      "*--*-*-*-*-\n",
      "Strategie de branchement numéro 7\n",
      "number of calls 1366\n",
      "duration 0.09147024154663086\n"
     ]
    }
   ],
   "source": [
    "solutions=[]\n",
    "variables,contraintes=reines(13)\n",
    "instance=dict()\n",
    "instance={}\n",
    "dict_ratios_vars=build_dict_var_ratio_domain_constraints(variables,contraintes)\n",
    "dict_var_number_constraints_copy=build_dict_var_ratio_domain_constraints(variables,contraintes)\n",
    "for i in range(1,8):\n",
    "    print(\"*--*-*-*-*-\")\n",
    "    print('Strategie de branchement numéro',i)\n",
    "    solutions=[]\n",
    "    backTrack.counter_calls=0\n",
    "    variables,contraintes=reines(13)\n",
    "    ac_3_bis(variables,contraintes)\n",
    "    if i in [4,5,7]:\n",
    "        dict_ratios_vars=build_dict_var_ratio_domain_constraints(variables,contraintes)\n",
    "        dict_var_number_constraints_copy=build_dict_var_ratio_domain_constraints(variables,contraintes)\n",
    "    instance=dict()\n",
    "    instance={}\n",
    "    strat_number=i\n",
    "    t0=time.time()\n",
    "    backTrack(variables,instance,contraintes,strategy_number=strat_number,\n",
    "          dict_var_number_constraints=dict_var_number_constraints_copy,\n",
    "          dict_ratios=dict_ratios_vars,\n",
    "          exhaustif=False,\n",
    "          forward=False)\n",
    "    t1=time.time()\n",
    "    print('number of calls',backTrack.counter_calls)\n",
    "    print('duration',t1-t0)"
   ]
  },
  {
   "cell_type": "code",
   "execution_count": 106,
   "metadata": {},
   "outputs": [
    {
     "name": "stdout",
     "output_type": "stream",
     "text": [
      "*--*-*-*-*-\n",
      "Strategie de branchement numéro 1\n",
      "Total call 33901\n",
      "Total time 3.2648656368255615\n",
      "*--*-*-*-*-\n",
      "Strategie de branchement numéro 2\n",
      "Total call 42374\n",
      "Total time 1.719986915588379\n",
      "*--*-*-*-*-\n",
      "Strategie de branchement numéro 3\n",
      "Total call 33901\n",
      "Total time 2.8421220779418945\n",
      "*--*-*-*-*-\n",
      "Strategie de branchement numéro 4\n",
      "Total call 70898\n",
      "Total time 5.884023189544678\n",
      "*--*-*-*-*-\n",
      "Strategie de branchement numéro 5\n",
      "Total call 33901\n",
      "Total time 3.817542314529419\n",
      "*--*-*-*-*-\n",
      "Strategie de branchement numéro 6\n",
      "Total call 9661\n",
      "Total time 1.0074262619018555\n",
      "*--*-*-*-*-\n",
      "Strategie de branchement numéro 7\n",
      "Total call 33901\n",
      "Total time 4.476372241973877\n"
     ]
    }
   ],
   "source": [
    "\"\"\"\"solutions=[]\n",
    "variables,contraintes=reines(6)\n",
    "instance=dict()\n",
    "instance={}\n",
    "dict_ratios_vars=build_dict_var_ratio_domain_constraints(variables,contraintes)\n",
    "dict_var_number_constraints_copy=build_dict_var_ratio_domain_constraints(variables,contraintes)\"\"\"\n",
    "number_calls_recap=[0,0,0,0,0,0,0,0,0]\n",
    "time_recap=[0,0,0,0,0,0,0,0,0]\n",
    "for i in range(1,8):\n",
    "    print(\"*--*-*-*-*-\")\n",
    "    print('Strategie de branchement numéro',i)\n",
    "    for k in range(1,15):\n",
    "        #print(\"===========\")\n",
    "        #print(\"Problème nReines avec n:\",k)\n",
    "        solutions=[]\n",
    "        backTrack.counter_calls=0\n",
    "        variables,contraintes=reines(k)\n",
    "        AC4(variables,contraintes)\n",
    "        #ac_3_bis(variables,contraintes)\n",
    "        if i in [4,5,7]:\n",
    "            dict_ratios_vars=build_dict_var_ratio_domain_constraints(variables,contraintes)\n",
    "            dict_var_number_constraints_copy=build_dict_var_ratio_domain_constraints(variables,contraintes)\n",
    "        instance=dict()\n",
    "        instance={}\n",
    "        strat_number=i\n",
    "        t0=time.time()\n",
    "        backTrack(variables,instance,contraintes,strategy_number=strat_number,\n",
    "              dict_var_number_constraints=dict_var_number_constraints_copy,\n",
    "              dict_ratios=dict_ratios_vars,\n",
    "              exhaustif=False,\n",
    "              forward=False)\n",
    "        t1=time.time()\n",
    "        #print('number of calls',backTrack.counter_calls)\n",
    "        number_calls_recap[i-1]=number_calls_recap[i-1]+backTrack.counter_calls\n",
    "        time_recap[i-1]=time_recap[i-1]+t1-t0\n",
    "        #print('duration',t1-t0)\n",
    "    print(\"Total call\",number_calls_recap[i-1])\n",
    "    print(\"Total time\", time_recap[i-1])"
   ]
  },
  {
   "cell_type": "markdown",
   "metadata": {},
   "source": [
    "<h3>Colorations de Graphes </h3>"
   ]
  },
  {
   "cell_type": "code",
   "execution_count": null,
   "metadata": {},
   "outputs": [],
   "source": [
    "def testsCol(fichier,nCol):\n",
    "    \n",
    "    nSommets,aretes=readGraph(fichier)\n",
    "    print(\"probleme:\", fichier)\n",
    "    print(\"nombre de sommets:\",nSommets)\n",
    "    \n",
    "    variables,contraintes=colorGraph(nSommets,aretes,nCol)\n",
    "    \n",
    "    t0=time.time()\n",
    "    variables1=ac_3(variables,contraintes)\n",
    "    t1=time.time()\n",
    "    print(\"test ac3:\",t1-t0)\n",
    "    \n",
    "    t0=time.time()\n",
    "    variables2=AC4(variables,contraintes)\n",
    "    t1=time.time()\n",
    "    print(\"test ac4:\",t1-t0)\n",
    "    \n",
    "    t0=time.time()\n",
    "    backTrack.counter_calls=0\n",
    "    print(backTrack(variables,instance,contraintes,strategy_number=1,exhaustif=False))\n",
    "    t1=time.time()\n",
    "    print(\"test backtrack simple:\", t1-t0)\n",
    "    \n",
    "    t0=time.time()\n",
    "    backTrack.counter_calls=0\n",
    "    print(backTrack(variables,instance,contraintes,strategy_number=1,exhaustif=False,forward=True))\n",
    "    t1=time.time()\n",
    "    print(\"test backtrack forward\", t1-t0)\n",
    "    \n",
    "    t0=time.time()\n",
    "    backTrack.counter_calls=0\n",
    "    print(backTrack(variables1,instance,contraintes,strategy_number=1,exhaustif=False))\n",
    "    t1=time.time()\n",
    "    print(\"test backtrack simple, apres AC3:\", t1-t0)\n",
    "    \n",
    "    t0=time.time()\n",
    "    backTrack.counter_calls=0\n",
    "    print(backTrack(variables2,instance,contraintes,strategy_number=1,exhaustif=False,forward=True))\n",
    "    t1=time.time()\n",
    "    print(\"test backtrack forward, apres AC4\", t1-t0)"
   ]
  },
  {
   "cell_type": "markdown",
   "metadata": {},
   "source": [
    "Comparaison stratégies de branchements pour myciel3.col"
   ]
  },
  {
   "cell_type": "code",
   "execution_count": null,
   "metadata": {},
   "outputs": [],
   "source": [
    "for i in range(1,8):\n",
    "    print(\"*--*-*-*-*-\")\n",
    "    print('Strategie de branchement numéro',i)\n",
    "    solutions=[]\n",
    "    backTrack.counter_calls=0\n",
    "    variables,contraintes=reines(13)\n",
    "    nSommets,aretes=readGraph(myciel3.col)\n",
    "    variables,contraintes=colorGraph(nSommets,aretes,nCol)\n",
    "    ac_3_bis(variables,contraintes)\n",
    "    if i in [4,5,7]:\n",
    "        dict_ratios_vars=build_dict_var_ratio_domain_constraints(variables,contraintes)\n",
    "        dict_var_number_constraints_copy=build_dict_var_ratio_domain_constraints(variables,contraintes)\n",
    "    instance=dict()\n",
    "    instance={}\n",
    "    strat_number=i\n",
    "    t0=time.time()\n",
    "    backTrack(variables,instance,contraintes,strategy_number=strat_number,\n",
    "          dict_var_number_constraints=dict_var_number_constraints_copy,\n",
    "          dict_ratios=dict_ratios_vars,\n",
    "          exhaustif=False,\n",
    "          forward=False)\n",
    "    t1=time.time()\n",
    "    print('number of calls',backTrack.counter_calls)\n",
    "    print('duration',t1-t0)"
   ]
  }
 ],
 "metadata": {
  "kernelspec": {
   "display_name": "Python 3",
   "language": "python",
   "name": "python3"
  },
  "language_info": {
   "codemirror_mode": {
    "name": "ipython",
    "version": 3
   },
   "file_extension": ".py",
   "mimetype": "text/x-python",
   "name": "python",
   "nbconvert_exporter": "python",
   "pygments_lexer": "ipython3",
   "version": "3.7.4"
  }
 },
 "nbformat": 4,
 "nbformat_minor": 2
}
